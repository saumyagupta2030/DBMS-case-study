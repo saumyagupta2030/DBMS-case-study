{
 "cells": [
  {
   "cell_type": "code",
   "execution_count": 1,
   "id": "01f22c7e",
   "metadata": {},
   "outputs": [
    {
     "name": "stderr",
     "output_type": "stream",
     "text": [
      "Setting default log level to \"WARN\".\n",
      "To adjust logging level use sc.setLogLevel(newLevel). For SparkR, use setLogLevel(newLevel).\n",
      "23/09/25 04:03:53 WARN NativeCodeLoader: Unable to load native-hadoop library for your platform... using builtin-java classes where applicable\n"
     ]
    }
   ],
   "source": [
    "import findspark\n",
    "findspark.init()\n",
    "from pyspark.sql import SparkSession\n",
    "spark = SparkSession.builder.appName(\"example\").getOrCreate()"
   ]
  },
  {
   "cell_type": "code",
   "execution_count": 7,
   "id": "ccb12877",
   "metadata": {},
   "outputs": [],
   "source": [
    "import datetime\n",
    "from pyspark.sql import Row\n",
    "users = [\n",
    "    {\n",
    "        \"id\": 1,\n",
    "        \"first_name\": \"Corrie\",\n",
    "        \"last_name\": \"Van den Oord\",\n",
    "        \"email\": \"cvandenoord0@etsy.com\",\n",
    "        \"gender\": \"male\",\n",
    "        \"current_city\": \"Dallas\",\n",
    "        \"phone_numbers\": Row(mobile=\"+1 234 567 8901\", home=\"+1 234 567 8911\"),\n",
    "        \"courses\": [1, 2],\n",
    "        \"is_customer\": True,\n",
    "        \"amount_paid\": 1000.55,\n",
    "        \"customer_from\": datetime.date(2021, 1, 15),\n",
    "        \"last_updated_ts\": datetime.datetime(2021, 2, 10, 1, 15, 0)\n",
    "    },\n",
    "    {\n",
    "        \"id\": 2,\n",
    "        \"first_name\": \"Nikolaus\",\n",
    "        \"last_name\": \"Brewitt\",\n",
    "        \"email\": \"nbrewitt1@dailymail.co.uk\",\n",
    "        \"gender\": \"male\",\n",
    "        \"current_city\": \"Houston\",\n",
    "        \"phone_numbers\":  Row(mobile=\"+1 234 567 8923\", home=\"1 234 567 8934\"),\n",
    "        \"courses\": [3],\n",
    "        \"is_customer\": True,\n",
    "        \"amount_paid\": 900.0,\n",
    "        \"customer_from\": datetime.date(2021, 2, 14),\n",
    "        \"last_updated_ts\": datetime.datetime(2021, 2, 18, 3, 33, 0)\n",
    "    },\n",
    "    {\n",
    "        \"id\": 3,\n",
    "        \"first_name\": \"Orelie\",\n",
    "        \"last_name\": \"Penney\",\n",
    "        \"email\": \"openney2@vistaprint.com\",\n",
    "        \"gender\": \"female\",\n",
    "        \"current_city\": \"\",\n",
    "        \"phone_numbers\": Row(mobile=\"+1 714 512 9752\", home=\"+1 714 512 6601\"),\n",
    "        \"courses\": [2, 4],\n",
    "        \"is_customer\": True,\n",
    "        \"amount_paid\": 850.55,\n",
    "        \"customer_from\": datetime.date(2021, 1, 21),\n",
    "        \"last_updated_ts\": datetime.datetime(2021, 3, 15, 15, 16, 55)\n",
    "    },\n",
    "    {\n",
    "        \"id\": 4,\n",
    "        \"first_name\": \"Ashby\",\n",
    "        \"last_name\": \"Maddocks\",\n",
    "        \"email\": \"amaddocks3@home.pl\",\n",
    "        \"gender\": \"male\",\n",
    "        \"current_city\": \"San Fransisco\",\n",
    "        \"phone_numbers\": Row(mobile=None, home=None),\n",
    "        \"courses\": [],\n",
    "        \"is_customer\": False,\n",
    "        \"amount_paid\": None,\n",
    "        \"customer_from\": None,\n",
    "        \"last_updated_ts\": datetime.datetime(2021, 4, 10, 17, 45, 30)\n",
    "    },\n",
    "    {\n",
    "        \"id\": 5,\n",
    "        \"first_name\": \"Kurt\",\n",
    "        \"last_name\": \"Rome\",\n",
    "        \"email\": \"krome4@shutterfly.com\",\n",
    "        \"gender\": \"female\",\n",
    "        \"current_city\": None,\n",
    "        \"phone_numbers\": Row(mobile=\"+1 817 934 7142\", home=None),\n",
    "        \"courses\": [],\n",
    "        \"is_customer\": False,\n",
    "        \"amount_paid\": None,\n",
    "        \"customer_from\": None,\n",
    "        \"last_updated_ts\": datetime.datetime(2021, 4, 2, 0, 55, 18)\n",
    "    }\n",
    "]"
   ]
  },
  {
   "cell_type": "code",
   "execution_count": 8,
   "id": "91c09910",
   "metadata": {},
   "outputs": [],
   "source": [
    "df=spark.createDataFrame(users)"
   ]
  },
  {
   "cell_type": "code",
   "execution_count": 12,
   "id": "818086f6",
   "metadata": {},
   "outputs": [
    {
     "name": "stdout",
     "output_type": "stream",
     "text": [
      "+---+-------------+\n",
      "| id| current_city|\n",
      "+---+-------------+\n",
      "|  1|       Dallas|\n",
      "|  2|      Houston|\n",
      "|  3|             |\n",
      "|  4|San Fransisco|\n",
      "+---+-------------+\n",
      "\n"
     ]
    }
   ],
   "source": [
    "df\\\n",
    ".select(\"id\",\"current_city\")\\\n",
    ".where('current_city IS NOT NULL')\\\n",
    ".show()"
   ]
  },
  {
   "cell_type": "code",
   "execution_count": 13,
   "id": "74d9a7ec",
   "metadata": {},
   "outputs": [
    {
     "name": "stdout",
     "output_type": "stream",
     "text": [
      "+-----------+-------+-------------+-------------+--------------------+----------+------+---+-----------+------------+-------------------+--------------------+\n",
      "|amount_paid|courses| current_city|customer_from|               email|first_name|gender| id|is_customer|   last_name|    last_updated_ts|       phone_numbers|\n",
      "+-----------+-------+-------------+-------------+--------------------+----------+------+---+-----------+------------+-------------------+--------------------+\n",
      "|    1000.55| [1, 2]|       Dallas|   2021-01-15|cvandenoord0@etsy...|    Corrie|  male|  1|       true|Van den Oord|2021-02-10 01:15:00|{+1 234 567 8901,...|\n",
      "|      900.0|    [3]|      Houston|   2021-02-14|nbrewitt1@dailyma...|  Nikolaus|  male|  2|       true|     Brewitt|2021-02-18 03:33:00|{+1 234 567 8923,...|\n",
      "|     850.55| [2, 4]|             |   2021-01-21|openney2@vistapri...|    Orelie|female|  3|       true|      Penney|2021-03-15 15:16:55|{+1 714 512 9752,...|\n",
      "|       null|     []|San Fransisco|         null|  amaddocks3@home.pl|     Ashby|  male|  4|      false|    Maddocks|2021-04-10 17:45:30|        {null, null}|\n",
      "|       null|     []|         null|         null|krome4@shutterfly...|      Kurt|female|  5|      false|        Rome|2021-04-02 00:55:18|{+1 817 934 7142,...|\n",
      "+-----------+-------+-------------+-------------+--------------------+----------+------+---+-----------+------------+-------------------+--------------------+\n",
      "\n"
     ]
    }
   ],
   "source": [
    "df.show()"
   ]
  },
  {
   "cell_type": "code",
   "execution_count": 9,
   "id": "294b7d21",
   "metadata": {},
   "outputs": [],
   "source": [
    "from pyspark.sql.functions import * "
   ]
  },
  {
   "cell_type": "code",
   "execution_count": 10,
   "id": "04b6de7a",
   "metadata": {},
   "outputs": [
    {
     "name": "stderr",
     "output_type": "stream",
     "text": [
      "                                                                                \r"
     ]
    },
    {
     "name": "stdout",
     "output_type": "stream",
     "text": [
      "+---+-------------+\n",
      "| id| current_city|\n",
      "+---+-------------+\n",
      "|  1|       Dallas|\n",
      "|  2|      Houston|\n",
      "|  3|             |\n",
      "|  4|San Fransisco|\n",
      "+---+-------------+\n",
      "\n"
     ]
    }
   ],
   "source": [
    "df.select(\"id\",\"current_city\").filter(col(\"current_city\").isNotNull()).show()"
   ]
  },
  {
   "cell_type": "code",
   "execution_count": 11,
   "id": "708261ad",
   "metadata": {},
   "outputs": [
    {
     "name": "stdout",
     "output_type": "stream",
     "text": [
      "+---+-------------+\n",
      "| id|customer_from|\n",
      "+---+-------------+\n",
      "|  4|         null|\n",
      "|  5|         null|\n",
      "+---+-------------+\n",
      "\n"
     ]
    }
   ],
   "source": [
    "df.select(\"id\",\"customer_from\").where(\"customer_from IS NULL\").show()"
   ]
  },
  {
   "cell_type": "code",
   "execution_count": 14,
   "id": "11d5b19b",
   "metadata": {},
   "outputs": [
    {
     "name": "stdout",
     "output_type": "stream",
     "text": [
      "+---+-------------+\n",
      "| id|customer_from|\n",
      "+---+-------------+\n",
      "|  1|   2021-01-15|\n",
      "|  2|   2021-02-14|\n",
      "|  3|   2021-01-21|\n",
      "|  4|         null|\n",
      "|  5|         null|\n",
      "+---+-------------+\n",
      "\n"
     ]
    }
   ],
   "source": [
    "df.select(\"id\",\"customer_from\").show()"
   ]
  },
  {
   "cell_type": "code",
   "execution_count": 15,
   "id": "d39f1fe8",
   "metadata": {},
   "outputs": [
    {
     "name": "stdout",
     "output_type": "stream",
     "text": [
      "+---+-------------+-------------+\n",
      "| id| current_city|customer_from|\n",
      "+---+-------------+-------------+\n",
      "|  5|         null|         null|\n",
      "|  3|             |   2021-01-21|\n",
      "|  1|       Dallas|   2021-01-15|\n",
      "|  2|      Houston|   2021-02-14|\n",
      "|  4|San Fransisco|         null|\n",
      "+---+-------------+-------------+\n",
      "\n"
     ]
    }
   ],
   "source": [
    "df.select(\"id\", \"current_city\", \"customer_from\").orderBy(\"current_city\").show()"
   ]
  },
  {
   "cell_type": "code",
   "execution_count": null,
   "id": "c3ed86c9",
   "metadata": {},
   "outputs": [],
   "source": [
    "df.select(\"id\", \"current_city\", \"customer_from\").orderBy(\"current_city\").show()"
   ]
  },
  {
   "cell_type": "code",
   "execution_count": 16,
   "id": "328d0be5",
   "metadata": {},
   "outputs": [
    {
     "name": "stdout",
     "output_type": "stream",
     "text": [
      "+---+-------------+-------------+\n",
      "| id| current_city|customer_from|\n",
      "+---+-------------+-------------+\n",
      "|  4|San Fransisco|         null|\n",
      "|  2|      Houston|   2021-02-14|\n",
      "|  1|       Dallas|   2021-01-15|\n",
      "|  3|             |   2021-01-21|\n",
      "|  5|         null|         null|\n",
      "+---+-------------+-------------+\n",
      "\n"
     ]
    }
   ],
   "source": [
    "df.select(\"id\", \"current_city\", \"customer_from\").orderBy(\"current_city\", ascending = False).show()"
   ]
  },
  {
   "cell_type": "code",
   "execution_count": 20,
   "id": "a1cdcae5",
   "metadata": {},
   "outputs": [
    {
     "name": "stdout",
     "output_type": "stream",
     "text": [
      "+---+-------------+-------------+\n",
      "| id| current_city|customer_from|\n",
      "+---+-------------+-------------+\n",
      "|  2|      Houston|   2021-02-14|\n",
      "|  3|             |   2021-01-21|\n",
      "|  1|       Dallas|   2021-01-15|\n",
      "|  4|San Fransisco|         null|\n",
      "|  5|         null|         null|\n",
      "+---+-------------+-------------+\n",
      "\n"
     ]
    }
   ],
   "source": [
    "df.select(\"id\", \"current_city\", \"customer_from\").orderBy(col(\"customer_from\").desc()).show()"
   ]
  },
  {
   "cell_type": "code",
   "execution_count": 21,
   "id": "0e5a3a58",
   "metadata": {},
   "outputs": [
    {
     "name": "stdout",
     "output_type": "stream",
     "text": [
      "+---+-------------+-------------+\n",
      "| id| current_city|customer_from|\n",
      "+---+-------------+-------------+\n",
      "|  2|      Houston|   2021-02-14|\n",
      "|  3|             |   2021-01-21|\n",
      "|  1|       Dallas|   2021-01-15|\n",
      "|  4|San Fransisco|         null|\n",
      "|  5|         null|         null|\n",
      "+---+-------------+-------------+\n",
      "\n"
     ]
    }
   ],
   "source": [
    "df.select(\"id\",\"current_city\",\"customer_from\").orderBy(desc_nulls_last(\"customer_from\")).show()"
   ]
  },
  {
   "cell_type": "code",
   "execution_count": 25,
   "id": "a306301e",
   "metadata": {},
   "outputs": [],
   "source": [
    "zipdf = spark.read.option(\"header\", True).option(\"inferSchema\", True).csv(\"/home/labuser/Desktop/Python/zipcode.csv\")"
   ]
  },
  {
   "cell_type": "code",
   "execution_count": 26,
   "id": "1bc9e662",
   "metadata": {},
   "outputs": [
    {
     "name": "stdout",
     "output_type": "stream",
     "text": [
      "+---+-------+--------+-------------------+-----+----------+\n",
      "| id|zipcode|    type|               city|state|population|\n",
      "+---+-------+--------+-------------------+-----+----------+\n",
      "|  1|    704|STANDARD|               null|   PR|     30100|\n",
      "|  2|    704|    null|PASEO COSTA DEL SUR|   PR|      null|\n",
      "|  3|    709|    null|       BDA SAN LUIS|   PR|      3700|\n",
      "|  4|  76166|  UNIQUE|  CINGULAR WIRELESS|   TX|     84000|\n",
      "|  5|  76177|STANDARD|               null|   TX|      null|\n",
      "|  1|    704|STANDARD|               null|   PR|     30100|\n",
      "|  1|    704|STANDARD|               null|   PR|     30100|\n",
      "+---+-------+--------+-------------------+-----+----------+\n",
      "\n"
     ]
    }
   ],
   "source": [
    "zipdf.show()"
   ]
  },
  {
   "cell_type": "code",
   "execution_count": 27,
   "id": "9410812f",
   "metadata": {},
   "outputs": [
    {
     "data": {
      "text/plain": [
       "[('id', 'int'),\n",
       " ('zipcode', 'int'),\n",
       " ('type', 'string'),\n",
       " ('city', 'string'),\n",
       " ('state', 'string'),\n",
       " ('population', 'int')]"
      ]
     },
     "execution_count": 27,
     "metadata": {},
     "output_type": "execute_result"
    }
   ],
   "source": [
    "zipdf.dtypes"
   ]
  },
  {
   "cell_type": "code",
   "execution_count": 33,
   "id": "66e545c1",
   "metadata": {},
   "outputs": [],
   "source": [
    "zipdf1 = zipdf.drop_duplicates().orderBy('id')"
   ]
  },
  {
   "cell_type": "code",
   "execution_count": 35,
   "id": "0ebfcf41",
   "metadata": {},
   "outputs": [
    {
     "name": "stdout",
     "output_type": "stream",
     "text": [
      "+---+-------+--------+-------------------+-----+----------+\n",
      "| id|zipcode|    type|               city|state|population|\n",
      "+---+-------+--------+-------------------+-----+----------+\n",
      "|  1|    704|STANDARD|               null|   PR|     30100|\n",
      "|  2|    704|    null|PASEO COSTA DEL SUR|   PR|      null|\n",
      "|  3|    709|    null|       BDA SAN LUIS|   PR|      3700|\n",
      "|  4|  76166|  UNIQUE|  CINGULAR WIRELESS|   TX|     84000|\n",
      "|  5|  76177|STANDARD|               null|   TX|      null|\n",
      "+---+-------+--------+-------------------+-----+----------+\n",
      "\n"
     ]
    }
   ],
   "source": [
    "zipdf1.show()"
   ]
  },
  {
   "cell_type": "code",
   "execution_count": 36,
   "id": "297c6df8",
   "metadata": {},
   "outputs": [
    {
     "name": "stdout",
     "output_type": "stream",
     "text": [
      "+---+-------+------+-----------------+-----+----------+\n",
      "| id|zipcode|  type|             city|state|population|\n",
      "+---+-------+------+-----------------+-----+----------+\n",
      "|  4|  76166|UNIQUE|CINGULAR WIRELESS|   TX|     84000|\n",
      "+---+-------+------+-----------------+-----+----------+\n",
      "\n"
     ]
    }
   ],
   "source": [
    "zipdf1.dropna().show()"
   ]
  },
  {
   "cell_type": "code",
   "execution_count": 37,
   "id": "1d8341fe",
   "metadata": {},
   "outputs": [
    {
     "name": "stdout",
     "output_type": "stream",
     "text": [
      "+---+-------+------+-----------------+-----+----------+\n",
      "| id|zipcode|  type|             city|state|population|\n",
      "+---+-------+------+-----------------+-----+----------+\n",
      "|  4|  76166|UNIQUE|CINGULAR WIRELESS|   TX|     84000|\n",
      "+---+-------+------+-----------------+-----+----------+\n",
      "\n"
     ]
    }
   ],
   "source": [
    "zipdf1.na.drop().show()"
   ]
  },
  {
   "cell_type": "code",
   "execution_count": 38,
   "id": "de81ca69",
   "metadata": {},
   "outputs": [
    {
     "name": "stdout",
     "output_type": "stream",
     "text": [
      "+---+-------+--------+-----------------+-----+----------+\n",
      "| id|zipcode|    type|             city|state|population|\n",
      "+---+-------+--------+-----------------+-----+----------+\n",
      "|  1|    704|STANDARD|             null|   PR|     30100|\n",
      "|  3|    709|    null|     BDA SAN LUIS|   PR|      3700|\n",
      "|  4|  76166|  UNIQUE|CINGULAR WIRELESS|   TX|     84000|\n",
      "+---+-------+--------+-----------------+-----+----------+\n",
      "\n"
     ]
    }
   ],
   "source": [
    "zipdf1.na.drop(subset = \"population\").show()"
   ]
  },
  {
   "cell_type": "code",
   "execution_count": 39,
   "id": "c549efae",
   "metadata": {},
   "outputs": [
    {
     "name": "stdout",
     "output_type": "stream",
     "text": [
      "+---+-------+--------+-----------------+-----+----------+\n",
      "| id|zipcode|    type|             city|state|population|\n",
      "+---+-------+--------+-----------------+-----+----------+\n",
      "|  1|    704|STANDARD|             null|   PR|     30100|\n",
      "|  4|  76166|  UNIQUE|CINGULAR WIRELESS|   TX|     84000|\n",
      "|  5|  76177|STANDARD|             null|   TX|      null|\n",
      "+---+-------+--------+-----------------+-----+----------+\n",
      "\n"
     ]
    }
   ],
   "source": [
    "zipdf1.dropna(\"all\",subset=\"type\").show()"
   ]
  },
  {
   "cell_type": "code",
   "execution_count": 40,
   "id": "0058f1b3",
   "metadata": {},
   "outputs": [
    {
     "name": "stdout",
     "output_type": "stream",
     "text": [
      "+---+-------+--------+-------------------+-----+----------+\n",
      "| id|zipcode|    type|               city|state|population|\n",
      "+---+-------+--------+-------------------+-----+----------+\n",
      "|  1|    704|STANDARD|               null|   PR|     30100|\n",
      "|  2|    704|    null|PASEO COSTA DEL SUR|   PR|     30000|\n",
      "|  3|    709|    null|       BDA SAN LUIS|   PR|      3700|\n",
      "|  4|  76166|  UNIQUE|  CINGULAR WIRELESS|   TX|     84000|\n",
      "|  5|  76177|STANDARD|               null|   TX|     30000|\n",
      "+---+-------+--------+-------------------+-----+----------+\n",
      "\n"
     ]
    }
   ],
   "source": [
    "zipdf1.fillna(30000).show()"
   ]
  },
  {
   "cell_type": "code",
   "execution_count": 41,
   "id": "78d53a1f",
   "metadata": {},
   "outputs": [
    {
     "name": "stdout",
     "output_type": "stream",
     "text": [
      "+---+-------+--------+-------------------+-----+----------+\n",
      "| id|zipcode|    type|               city|state|population|\n",
      "+---+-------+--------+-------------------+-----+----------+\n",
      "|  1|    704|STANDARD|               null|   PR|     30100|\n",
      "|  2|    704|    null|PASEO COSTA DEL SUR|   PR|     30000|\n",
      "|  3|    709|    null|       BDA SAN LUIS|   PR|      3700|\n",
      "|  4|  76166|  UNIQUE|  CINGULAR WIRELESS|   TX|     84000|\n",
      "|  5|  76177|STANDARD|               null|   TX|     30000|\n",
      "+---+-------+--------+-------------------+-----+----------+\n",
      "\n"
     ]
    }
   ],
   "source": [
    "zipdf1.na.fill(30000).show()"
   ]
  },
  {
   "cell_type": "code",
   "execution_count": 42,
   "id": "e87e729c",
   "metadata": {},
   "outputs": [
    {
     "name": "stdout",
     "output_type": "stream",
     "text": [
      "+---+-------+--------+-------------------+-----+----------+\n",
      "| id|zipcode|    type|               city|state|population|\n",
      "+---+-------+--------+-------------------+-----+----------+\n",
      "|  1|    704|STANDARD|             Mumbai|   PR|     30100|\n",
      "|  2|    704|  Mumbai|PASEO COSTA DEL SUR|   PR|      null|\n",
      "|  3|    709|  Mumbai|       BDA SAN LUIS|   PR|      3700|\n",
      "|  4|  76166|  UNIQUE|  CINGULAR WIRELESS|   TX|     84000|\n",
      "|  5|  76177|STANDARD|             Mumbai|   TX|      null|\n",
      "+---+-------+--------+-------------------+-----+----------+\n",
      "\n"
     ]
    }
   ],
   "source": [
    "zipdf1.na.fill(\"Mumbai\").show()"
   ]
  },
  {
   "cell_type": "code",
   "execution_count": 51,
   "id": "b8dd564a",
   "metadata": {},
   "outputs": [
    {
     "name": "stdout",
     "output_type": "stream",
     "text": [
      "+---+-------+--------+-------------------+-----+----------+\n",
      "| id|zipcode|    type|               city|state|population|\n",
      "+---+-------+--------+-------------------+-----+----------+\n",
      "|  1|    704|STANDARD|             Mumbai|   PR|     30100|\n",
      "|  2|    704|     VIP|PASEO COSTA DEL SUR|   PR|     30000|\n",
      "|  3|    709|     VIP|       BDA SAN LUIS|   PR|      3700|\n",
      "|  4|  76166|  UNIQUE|  CINGULAR WIRELESS|   TX|     84000|\n",
      "|  5|  76177|STANDARD|             Mumbai|   TX|     30000|\n",
      "+---+-------+--------+-------------------+-----+----------+\n",
      "\n"
     ]
    }
   ],
   "source": [
    "zipdf1.na.fill({'population': 30000, 'city': 'Mumbai', 'type':'VIP'}).show()"
   ]
  },
  {
   "cell_type": "code",
   "execution_count": 47,
   "id": "68e8d1c6",
   "metadata": {},
   "outputs": [
    {
     "name": "stdout",
     "output_type": "stream",
     "text": [
      "+---+-------+--------+-----------------+-----+----------+\n",
      "| id|zipcode|    type|             city|state|population|\n",
      "+---+-------+--------+-----------------+-----+----------+\n",
      "|  1|    704|STANDARD|             null|   PR|     30100|\n",
      "|  3|    709|    null|     BDA SAN LUIS|   PR|      3700|\n",
      "|  4|  76166|  UNIQUE|CINGULAR WIRELESS|   TX|     84000|\n",
      "+---+-------+--------+-----------------+-----+----------+\n",
      "\n"
     ]
    }
   ],
   "source": [
    "zipdf1.na.drop(thresh = 5).show()"
   ]
  },
  {
   "cell_type": "code",
   "execution_count": 55,
   "id": "714b6eca",
   "metadata": {},
   "outputs": [],
   "source": [
    "zipdf2 = zipdf1.na.fill({'population': 30000, 'city': 'Mumbai', 'type':'VIP'})"
   ]
  },
  {
   "cell_type": "code",
   "execution_count": 56,
   "id": "84a9eb0b",
   "metadata": {},
   "outputs": [
    {
     "name": "stdout",
     "output_type": "stream",
     "text": [
      "+---+-------+--------+-------------------+-----+----------+\n",
      "| id|zipcode|    type|               city|state|population|\n",
      "+---+-------+--------+-------------------+-----+----------+\n",
      "|  1|    704|STANDARD|              Delhi|   PR|     30100|\n",
      "|  2|    704|     VIP|PASEO COSTA DEL SUR|   PR|     30000|\n",
      "|  3|    709|     VIP|       BDA SAN LUIS|   PR|      3700|\n",
      "|  4|  76166|  UNIQUE|  CINGULAR WIRELESS|   TX|     84000|\n",
      "|  5|  76177|STANDARD|              Delhi|   TX|     30000|\n",
      "+---+-------+--------+-------------------+-----+----------+\n",
      "\n"
     ]
    }
   ],
   "source": [
    "zipdf2.replace(\"Mumbai\", \"Delhi\").show()"
   ]
  },
  {
   "cell_type": "code",
   "execution_count": 58,
   "id": "dc0758f7",
   "metadata": {},
   "outputs": [
    {
     "name": "stdout",
     "output_type": "stream",
     "text": [
      "+---+-------------+-------------+\n",
      "| id| current_city|customer_from|\n",
      "+---+-------------+-------------+\n",
      "|  1|       Dallas|   2021-01-15|\n",
      "|  2|      Houston|   2021-02-14|\n",
      "|  3|           LA|   2021-01-21|\n",
      "|  4|San Fransisco|         null|\n",
      "|  5|         null|         null|\n",
      "+---+-------------+-------------+\n",
      "\n"
     ]
    }
   ],
   "source": [
    "df.select(\"id\", \"current_city\", \"customer_from\").replace(\"\", \"LA\").show()"
   ]
  },
  {
   "cell_type": "code",
   "execution_count": 59,
   "id": "6b212ae2",
   "metadata": {},
   "outputs": [
    {
     "name": "stdout",
     "output_type": "stream",
     "text": [
      "+---+-------------+-------------+\n",
      "| id| current_city|customer_from|\n",
      "+---+-------------+-------------+\n",
      "|  1|           LA|   2021-01-15|\n",
      "|  2|      Houston|   2021-02-14|\n",
      "|  3|             |   2021-01-21|\n",
      "|  4|San Fransisco|         null|\n",
      "|  5|         null|         null|\n",
      "+---+-------------+-------------+\n",
      "\n"
     ]
    }
   ],
   "source": [
    "df.select(\"id\", \"current_city\", \"customer_from\").replace(\"Dallas\", \"LA\", subset = \"current_city\").show()"
   ]
  },
  {
   "cell_type": "code",
   "execution_count": 63,
   "id": "023db9fa",
   "metadata": {},
   "outputs": [
    {
     "name": "stdout",
     "output_type": "stream",
     "text": [
      "+---+-------------+-------------+\n",
      "| id| current_city|customer_from|\n",
      "+---+-------------+-------------+\n",
      "|  1|           LA|   2021-01-15|\n",
      "|  2|      Houston|   2021-02-14|\n",
      "|  3|             |   2021-01-21|\n",
      "|  4|San Fransisco|         null|\n",
      "|  5|         null|         null|\n",
      "+---+-------------+-------------+\n",
      "\n"
     ]
    }
   ],
   "source": [
    "df.select(\"id\", \"current_city\", \"customer_from\").replace(\"Dallas\", \"LA\", subset = \"current_city\").show()"
   ]
  },
  {
   "cell_type": "code",
   "execution_count": 64,
   "id": "ae8f65e4",
   "metadata": {},
   "outputs": [],
   "source": [
    "baby_names = spark.read.option(\"header\", True).option(\"inferSchema\", True).csv(\"/home/labuser/Desktop/Python/Baby_Names.csv\")"
   ]
  },
  {
   "cell_type": "code",
   "execution_count": 66,
   "id": "a9a65715",
   "metadata": {},
   "outputs": [
    {
     "name": "stdout",
     "output_type": "stream",
     "text": [
      "+----+----------+-----------+---+-----+\n",
      "|Year|First Name|     County|Sex|Count|\n",
      "+----+----------+-----------+---+-----+\n",
      "|2007|      ZOEY|      KINGS|  F|   11|\n",
      "|2007|      ZOEY|    SUFFOLK|  F|    6|\n",
      "|2007|      ZOEY|     MONROE|  F|    6|\n",
      "|2007|      ZOEY|       ERIE|  F|    9|\n",
      "|2007|       ZOE|     ULSTER|  F|    5|\n",
      "|2007|       ZOE|WESTCHESTER|  F|   24|\n",
      "|2007|       ZOE|      BRONX|  F|   13|\n",
      "|2007|       ZOE|   NEW YORK|  F|   55|\n",
      "|2007|       ZOE|     NASSAU|  F|   15|\n",
      "|2007|       ZOE|       ERIE|  F|    6|\n",
      "|2007|       ZOE|    SUFFOLK|  F|   14|\n",
      "|2007|       ZOE|      KINGS|  F|   34|\n",
      "|2007|       ZOE|     MONROE|  F|    9|\n",
      "|2007|       ZOE|     QUEENS|  F|   26|\n",
      "|2007|       ZOE|     ALBANY|  F|    5|\n",
      "|2007|     ZISSY|   ROCKLAND|  F|    5|\n",
      "|2007|     ZISSY|      KINGS|  F|   27|\n",
      "|2007|      ZION|      KINGS|  M|   15|\n",
      "|2007|      ZION|      BRONX|  M|   14|\n",
      "|2007|       ZEV|   ROCKLAND|  M|    6|\n",
      "+----+----------+-----------+---+-----+\n",
      "only showing top 20 rows\n",
      "\n"
     ]
    }
   ],
   "source": [
    "baby_names.show()"
   ]
  },
  {
   "cell_type": "code",
   "execution_count": 67,
   "id": "f56e307d",
   "metadata": {},
   "outputs": [
    {
     "name": "stdout",
     "output_type": "stream",
     "text": [
      "+----+-----+\n",
      "|Year|count|\n",
      "+----+-----+\n",
      "|2007| 6367|\n",
      "|2013| 6158|\n",
      "|2014| 8362|\n",
      "|2012| 6164|\n",
      "|2009| 6312|\n",
      "|2010| 6192|\n",
      "|2011| 6216|\n",
      "|2008| 6481|\n",
      "+----+-----+\n",
      "\n"
     ]
    }
   ],
   "source": [
    "baby_names.groupBy(\"Year\").count().show()"
   ]
  },
  {
   "cell_type": "code",
   "execution_count": 69,
   "id": "8a7c60bb",
   "metadata": {},
   "outputs": [
    {
     "name": "stdout",
     "output_type": "stream",
     "text": [
      "+----+-----+\n",
      "|Year|count|\n",
      "+----+-----+\n",
      "|2014| 8362|\n",
      "|2013| 6158|\n",
      "|2012| 6164|\n",
      "|2011| 6216|\n",
      "|2010| 6192|\n",
      "|2009| 6312|\n",
      "|2008| 6481|\n",
      "|2007| 6367|\n",
      "+----+-----+\n",
      "\n"
     ]
    }
   ],
   "source": [
    "baby_names.groupBy(\"Year\").count().sort(col(\"Year\").desc()).show()"
   ]
  },
  {
   "cell_type": "code",
   "execution_count": 70,
   "id": "bf196faf",
   "metadata": {},
   "outputs": [
    {
     "name": "stderr",
     "output_type": "stream",
     "text": [
      "                                                                                \r"
     ]
    }
   ],
   "source": [
    "baby_names.write.mode(\"overwrite\").parquet(\"/Processed Data/Baby Names/baby.parquet\")"
   ]
  },
  {
   "cell_type": "code",
   "execution_count": 71,
   "id": "de917984",
   "metadata": {},
   "outputs": [
    {
     "data": {
      "text/plain": [
       "52252"
      ]
     },
     "execution_count": 71,
     "metadata": {},
     "output_type": "execute_result"
    }
   ],
   "source": [
    "baby_names.count()"
   ]
  },
  {
   "cell_type": "code",
   "execution_count": 74,
   "id": "455f3749",
   "metadata": {},
   "outputs": [
    {
     "name": "stderr",
     "output_type": "stream",
     "text": [
      "23/09/25 06:01:45 WARN HadoopFSUtils: The directory file:/home/labuser/Desktop/Python/spark-warehouse/home/labuser/Desktop/Python/Processed Data/Baby Names/babytableparquet was not found. Was it deleted very recently?\n"
     ]
    }
   ],
   "source": [
    "baby_names.write\\\n",
    ".mode(\"overwrite\")\\\n",
    ".option(\"path\", \"home/labuser/Desktop/Python/Processed Data/Baby Names/babytableparquet\").saveAsTable(\"babyNames\")"
   ]
  },
  {
   "cell_type": "code",
   "execution_count": 78,
   "id": "a045863a",
   "metadata": {},
   "outputs": [
    {
     "name": "stderr",
     "output_type": "stream",
     "text": [
      "\r",
      "[Stage 115:>                                                        (0 + 1) / 1]\r",
      "\r",
      "                                                                                \r",
      "23/09/25 06:05:05 WARN HadoopFSUtils: The directory file:/home/labuser/Desktop/Python/spark-warehouse/home/labuser/Desktop/Python/Processed Data/Baby Names/babyPartitionByYear was not found. Was it deleted very recently?\n"
     ]
    }
   ],
   "source": [
    "baby_names.write\\\n",
    ".mode(\"overwrite\")\\\n",
    ".partitionBy(\"Year\")\\\n",
    ".option(\"path\", \"/home/labuser/Desktop/Python/Processed Data/Baby Names/babyPartitionByYear\")\\\n",
    ".saveAsTable(\"babyNamesYear\")"
   ]
  },
  {
   "cell_type": "code",
   "execution_count": 86,
   "id": "83ce1e51",
   "metadata": {},
   "outputs": [
    {
     "name": "stdout",
     "output_type": "stream",
     "text": [
      "+----+----------+------+---+-----+\n",
      "|Year|First Name|County|Sex|Count|\n",
      "+----+----------+------+---+-----+\n",
      "+----+----------+------+---+-----+\n",
      "\n"
     ]
    }
   ],
   "source": [
    "spark.sql(\"select * from babynames where Year = 2008\").show()"
   ]
  },
  {
   "cell_type": "code",
   "execution_count": 88,
   "id": "14211523",
   "metadata": {},
   "outputs": [
    {
     "name": "stderr",
     "output_type": "stream",
     "text": [
      "                                                                                \r"
     ]
    }
   ],
   "source": [
    "baby_names.write\\\n",
    ".mode(\"overwrite\")\\\n",
    ".partitionBy(\"Year\",\"Sex\")\\\n",
    ".option(\"path\",\"/home/labuser/Desktop/Python/Processed Data/Baby_Names_Gender/\")\\\n",
    ".saveAsTable(\"babynames_year_gender\")"
   ]
  },
  {
   "cell_type": "code",
   "execution_count": 89,
   "id": "9346b585",
   "metadata": {},
   "outputs": [
    {
     "name": "stderr",
     "output_type": "stream",
     "text": [
      "                                                                                \r"
     ]
    }
   ],
   "source": [
    "baby_names.write\\\n",
    ".mode(\"overwrite\")\\\n",
    ".option(\"maxRecordsPerFile\", 5000)\\\n",
    ".partitionBy(\"Year\",\"Sex\")\\\n",
    ".option(\"path\",\"/home/labuser/Desktop/Python/Processed Data/Baby_Names_GenderMax5k/\")\\\n",
    ".saveAsTable(\"babynames_year_gender_max5K\")"
   ]
  },
  {
   "cell_type": "code",
   "execution_count": null,
   "id": "bfc13b46",
   "metadata": {},
   "outputs": [],
   "source": []
  }
 ],
 "metadata": {
  "kernelspec": {
   "display_name": "Python 3 (ipykernel)",
   "language": "python",
   "name": "python3"
  },
  "language_info": {
   "codemirror_mode": {
    "name": "ipython",
    "version": 3
   },
   "file_extension": ".py",
   "mimetype": "text/x-python",
   "name": "python",
   "nbconvert_exporter": "python",
   "pygments_lexer": "ipython3",
   "version": "3.11.4"
  }
 },
 "nbformat": 4,
 "nbformat_minor": 5
}
