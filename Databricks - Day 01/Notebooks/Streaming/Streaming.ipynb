{
 "cells": [
  {
   "cell_type": "code",
   "execution_count": 0,
   "metadata": {
    "application/vnd.databricks.v1+cell": {
     "cellMetadata": {
      "byteLimit": 2048000,
      "rowLimit": 10000
     },
     "inputWidgets": {},
     "nuid": "54506881-1de9-48e5-a740-27a6eda93faf",
     "showTitle": false,
     "title": ""
    }
   },
   "outputs": [
    {
     "output_type": "display_data",
     "data": {
      "text/html": [
       "<style scoped>\n",
       "  .table-result-container {\n",
       "    max-height: 300px;\n",
       "    overflow: auto;\n",
       "  }\n",
       "  table, th, td {\n",
       "    border: 1px solid black;\n",
       "    border-collapse: collapse;\n",
       "  }\n",
       "  th, td {\n",
       "    padding: 5px;\n",
       "  }\n",
       "  th {\n",
       "    text-align: left;\n",
       "  }\n",
       "</style><div class='table-result-container'><table class='table-result'><thead style='background-color: white'><tr><th>path</th><th>name</th><th>size</th><th>modificationTime</th></tr></thead><tbody><tr><td>dbfs:/FileStore/</td><td>FileStore/</td><td>0</td><td>1695710077000</td></tr><tr><td>dbfs:/Volume/</td><td>Volume/</td><td>0</td><td>0</td></tr><tr><td>dbfs:/Volumes/</td><td>Volumes/</td><td>0</td><td>0</td></tr><tr><td>dbfs:/databricks-datasets/</td><td>databricks-datasets/</td><td>0</td><td>0</td></tr><tr><td>dbfs:/databricks-results/</td><td>databricks-results/</td><td>0</td><td>0</td></tr><tr><td>dbfs:/mnt/</td><td>mnt/</td><td>0</td><td>1695717640000</td></tr><tr><td>dbfs:/user/</td><td>user/</td><td>0</td><td>1695706789000</td></tr><tr><td>dbfs:/volume/</td><td>volume/</td><td>0</td><td>0</td></tr><tr><td>dbfs:/volumes/</td><td>volumes/</td><td>0</td><td>0</td></tr></tbody></table></div>"
      ]
     },
     "metadata": {
      "application/vnd.databricks.v1+output": {
       "addedWidgets": {},
       "aggData": [],
       "aggError": "",
       "aggOverflow": false,
       "aggSchema": [],
       "aggSeriesLimitReached": false,
       "aggType": "",
       "arguments": {},
       "columnCustomDisplayInfos": {},
       "data": [
        [
         "dbfs:/FileStore/",
         "FileStore/",
         0,
         1695710077000
        ],
        [
         "dbfs:/Volume/",
         "Volume/",
         0,
         0
        ],
        [
         "dbfs:/Volumes/",
         "Volumes/",
         0,
         0
        ],
        [
         "dbfs:/databricks-datasets/",
         "databricks-datasets/",
         0,
         0
        ],
        [
         "dbfs:/databricks-results/",
         "databricks-results/",
         0,
         0
        ],
        [
         "dbfs:/mnt/",
         "mnt/",
         0,
         1695717640000
        ],
        [
         "dbfs:/user/",
         "user/",
         0,
         1695706789000
        ],
        [
         "dbfs:/volume/",
         "volume/",
         0,
         0
        ],
        [
         "dbfs:/volumes/",
         "volumes/",
         0,
         0
        ]
       ],
       "datasetInfos": [],
       "dbfsResultPath": null,
       "isJsonSchema": true,
       "metadata": {
        "isDbfsCommandResult": false
       },
       "overflow": false,
       "plotOptions": {
        "customPlotOptions": {},
        "displayType": "table",
        "pivotAggregation": null,
        "pivotColumns": null,
        "xColumns": null,
        "yColumns": null
       },
       "removedWidgets": [],
       "schema": [
        {
         "metadata": "{}",
         "name": "path",
         "type": "\"string\""
        },
        {
         "metadata": "{}",
         "name": "name",
         "type": "\"string\""
        },
        {
         "metadata": "{}",
         "name": "size",
         "type": "\"long\""
        },
        {
         "metadata": "{}",
         "name": "modificationTime",
         "type": "\"long\""
        }
       ],
       "type": "table"
      }
     },
     "output_type": "display_data"
    }
   ],
   "source": [
    "%fs ls"
   ]
  },
  {
   "cell_type": "markdown",
   "metadata": {
    "application/vnd.databricks.v1+cell": {
     "cellMetadata": {},
     "inputWidgets": {},
     "nuid": "84f416be-8e52-4288-839b-f741803d970d",
     "showTitle": false,
     "title": ""
    }
   },
   "source": [
    "##### For Batch\n",
    "**Read:**\n",
    "df = spark.read.csv(\"path\")\n",
    "\n",
    "**Write:**\n",
    "df.write.parquet(\"path\")\n",
    "\n",
    "\n",
    "##### For Streaming\n",
    "replace read with readStream & write with writeStream"
   ]
  },
  {
   "cell_type": "code",
   "execution_count": 0,
   "metadata": {
    "application/vnd.databricks.v1+cell": {
     "cellMetadata": {
      "byteLimit": 2048000,
      "rowLimit": 10000
     },
     "inputWidgets": {},
     "nuid": "e0f20e12-f744-4e44-a63b-22693e3fb8a7",
     "showTitle": false,
     "title": ""
    }
   },
   "outputs": [
    {
     "output_type": "execute_result",
     "data": {
      "text/plain": [
       "True"
      ]
     },
     "execution_count": 1,
     "metadata": {},
     "output_type": "execute_result"
    }
   ],
   "source": [
    "dbutils.fs.mount(\n",
    "  source = \"wasbs://inputfiles@saunext.blob.core.windows.net\",\n",
    "  mount_point = \"/mnt/saunext/inputfiles\",\n",
    "  extra_configs = {\"fs.azure.account.key.saunext.blob.core.windows.net\":\"UUDMjjk8JYIiTwHNyh8WCs3BShkfIL//HM/cUrbOrRmUH+HaoR/J5bM9MlWTYefbkqNo/bQzgs1M+AStEn3dkA==\"})"
   ]
  },
  {
   "cell_type": "code",
   "execution_count": 0,
   "metadata": {
    "application/vnd.databricks.v1+cell": {
     "cellMetadata": {
      "byteLimit": 2048000,
      "rowLimit": 10000
     },
     "inputWidgets": {},
     "nuid": "a2501ff0-589d-4a61-bd7e-682f175ca87d",
     "showTitle": false,
     "title": ""
    }
   },
   "outputs": [],
   "source": [
    "schema = \"timestamp timestamp, event_type string, user_id string, page_id string\"\n",
    "df = spark.readStream.schema(schema).json(\"dbfs:/mnt/saunext/inputfiles/inputstream/\")"
   ]
  },
  {
   "cell_type": "code",
   "execution_count": 0,
   "metadata": {
    "application/vnd.databricks.v1+cell": {
     "cellMetadata": {
      "byteLimit": 2048000,
      "rowLimit": 10000
     },
     "inputWidgets": {},
     "nuid": "6d9b4108-dedb-4ac0-a21f-eca5199730fe",
     "showTitle": false,
     "title": ""
    }
   },
   "outputs": [
    {
     "output_type": "display_data",
     "data": {
      "text/html": [
       "<style scoped>\n",
       "  .table-result-container {\n",
       "    max-height: 300px;\n",
       "    overflow: auto;\n",
       "  }\n",
       "  table, th, td {\n",
       "    border: 1px solid black;\n",
       "    border-collapse: collapse;\n",
       "  }\n",
       "  th, td {\n",
       "    padding: 5px;\n",
       "  }\n",
       "  th {\n",
       "    text-align: left;\n",
       "  }\n",
       "</style><div class='table-result-container'><table class='table-result'><thead style='background-color: white'><tr><th>timestamp</th><th>event_type</th><th>user_id</th><th>page_id</th></tr></thead><tbody><tr><td>2023-07-01T10:15:00.000+0000</td><td>login</td><td>user1</td><td>null</td></tr><tr><td>2023-07-02T10:20:00.000+0000</td><td>logout</td><td>user2</td><td>null</td></tr><tr><td>2023-07-03T10:25:00.000+0000</td><td>page_view</td><td>user1</td><td>page123</td></tr><tr><td>2023-07-04T10:30:00.000+0000</td><td>login</td><td>user3</td><td>null</td></tr><tr><td>2023-07-05T10:35:00.000+0000</td><td>page_view</td><td>user2</td><td>page456</td></tr><tr><td>2023-07-06T10:40:00.000+0000</td><td>logout</td><td>user3</td><td>null</td></tr><tr><td>2023-07-07T10:45:00.000+0000</td><td>page_view</td><td>user1</td><td>page789</td></tr><tr><td>2023-07-08T10:50:00.000+0000</td><td>login</td><td>user2</td><td>null</td></tr><tr><td>2023-07-09T10:55:00.000+0000</td><td>logout</td><td>user1</td><td>null</td></tr><tr><td>2023-07-10T11:00:00.000+0000</td><td>page_view</td><td>user2</td><td>page101</td></tr><tr><td>2023-07-11T11:05:00.000+0000</td><td>login</td><td>user1</td><td>null</td></tr><tr><td>2023-07-12T11:10:00.000+0000</td><td>page_view</td><td>user3</td><td>page222</td></tr><tr><td>2023-07-13T11:15:00.000+0000</td><td>login</td><td>user4</td><td>null</td></tr><tr><td>2023-07-14T11:20:00.000+0000</td><td>logout</td><td>user2</td><td>null</td></tr><tr><td>2023-07-15T11:25:00.000+0000</td><td>page_view</td><td>user1</td><td>page333</td></tr><tr><td>2023-07-16T11:30:00.000+0000</td><td>login</td><td>user4</td><td>null</td></tr><tr><td>2023-07-17T11:35:00.000+0000</td><td>page_view</td><td>user2</td><td>page444</td></tr><tr><td>2023-07-18T11:40:00.000+0000</td><td>logout</td><td>user3</td><td>null</td></tr><tr><td>2023-07-19T11:45:00.000+0000</td><td>page_view</td><td>user1</td><td>page555</td></tr><tr><td>2023-07-20T11:50:00.000+0000</td><td>login</td><td>user2</td><td>null</td></tr><tr><td>2023-07-21T11:55:00.000+0000</td><td>logout</td><td>user1</td><td>null</td></tr><tr><td>2023-07-22T12:00:00.000+0000</td><td>page_view</td><td>user2</td><td>page666</td></tr><tr><td>2023-07-23T12:05:00.000+0000</td><td>login</td><td>user1</td><td>null</td></tr><tr><td>2023-07-24T12:10:00.000+0000</td><td>page_view</td><td>user3</td><td>page777</td></tr><tr><td>2023-07-25T12:15:00.000+0000</td><td>login</td><td>user4</td><td>null</td></tr><tr><td>2023-07-26T12:20:00.000+0000</td><td>logout</td><td>user2</td><td>null</td></tr><tr><td>2023-07-27T12:25:00.000+0000</td><td>page_view</td><td>user1</td><td>page888</td></tr><tr><td>2023-07-28T12:30:00.000+0000</td><td>login</td><td>user2</td><td>null</td></tr><tr><td>2023-07-29T12:35:00.000+0000</td><td>logout</td><td>user1</td><td>null</td></tr><tr><td>2023-07-30T12:40:00.000+0000</td><td>page_view</td><td>user2</td><td>page999</td></tr><tr><td>2023-08-01T10:15:00.000+0000</td><td>login</td><td>user1</td><td>null</td></tr><tr><td>2023-08-02T10:20:00.000+0000</td><td>logout</td><td>user2</td><td>null</td></tr><tr><td>2023-08-03T10:25:00.000+0000</td><td>page_view</td><td>user1</td><td>page123</td></tr><tr><td>2023-08-04T10:30:00.000+0000</td><td>login</td><td>user3</td><td>null</td></tr><tr><td>2023-08-05T10:35:00.000+0000</td><td>page_view</td><td>user2</td><td>page456</td></tr><tr><td>2023-08-06T10:40:00.000+0000</td><td>logout</td><td>user3</td><td>null</td></tr><tr><td>2023-08-07T10:45:00.000+0000</td><td>page_view</td><td>user1</td><td>page789</td></tr><tr><td>2023-08-08T10:50:00.000+0000</td><td>login</td><td>user2</td><td>null</td></tr><tr><td>2023-08-09T10:55:00.000+0000</td><td>logout</td><td>user1</td><td>null</td></tr><tr><td>2023-08-10T11:00:00.000+0000</td><td>page_view</td><td>user2</td><td>page101</td></tr><tr><td>2023-08-11T11:05:00.000+0000</td><td>login</td><td>user1</td><td>null</td></tr><tr><td>2023-08-12T11:10:00.000+0000</td><td>page_view</td><td>user3</td><td>page222</td></tr><tr><td>2023-08-13T11:15:00.000+0000</td><td>login</td><td>user4</td><td>null</td></tr><tr><td>2023-08-14T11:20:00.000+0000</td><td>logout</td><td>user2</td><td>null</td></tr><tr><td>2023-08-15T11:25:00.000+0000</td><td>page_view</td><td>user1</td><td>page333</td></tr><tr><td>2023-08-16T11:30:00.000+0000</td><td>login</td><td>user4</td><td>null</td></tr><tr><td>2023-08-17T11:35:00.000+0000</td><td>page_view</td><td>user2</td><td>page444</td></tr><tr><td>2023-08-18T11:40:00.000+0000</td><td>logout</td><td>user3</td><td>null</td></tr><tr><td>2023-08-19T11:45:00.000+0000</td><td>page_view</td><td>user1</td><td>page555</td></tr><tr><td>2023-08-20T11:50:00.000+0000</td><td>login</td><td>user2</td><td>null</td></tr><tr><td>2023-08-21T11:55:00.000+0000</td><td>logout</td><td>user1</td><td>null</td></tr><tr><td>2023-08-22T12:00:00.000+0000</td><td>page_view</td><td>user2</td><td>page666</td></tr><tr><td>2023-08-23T12:05:00.000+0000</td><td>login</td><td>user1</td><td>null</td></tr><tr><td>2023-08-24T12:10:00.000+0000</td><td>page_view</td><td>user3</td><td>page777</td></tr><tr><td>2023-08-25T12:15:00.000+0000</td><td>login</td><td>user4</td><td>null</td></tr><tr><td>2023-08-26T12:20:00.000+0000</td><td>logout</td><td>user2</td><td>null</td></tr><tr><td>2023-08-27T12:25:00.000+0000</td><td>page_view</td><td>user1</td><td>page888</td></tr><tr><td>2023-08-28T12:30:00.000+0000</td><td>login</td><td>user2</td><td>null</td></tr><tr><td>2023-08-29T12:35:00.000+0000</td><td>logout</td><td>user1</td><td>null</td></tr><tr><td>2023-08-30T12:40:00.000+0000</td><td>page_view</td><td>user2</td><td>page999</td></tr><tr><td>2023-09-26T10:15:00.000+0000</td><td>login</td><td>user1</td><td>null</td></tr><tr><td>2023-09-26T10:20:00.000+0000</td><td>logout</td><td>user2</td><td>null</td></tr><tr><td>2023-09-26T10:25:00.000+0000</td><td>page_view</td><td>user1</td><td>page123</td></tr><tr><td>2023-09-26T10:30:00.000+0000</td><td>login</td><td>user3</td><td>null</td></tr><tr><td>2023-09-26T10:35:00.000+0000</td><td>page_view</td><td>user2</td><td>page456</td></tr><tr><td>2023-09-26T10:40:00.000+0000</td><td>logout</td><td>user3</td><td>null</td></tr><tr><td>2023-09-26T10:45:00.000+0000</td><td>page_view</td><td>user1</td><td>page789</td></tr><tr><td>2023-09-26T10:50:00.000+0000</td><td>login</td><td>user2</td><td>null</td></tr><tr><td>2023-09-26T10:55:00.000+0000</td><td>logout</td><td>user1</td><td>null</td></tr><tr><td>2023-09-26T11:00:00.000+0000</td><td>page_view</td><td>user2</td><td>page101</td></tr><tr><td>2023-09-26T11:05:00.000+0000</td><td>login</td><td>user1</td><td>null</td></tr><tr><td>2023-09-26T11:10:00.000+0000</td><td>page_view</td><td>user3</td><td>page222</td></tr></tbody></table></div>"
      ]
     },
     "metadata": {
      "application/vnd.databricks.v1+output": {
       "addedWidgets": {},
       "aggData": [],
       "aggError": "",
       "aggOverflow": false,
       "aggSchema": [],
       "aggSeriesLimitReached": false,
       "aggType": "",
       "arguments": {},
       "columnCustomDisplayInfos": {},
       "data": [
        [
         "2023-07-01T10:15:00.000+0000",
         "login",
         "user1",
         null
        ],
        [
         "2023-07-02T10:20:00.000+0000",
         "logout",
         "user2",
         null
        ],
        [
         "2023-07-03T10:25:00.000+0000",
         "page_view",
         "user1",
         "page123"
        ],
        [
         "2023-07-04T10:30:00.000+0000",
         "login",
         "user3",
         null
        ],
        [
         "2023-07-05T10:35:00.000+0000",
         "page_view",
         "user2",
         "page456"
        ],
        [
         "2023-07-06T10:40:00.000+0000",
         "logout",
         "user3",
         null
        ],
        [
         "2023-07-07T10:45:00.000+0000",
         "page_view",
         "user1",
         "page789"
        ],
        [
         "2023-07-08T10:50:00.000+0000",
         "login",
         "user2",
         null
        ],
        [
         "2023-07-09T10:55:00.000+0000",
         "logout",
         "user1",
         null
        ],
        [
         "2023-07-10T11:00:00.000+0000",
         "page_view",
         "user2",
         "page101"
        ],
        [
         "2023-07-11T11:05:00.000+0000",
         "login",
         "user1",
         null
        ],
        [
         "2023-07-12T11:10:00.000+0000",
         "page_view",
         "user3",
         "page222"
        ],
        [
         "2023-07-13T11:15:00.000+0000",
         "login",
         "user4",
         null
        ],
        [
         "2023-07-14T11:20:00.000+0000",
         "logout",
         "user2",
         null
        ],
        [
         "2023-07-15T11:25:00.000+0000",
         "page_view",
         "user1",
         "page333"
        ],
        [
         "2023-07-16T11:30:00.000+0000",
         "login",
         "user4",
         null
        ],
        [
         "2023-07-17T11:35:00.000+0000",
         "page_view",
         "user2",
         "page444"
        ],
        [
         "2023-07-18T11:40:00.000+0000",
         "logout",
         "user3",
         null
        ],
        [
         "2023-07-19T11:45:00.000+0000",
         "page_view",
         "user1",
         "page555"
        ],
        [
         "2023-07-20T11:50:00.000+0000",
         "login",
         "user2",
         null
        ],
        [
         "2023-07-21T11:55:00.000+0000",
         "logout",
         "user1",
         null
        ],
        [
         "2023-07-22T12:00:00.000+0000",
         "page_view",
         "user2",
         "page666"
        ],
        [
         "2023-07-23T12:05:00.000+0000",
         "login",
         "user1",
         null
        ],
        [
         "2023-07-24T12:10:00.000+0000",
         "page_view",
         "user3",
         "page777"
        ],
        [
         "2023-07-25T12:15:00.000+0000",
         "login",
         "user4",
         null
        ],
        [
         "2023-07-26T12:20:00.000+0000",
         "logout",
         "user2",
         null
        ],
        [
         "2023-07-27T12:25:00.000+0000",
         "page_view",
         "user1",
         "page888"
        ],
        [
         "2023-07-28T12:30:00.000+0000",
         "login",
         "user2",
         null
        ],
        [
         "2023-07-29T12:35:00.000+0000",
         "logout",
         "user1",
         null
        ],
        [
         "2023-07-30T12:40:00.000+0000",
         "page_view",
         "user2",
         "page999"
        ],
        [
         "2023-08-01T10:15:00.000+0000",
         "login",
         "user1",
         null
        ],
        [
         "2023-08-02T10:20:00.000+0000",
         "logout",
         "user2",
         null
        ],
        [
         "2023-08-03T10:25:00.000+0000",
         "page_view",
         "user1",
         "page123"
        ],
        [
         "2023-08-04T10:30:00.000+0000",
         "login",
         "user3",
         null
        ],
        [
         "2023-08-05T10:35:00.000+0000",
         "page_view",
         "user2",
         "page456"
        ],
        [
         "2023-08-06T10:40:00.000+0000",
         "logout",
         "user3",
         null
        ],
        [
         "2023-08-07T10:45:00.000+0000",
         "page_view",
         "user1",
         "page789"
        ],
        [
         "2023-08-08T10:50:00.000+0000",
         "login",
         "user2",
         null
        ],
        [
         "2023-08-09T10:55:00.000+0000",
         "logout",
         "user1",
         null
        ],
        [
         "2023-08-10T11:00:00.000+0000",
         "page_view",
         "user2",
         "page101"
        ],
        [
         "2023-08-11T11:05:00.000+0000",
         "login",
         "user1",
         null
        ],
        [
         "2023-08-12T11:10:00.000+0000",
         "page_view",
         "user3",
         "page222"
        ],
        [
         "2023-08-13T11:15:00.000+0000",
         "login",
         "user4",
         null
        ],
        [
         "2023-08-14T11:20:00.000+0000",
         "logout",
         "user2",
         null
        ],
        [
         "2023-08-15T11:25:00.000+0000",
         "page_view",
         "user1",
         "page333"
        ],
        [
         "2023-08-16T11:30:00.000+0000",
         "login",
         "user4",
         null
        ],
        [
         "2023-08-17T11:35:00.000+0000",
         "page_view",
         "user2",
         "page444"
        ],
        [
         "2023-08-18T11:40:00.000+0000",
         "logout",
         "user3",
         null
        ],
        [
         "2023-08-19T11:45:00.000+0000",
         "page_view",
         "user1",
         "page555"
        ],
        [
         "2023-08-20T11:50:00.000+0000",
         "login",
         "user2",
         null
        ],
        [
         "2023-08-21T11:55:00.000+0000",
         "logout",
         "user1",
         null
        ],
        [
         "2023-08-22T12:00:00.000+0000",
         "page_view",
         "user2",
         "page666"
        ],
        [
         "2023-08-23T12:05:00.000+0000",
         "login",
         "user1",
         null
        ],
        [
         "2023-08-24T12:10:00.000+0000",
         "page_view",
         "user3",
         "page777"
        ],
        [
         "2023-08-25T12:15:00.000+0000",
         "login",
         "user4",
         null
        ],
        [
         "2023-08-26T12:20:00.000+0000",
         "logout",
         "user2",
         null
        ],
        [
         "2023-08-27T12:25:00.000+0000",
         "page_view",
         "user1",
         "page888"
        ],
        [
         "2023-08-28T12:30:00.000+0000",
         "login",
         "user2",
         null
        ],
        [
         "2023-08-29T12:35:00.000+0000",
         "logout",
         "user1",
         null
        ],
        [
         "2023-08-30T12:40:00.000+0000",
         "page_view",
         "user2",
         "page999"
        ],
        [
         "2023-09-26T10:15:00.000+0000",
         "login",
         "user1",
         null
        ],
        [
         "2023-09-26T10:20:00.000+0000",
         "logout",
         "user2",
         null
        ],
        [
         "2023-09-26T10:25:00.000+0000",
         "page_view",
         "user1",
         "page123"
        ],
        [
         "2023-09-26T10:30:00.000+0000",
         "login",
         "user3",
         null
        ],
        [
         "2023-09-26T10:35:00.000+0000",
         "page_view",
         "user2",
         "page456"
        ],
        [
         "2023-09-26T10:40:00.000+0000",
         "logout",
         "user3",
         null
        ],
        [
         "2023-09-26T10:45:00.000+0000",
         "page_view",
         "user1",
         "page789"
        ],
        [
         "2023-09-26T10:50:00.000+0000",
         "login",
         "user2",
         null
        ],
        [
         "2023-09-26T10:55:00.000+0000",
         "logout",
         "user1",
         null
        ],
        [
         "2023-09-26T11:00:00.000+0000",
         "page_view",
         "user2",
         "page101"
        ],
        [
         "2023-09-26T11:05:00.000+0000",
         "login",
         "user1",
         null
        ],
        [
         "2023-09-26T11:10:00.000+0000",
         "page_view",
         "user3",
         "page222"
        ]
       ],
       "datasetInfos": [],
       "dbfsResultPath": null,
       "isJsonSchema": true,
       "metadata": {
        "isDbfsCommandResult": false
       },
       "overflow": false,
       "plotOptions": {
        "customPlotOptions": {},
        "displayType": "table",
        "pivotAggregation": null,
        "pivotColumns": null,
        "xColumns": null,
        "yColumns": null
       },
       "removedWidgets": [],
       "schema": [
        {
         "metadata": "{}",
         "name": "timestamp",
         "type": "\"timestamp\""
        },
        {
         "metadata": "{}",
         "name": "event_type",
         "type": "\"string\""
        },
        {
         "metadata": "{}",
         "name": "user_id",
         "type": "\"string\""
        },
        {
         "metadata": "{}",
         "name": "page_id",
         "type": "\"string\""
        }
       ],
       "type": "table"
      }
     },
     "output_type": "display_data"
    }
   ],
   "source": [
    "df.display()"
   ]
  },
  {
   "cell_type": "code",
   "execution_count": 0,
   "metadata": {
    "application/vnd.databricks.v1+cell": {
     "cellMetadata": {
      "byteLimit": 2048000,
      "rowLimit": 10000
     },
     "inputWidgets": {},
     "nuid": "bc850bd3-7ed7-4479-b93e-6eb88803af75",
     "showTitle": false,
     "title": ""
    }
   },
   "outputs": [
    {
     "output_type": "execute_result",
     "data": {
      "text/plain": [
       "<pyspark.sql.streaming.query.StreamingQuery at 0x7f116cfe1f00>"
      ]
     },
     "execution_count": 4,
     "metadata": {},
     "output_type": "execute_result"
    }
   ],
   "source": [
    "df.writeStream\\\n",
    ".option(\"checkpointlocation\", \"dbfs:/mnt/saunext/inputfiles/outputstream/Saumya/checkpoint\")\\\n",
    ".option(\"path\", \"dbfs:/mnt/saunext/inputfiles/outputstream/Saumya/output\")\\\n",
    ".table(\"test.jsonSample\")"
   ]
  },
  {
   "cell_type": "code",
   "execution_count": 0,
   "metadata": {
    "application/vnd.databricks.v1+cell": {
     "cellMetadata": {
      "byteLimit": 2048000,
      "implicitDf": true,
      "rowLimit": 10000
     },
     "inputWidgets": {},
     "nuid": "5845510d-485a-400b-aa4e-c3b290fc7eca",
     "showTitle": false,
     "title": ""
    }
   },
   "outputs": [
    {
     "output_type": "display_data",
     "data": {
      "text/html": [
       "<style scoped>\n",
       "  .table-result-container {\n",
       "    max-height: 300px;\n",
       "    overflow: auto;\n",
       "  }\n",
       "  table, th, td {\n",
       "    border: 1px solid black;\n",
       "    border-collapse: collapse;\n",
       "  }\n",
       "  th, td {\n",
       "    padding: 5px;\n",
       "  }\n",
       "  th {\n",
       "    text-align: left;\n",
       "  }\n",
       "</style><div class='table-result-container'><table class='table-result'><thead style='background-color: white'><tr><th>timestamp</th><th>event_type</th><th>user_id</th><th>page_id</th></tr></thead><tbody><tr><td>2023-08-01T10:15:00.000+0000</td><td>login</td><td>user1</td><td>null</td></tr><tr><td>2023-08-02T10:20:00.000+0000</td><td>logout</td><td>user2</td><td>null</td></tr><tr><td>2023-08-03T10:25:00.000+0000</td><td>page_view</td><td>user1</td><td>page123</td></tr><tr><td>2023-08-04T10:30:00.000+0000</td><td>login</td><td>user3</td><td>null</td></tr><tr><td>2023-08-05T10:35:00.000+0000</td><td>page_view</td><td>user2</td><td>page456</td></tr><tr><td>2023-08-06T10:40:00.000+0000</td><td>logout</td><td>user3</td><td>null</td></tr><tr><td>2023-08-07T10:45:00.000+0000</td><td>page_view</td><td>user1</td><td>page789</td></tr><tr><td>2023-08-08T10:50:00.000+0000</td><td>login</td><td>user2</td><td>null</td></tr><tr><td>2023-08-09T10:55:00.000+0000</td><td>logout</td><td>user1</td><td>null</td></tr><tr><td>2023-08-10T11:00:00.000+0000</td><td>page_view</td><td>user2</td><td>page101</td></tr><tr><td>2023-08-11T11:05:00.000+0000</td><td>login</td><td>user1</td><td>null</td></tr><tr><td>2023-08-12T11:10:00.000+0000</td><td>page_view</td><td>user3</td><td>page222</td></tr><tr><td>2023-08-13T11:15:00.000+0000</td><td>login</td><td>user4</td><td>null</td></tr><tr><td>2023-08-14T11:20:00.000+0000</td><td>logout</td><td>user2</td><td>null</td></tr><tr><td>2023-08-15T11:25:00.000+0000</td><td>page_view</td><td>user1</td><td>page333</td></tr><tr><td>2023-08-16T11:30:00.000+0000</td><td>login</td><td>user4</td><td>null</td></tr><tr><td>2023-08-17T11:35:00.000+0000</td><td>page_view</td><td>user2</td><td>page444</td></tr><tr><td>2023-08-18T11:40:00.000+0000</td><td>logout</td><td>user3</td><td>null</td></tr><tr><td>2023-08-19T11:45:00.000+0000</td><td>page_view</td><td>user1</td><td>page555</td></tr><tr><td>2023-08-20T11:50:00.000+0000</td><td>login</td><td>user2</td><td>null</td></tr><tr><td>2023-08-21T11:55:00.000+0000</td><td>logout</td><td>user1</td><td>null</td></tr><tr><td>2023-08-22T12:00:00.000+0000</td><td>page_view</td><td>user2</td><td>page666</td></tr><tr><td>2023-08-23T12:05:00.000+0000</td><td>login</td><td>user1</td><td>null</td></tr><tr><td>2023-08-24T12:10:00.000+0000</td><td>page_view</td><td>user3</td><td>page777</td></tr><tr><td>2023-08-25T12:15:00.000+0000</td><td>login</td><td>user4</td><td>null</td></tr><tr><td>2023-08-26T12:20:00.000+0000</td><td>logout</td><td>user2</td><td>null</td></tr><tr><td>2023-08-27T12:25:00.000+0000</td><td>page_view</td><td>user1</td><td>page888</td></tr><tr><td>2023-08-28T12:30:00.000+0000</td><td>login</td><td>user2</td><td>null</td></tr><tr><td>2023-08-29T12:35:00.000+0000</td><td>logout</td><td>user1</td><td>null</td></tr><tr><td>2023-08-30T12:40:00.000+0000</td><td>page_view</td><td>user2</td><td>page999</td></tr><tr><td>2023-07-01T10:15:00.000+0000</td><td>login</td><td>user1</td><td>null</td></tr><tr><td>2023-07-02T10:20:00.000+0000</td><td>logout</td><td>user2</td><td>null</td></tr><tr><td>2023-07-03T10:25:00.000+0000</td><td>page_view</td><td>user1</td><td>page123</td></tr><tr><td>2023-07-04T10:30:00.000+0000</td><td>login</td><td>user3</td><td>null</td></tr><tr><td>2023-07-05T10:35:00.000+0000</td><td>page_view</td><td>user2</td><td>page456</td></tr><tr><td>2023-07-06T10:40:00.000+0000</td><td>logout</td><td>user3</td><td>null</td></tr><tr><td>2023-07-07T10:45:00.000+0000</td><td>page_view</td><td>user1</td><td>page789</td></tr><tr><td>2023-07-08T10:50:00.000+0000</td><td>login</td><td>user2</td><td>null</td></tr><tr><td>2023-07-09T10:55:00.000+0000</td><td>logout</td><td>user1</td><td>null</td></tr><tr><td>2023-07-10T11:00:00.000+0000</td><td>page_view</td><td>user2</td><td>page101</td></tr><tr><td>2023-07-11T11:05:00.000+0000</td><td>login</td><td>user1</td><td>null</td></tr><tr><td>2023-07-12T11:10:00.000+0000</td><td>page_view</td><td>user3</td><td>page222</td></tr><tr><td>2023-07-13T11:15:00.000+0000</td><td>login</td><td>user4</td><td>null</td></tr><tr><td>2023-07-14T11:20:00.000+0000</td><td>logout</td><td>user2</td><td>null</td></tr><tr><td>2023-07-15T11:25:00.000+0000</td><td>page_view</td><td>user1</td><td>page333</td></tr><tr><td>2023-07-16T11:30:00.000+0000</td><td>login</td><td>user4</td><td>null</td></tr><tr><td>2023-07-17T11:35:00.000+0000</td><td>page_view</td><td>user2</td><td>page444</td></tr><tr><td>2023-07-18T11:40:00.000+0000</td><td>logout</td><td>user3</td><td>null</td></tr><tr><td>2023-07-19T11:45:00.000+0000</td><td>page_view</td><td>user1</td><td>page555</td></tr><tr><td>2023-07-20T11:50:00.000+0000</td><td>login</td><td>user2</td><td>null</td></tr><tr><td>2023-07-21T11:55:00.000+0000</td><td>logout</td><td>user1</td><td>null</td></tr><tr><td>2023-07-22T12:00:00.000+0000</td><td>page_view</td><td>user2</td><td>page666</td></tr><tr><td>2023-07-23T12:05:00.000+0000</td><td>login</td><td>user1</td><td>null</td></tr><tr><td>2023-07-24T12:10:00.000+0000</td><td>page_view</td><td>user3</td><td>page777</td></tr><tr><td>2023-07-25T12:15:00.000+0000</td><td>login</td><td>user4</td><td>null</td></tr><tr><td>2023-07-26T12:20:00.000+0000</td><td>logout</td><td>user2</td><td>null</td></tr><tr><td>2023-07-27T12:25:00.000+0000</td><td>page_view</td><td>user1</td><td>page888</td></tr><tr><td>2023-07-28T12:30:00.000+0000</td><td>login</td><td>user2</td><td>null</td></tr><tr><td>2023-07-29T12:35:00.000+0000</td><td>logout</td><td>user1</td><td>null</td></tr><tr><td>2023-07-30T12:40:00.000+0000</td><td>page_view</td><td>user2</td><td>page999</td></tr><tr><td>2023-09-26T10:15:00.000+0000</td><td>login</td><td>user1</td><td>null</td></tr><tr><td>2023-09-26T10:20:00.000+0000</td><td>logout</td><td>user2</td><td>null</td></tr><tr><td>2023-09-26T10:25:00.000+0000</td><td>page_view</td><td>user1</td><td>page123</td></tr><tr><td>2023-09-26T10:30:00.000+0000</td><td>login</td><td>user3</td><td>null</td></tr><tr><td>2023-09-26T10:35:00.000+0000</td><td>page_view</td><td>user2</td><td>page456</td></tr><tr><td>2023-09-26T10:40:00.000+0000</td><td>logout</td><td>user3</td><td>null</td></tr><tr><td>2023-09-26T10:45:00.000+0000</td><td>page_view</td><td>user1</td><td>page789</td></tr><tr><td>2023-09-26T10:50:00.000+0000</td><td>login</td><td>user2</td><td>null</td></tr><tr><td>2023-09-26T10:55:00.000+0000</td><td>logout</td><td>user1</td><td>null</td></tr><tr><td>2023-09-26T11:00:00.000+0000</td><td>page_view</td><td>user2</td><td>page101</td></tr><tr><td>2023-09-26T11:05:00.000+0000</td><td>login</td><td>user1</td><td>null</td></tr><tr><td>2023-09-26T11:10:00.000+0000</td><td>page_view</td><td>user3</td><td>page222</td></tr></tbody></table></div>"
      ]
     },
     "metadata": {
      "application/vnd.databricks.v1+output": {
       "addedWidgets": {},
       "aggData": [],
       "aggError": "",
       "aggOverflow": false,
       "aggSchema": [],
       "aggSeriesLimitReached": false,
       "aggType": "",
       "arguments": {},
       "columnCustomDisplayInfos": {},
       "data": [
        [
         "2023-08-01T10:15:00.000+0000",
         "login",
         "user1",
         null
        ],
        [
         "2023-08-02T10:20:00.000+0000",
         "logout",
         "user2",
         null
        ],
        [
         "2023-08-03T10:25:00.000+0000",
         "page_view",
         "user1",
         "page123"
        ],
        [
         "2023-08-04T10:30:00.000+0000",
         "login",
         "user3",
         null
        ],
        [
         "2023-08-05T10:35:00.000+0000",
         "page_view",
         "user2",
         "page456"
        ],
        [
         "2023-08-06T10:40:00.000+0000",
         "logout",
         "user3",
         null
        ],
        [
         "2023-08-07T10:45:00.000+0000",
         "page_view",
         "user1",
         "page789"
        ],
        [
         "2023-08-08T10:50:00.000+0000",
         "login",
         "user2",
         null
        ],
        [
         "2023-08-09T10:55:00.000+0000",
         "logout",
         "user1",
         null
        ],
        [
         "2023-08-10T11:00:00.000+0000",
         "page_view",
         "user2",
         "page101"
        ],
        [
         "2023-08-11T11:05:00.000+0000",
         "login",
         "user1",
         null
        ],
        [
         "2023-08-12T11:10:00.000+0000",
         "page_view",
         "user3",
         "page222"
        ],
        [
         "2023-08-13T11:15:00.000+0000",
         "login",
         "user4",
         null
        ],
        [
         "2023-08-14T11:20:00.000+0000",
         "logout",
         "user2",
         null
        ],
        [
         "2023-08-15T11:25:00.000+0000",
         "page_view",
         "user1",
         "page333"
        ],
        [
         "2023-08-16T11:30:00.000+0000",
         "login",
         "user4",
         null
        ],
        [
         "2023-08-17T11:35:00.000+0000",
         "page_view",
         "user2",
         "page444"
        ],
        [
         "2023-08-18T11:40:00.000+0000",
         "logout",
         "user3",
         null
        ],
        [
         "2023-08-19T11:45:00.000+0000",
         "page_view",
         "user1",
         "page555"
        ],
        [
         "2023-08-20T11:50:00.000+0000",
         "login",
         "user2",
         null
        ],
        [
         "2023-08-21T11:55:00.000+0000",
         "logout",
         "user1",
         null
        ],
        [
         "2023-08-22T12:00:00.000+0000",
         "page_view",
         "user2",
         "page666"
        ],
        [
         "2023-08-23T12:05:00.000+0000",
         "login",
         "user1",
         null
        ],
        [
         "2023-08-24T12:10:00.000+0000",
         "page_view",
         "user3",
         "page777"
        ],
        [
         "2023-08-25T12:15:00.000+0000",
         "login",
         "user4",
         null
        ],
        [
         "2023-08-26T12:20:00.000+0000",
         "logout",
         "user2",
         null
        ],
        [
         "2023-08-27T12:25:00.000+0000",
         "page_view",
         "user1",
         "page888"
        ],
        [
         "2023-08-28T12:30:00.000+0000",
         "login",
         "user2",
         null
        ],
        [
         "2023-08-29T12:35:00.000+0000",
         "logout",
         "user1",
         null
        ],
        [
         "2023-08-30T12:40:00.000+0000",
         "page_view",
         "user2",
         "page999"
        ],
        [
         "2023-07-01T10:15:00.000+0000",
         "login",
         "user1",
         null
        ],
        [
         "2023-07-02T10:20:00.000+0000",
         "logout",
         "user2",
         null
        ],
        [
         "2023-07-03T10:25:00.000+0000",
         "page_view",
         "user1",
         "page123"
        ],
        [
         "2023-07-04T10:30:00.000+0000",
         "login",
         "user3",
         null
        ],
        [
         "2023-07-05T10:35:00.000+0000",
         "page_view",
         "user2",
         "page456"
        ],
        [
         "2023-07-06T10:40:00.000+0000",
         "logout",
         "user3",
         null
        ],
        [
         "2023-07-07T10:45:00.000+0000",
         "page_view",
         "user1",
         "page789"
        ],
        [
         "2023-07-08T10:50:00.000+0000",
         "login",
         "user2",
         null
        ],
        [
         "2023-07-09T10:55:00.000+0000",
         "logout",
         "user1",
         null
        ],
        [
         "2023-07-10T11:00:00.000+0000",
         "page_view",
         "user2",
         "page101"
        ],
        [
         "2023-07-11T11:05:00.000+0000",
         "login",
         "user1",
         null
        ],
        [
         "2023-07-12T11:10:00.000+0000",
         "page_view",
         "user3",
         "page222"
        ],
        [
         "2023-07-13T11:15:00.000+0000",
         "login",
         "user4",
         null
        ],
        [
         "2023-07-14T11:20:00.000+0000",
         "logout",
         "user2",
         null
        ],
        [
         "2023-07-15T11:25:00.000+0000",
         "page_view",
         "user1",
         "page333"
        ],
        [
         "2023-07-16T11:30:00.000+0000",
         "login",
         "user4",
         null
        ],
        [
         "2023-07-17T11:35:00.000+0000",
         "page_view",
         "user2",
         "page444"
        ],
        [
         "2023-07-18T11:40:00.000+0000",
         "logout",
         "user3",
         null
        ],
        [
         "2023-07-19T11:45:00.000+0000",
         "page_view",
         "user1",
         "page555"
        ],
        [
         "2023-07-20T11:50:00.000+0000",
         "login",
         "user2",
         null
        ],
        [
         "2023-07-21T11:55:00.000+0000",
         "logout",
         "user1",
         null
        ],
        [
         "2023-07-22T12:00:00.000+0000",
         "page_view",
         "user2",
         "page666"
        ],
        [
         "2023-07-23T12:05:00.000+0000",
         "login",
         "user1",
         null
        ],
        [
         "2023-07-24T12:10:00.000+0000",
         "page_view",
         "user3",
         "page777"
        ],
        [
         "2023-07-25T12:15:00.000+0000",
         "login",
         "user4",
         null
        ],
        [
         "2023-07-26T12:20:00.000+0000",
         "logout",
         "user2",
         null
        ],
        [
         "2023-07-27T12:25:00.000+0000",
         "page_view",
         "user1",
         "page888"
        ],
        [
         "2023-07-28T12:30:00.000+0000",
         "login",
         "user2",
         null
        ],
        [
         "2023-07-29T12:35:00.000+0000",
         "logout",
         "user1",
         null
        ],
        [
         "2023-07-30T12:40:00.000+0000",
         "page_view",
         "user2",
         "page999"
        ],
        [
         "2023-09-26T10:15:00.000+0000",
         "login",
         "user1",
         null
        ],
        [
         "2023-09-26T10:20:00.000+0000",
         "logout",
         "user2",
         null
        ],
        [
         "2023-09-26T10:25:00.000+0000",
         "page_view",
         "user1",
         "page123"
        ],
        [
         "2023-09-26T10:30:00.000+0000",
         "login",
         "user3",
         null
        ],
        [
         "2023-09-26T10:35:00.000+0000",
         "page_view",
         "user2",
         "page456"
        ],
        [
         "2023-09-26T10:40:00.000+0000",
         "logout",
         "user3",
         null
        ],
        [
         "2023-09-26T10:45:00.000+0000",
         "page_view",
         "user1",
         "page789"
        ],
        [
         "2023-09-26T10:50:00.000+0000",
         "login",
         "user2",
         null
        ],
        [
         "2023-09-26T10:55:00.000+0000",
         "logout",
         "user1",
         null
        ],
        [
         "2023-09-26T11:00:00.000+0000",
         "page_view",
         "user2",
         "page101"
        ],
        [
         "2023-09-26T11:05:00.000+0000",
         "login",
         "user1",
         null
        ],
        [
         "2023-09-26T11:10:00.000+0000",
         "page_view",
         "user3",
         "page222"
        ]
       ],
       "datasetInfos": [],
       "dbfsResultPath": null,
       "isJsonSchema": true,
       "metadata": {
        "dataframeName": "_sqldf",
        "executionCount": 8
       },
       "overflow": false,
       "plotOptions": {
        "customPlotOptions": {},
        "displayType": "table",
        "pivotAggregation": null,
        "pivotColumns": null,
        "xColumns": null,
        "yColumns": null
       },
       "removedWidgets": [],
       "schema": [
        {
         "metadata": "{}",
         "name": "timestamp",
         "type": "\"timestamp\""
        },
        {
         "metadata": "{}",
         "name": "event_type",
         "type": "\"string\""
        },
        {
         "metadata": "{}",
         "name": "user_id",
         "type": "\"string\""
        },
        {
         "metadata": "{}",
         "name": "page_id",
         "type": "\"string\""
        }
       ],
       "type": "table"
      }
     },
     "output_type": "display_data"
    }
   ],
   "source": [
    "%sql\n",
    "select * from test.jsonsample"
   ]
  },
  {
   "cell_type": "code",
   "execution_count": 0,
   "metadata": {
    "application/vnd.databricks.v1+cell": {
     "cellMetadata": {
      "byteLimit": 2048000,
      "rowLimit": 10000
     },
     "inputWidgets": {},
     "nuid": "60a4b753-03e0-495e-806e-5023000f39a8",
     "showTitle": false,
     "title": ""
    }
   },
   "outputs": [],
   "source": [
    "df = spark.read.format(\"delta\").load(\"dbfs:/mnt/saunext/inputfiles/outputstream/Saumya/output\")"
   ]
  },
  {
   "cell_type": "code",
   "execution_count": 0,
   "metadata": {
    "application/vnd.databricks.v1+cell": {
     "cellMetadata": {
      "byteLimit": 2048000,
      "rowLimit": 10000
     },
     "inputWidgets": {},
     "nuid": "75e73463-becf-4d44-a0dd-e46aa8b9557e",
     "showTitle": false,
     "title": ""
    }
   },
   "outputs": [
    {
     "output_type": "stream",
     "name": "stdout",
     "output_type": "stream",
     "text": [
      "+-------------------+----------+-------+\n|          timestamp|event_type|user_id|\n+-------------------+----------+-------+\n|2023-07-01 10:15:00|     login|  user1|\n|2023-07-02 10:20:00|    logout|  user2|\n|2023-07-03 10:25:00| page_view|  user1|\n|2023-07-04 10:30:00|     login|  user3|\n|2023-07-05 10:35:00| page_view|  user2|\n|2023-07-06 10:40:00|    logout|  user3|\n|2023-07-07 10:45:00| page_view|  user1|\n|2023-07-08 10:50:00|     login|  user2|\n|2023-07-09 10:55:00|    logout|  user1|\n|2023-07-10 11:00:00| page_view|  user2|\n|2023-07-11 11:05:00|     login|  user1|\n|2023-07-12 11:10:00| page_view|  user3|\n|2023-07-13 11:15:00|     login|  user4|\n|2023-07-14 11:20:00|    logout|  user2|\n|2023-07-15 11:25:00| page_view|  user1|\n|2023-07-16 11:30:00|     login|  user4|\n|2023-07-17 11:35:00| page_view|  user2|\n|2023-07-18 11:40:00|    logout|  user3|\n|2023-07-19 11:45:00| page_view|  user1|\n|2023-07-20 11:50:00|     login|  user2|\n+-------------------+----------+-------+\nonly showing top 20 rows\n\n"
     ]
    }
   ],
   "source": [
    "df.drop(\"page_id\").show()"
   ]
  },
  {
   "cell_type": "code",
   "execution_count": 0,
   "metadata": {
    "application/vnd.databricks.v1+cell": {
     "cellMetadata": {
      "byteLimit": 2048000,
      "rowLimit": 10000
     },
     "inputWidgets": {},
     "nuid": "b0cb54ee-a1f4-41f7-968f-9cfe2c4787a9",
     "showTitle": false,
     "title": ""
    }
   },
   "outputs": [],
   "source": [
    "for stream in spark.streams.active:\n",
    "    stream.stop()\n"
   ]
  },
  {
   "cell_type": "code",
   "execution_count": 0,
   "metadata": {
    "application/vnd.databricks.v1+cell": {
     "cellMetadata": {
      "byteLimit": 2048000,
      "rowLimit": 10000
     },
     "inputWidgets": {},
     "nuid": "a4b90e11-3917-48a1-abb3-763aec48a110",
     "showTitle": false,
     "title": ""
    }
   },
   "outputs": [
    {
     "output_type": "execute_result",
     "data": {
      "text/plain": [
       "<pyspark.sql.streaming.query.StreamingQuery at 0x7f116c913610>"
      ]
     },
     "execution_count": 12,
     "metadata": {},
     "output_type": "execute_result"
    }
   ],
   "source": [
    "(spark\n",
    ".readStream\n",
    ".schema(schema)\n",
    ".json(\"dbfs:/mnt/saunext/inputfiles/inputstream/\")\n",
    ".writeStream\n",
    ".option(\"checkpointlocation\", \"dbfs:/mnt/saunext/inputfiles/outputstream/Saumya/checkpoint\")\\\n",
    ".option(\"path\", \"dbfs:/mnt/saunext/inputfiles/outputstream/Saumya/output\")\\\n",
    ".trigger(once = True)\\\n",
    ".table(\"test.jsonSample\")\n",
    ")"
   ]
  },
  {
   "cell_type": "code",
   "execution_count": 0,
   "metadata": {
    "application/vnd.databricks.v1+cell": {
     "cellMetadata": {},
     "inputWidgets": {},
     "nuid": "3360a827-f61e-44f4-b555-4c762c72c303",
     "showTitle": false,
     "title": ""
    }
   },
   "outputs": [],
   "source": []
  }
 ],
 "metadata": {
  "application/vnd.databricks.v1+notebook": {
   "dashboards": [],
   "language": "python",
   "notebookMetadata": {
    "mostRecentlyExecutedCommandWithImplicitDF": {
     "commandId": 130226373252413,
     "dataframes": [
      "_sqldf"
     ]
    },
    "pythonIndentUnit": 4
   },
   "notebookName": "Streaming",
   "widgets": {}
  }
 },
 "nbformat": 4,
 "nbformat_minor": 0
}
