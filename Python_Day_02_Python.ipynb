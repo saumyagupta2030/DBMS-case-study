{
 "cells": [
  {
   "cell_type": "markdown",
   "metadata": {
    "application/vnd.databricks.v1+cell": {
     "cellMetadata": {},
     "inputWidgets": {},
     "nuid": "ec55017d-92a4-461d-ae19-461413f71fee",
     "showTitle": false,
     "title": ""
    },
    "id": "VNiVhc2zh8Oz"
   },
   "source": [
    "## **Functions in Python**"
   ]
  },
  {
   "cell_type": "code",
   "execution_count": 0,
   "metadata": {
    "application/vnd.databricks.v1+cell": {
     "cellMetadata": {},
     "inputWidgets": {},
     "nuid": "3adfa588-b075-4363-bb73-91f3076c4e16",
     "showTitle": false,
     "title": ""
    },
    "colab": {
     "base_uri": "https://localhost:8080/"
    },
    "id": "vgCNyy3XhKVo",
    "outputId": "82eb3d85-6ef3-48e5-dc24-13b4f1aa2188"
   },
   "outputs": [],
   "source": [
    "a = 10\n",
    "b = 20\n",
    "print(\"Sum: \", a+b)\n",
    "print(\"Diff: \", a-b)\n",
    "print(\"Product: \", a*b)\n",
    "print(\"Remainder: \", a/b)"
   ]
  },
  {
   "cell_type": "code",
   "execution_count": 0,
   "metadata": {
    "application/vnd.databricks.v1+cell": {
     "cellMetadata": {},
     "inputWidgets": {},
     "nuid": "bc009298-ef6f-4063-9b99-fedd9fb9bc09",
     "showTitle": false,
     "title": ""
    },
    "colab": {
     "base_uri": "https://localhost:8080/"
    },
    "id": "LGyGDYbUhw3x",
    "outputId": "374d6100-42de-4015-a151-79d5ae92e7b4"
   },
   "outputs": [],
   "source": [
    "def function():\n",
    "  print(\"hello from function\")\n",
    "\n",
    "function()"
   ]
  },
  {
   "cell_type": "code",
   "execution_count": 0,
   "metadata": {
    "application/vnd.databricks.v1+cell": {
     "cellMetadata": {},
     "inputWidgets": {},
     "nuid": "068557cd-4935-45f2-963d-59bdeefc6f31",
     "showTitle": false,
     "title": ""
    },
    "id": "hE9x0ey6h5-j"
   },
   "outputs": [],
   "source": [
    "def wish(name):\n",
    "  print(\"Hello\", name, \"Good Morning\")"
   ]
  },
  {
   "cell_type": "code",
   "execution_count": 0,
   "metadata": {
    "application/vnd.databricks.v1+cell": {
     "cellMetadata": {},
     "inputWidgets": {},
     "nuid": "189725fd-b593-4f09-a2ef-be551a451bec",
     "showTitle": false,
     "title": ""
    },
    "colab": {
     "base_uri": "https://localhost:8080/"
    },
    "id": "GXCH9DTHid0C",
    "outputId": "c2c16080-5e37-4e28-85ed-1e9900056e25"
   },
   "outputs": [],
   "source": [
    "wish('Saumya')"
   ]
  },
  {
   "cell_type": "code",
   "execution_count": 0,
   "metadata": {
    "application/vnd.databricks.v1+cell": {
     "cellMetadata": {},
     "inputWidgets": {},
     "nuid": "39f68fa8-c6dc-4e82-aa0f-3006b5d7bc08",
     "showTitle": false,
     "title": ""
    },
    "colab": {
     "base_uri": "https://localhost:8080/"
    },
    "id": "jf3QS3qpim_x",
    "outputId": "a72e4879-14e8-429a-ea44-32b0f2bdd0eb"
   },
   "outputs": [],
   "source": [
    "def sq(num):\n",
    "  print(num**2)\n",
    "\n",
    "sq(10)"
   ]
  },
  {
   "cell_type": "code",
   "execution_count": 0,
   "metadata": {
    "application/vnd.databricks.v1+cell": {
     "cellMetadata": {},
     "inputWidgets": {},
     "nuid": "147b6871-53cd-43f7-9e88-20deb832ad23",
     "showTitle": false,
     "title": ""
    },
    "colab": {
     "base_uri": "https://localhost:8080/"
    },
    "id": "GKnrWsWli1Bc",
    "outputId": "9502fa77-6f0c-4cfe-f18e-3c9b70e4465d"
   },
   "outputs": [],
   "source": [
    "def sq(num):\n",
    "  return num**2\n",
    "\n",
    "print(sq(10))"
   ]
  },
  {
   "cell_type": "code",
   "execution_count": 0,
   "metadata": {
    "application/vnd.databricks.v1+cell": {
     "cellMetadata": {},
     "inputWidgets": {},
     "nuid": "48145edc-9983-4e90-94f7-eb3886558865",
     "showTitle": false,
     "title": ""
    },
    "id": "7gCeqX95jhw0"
   },
   "outputs": [],
   "source": [
    "def odd_even(n):\n",
    "  if n%2 == 0:\n",
    "    return True\n",
    "  else:\n",
    "    return False"
   ]
  },
  {
   "cell_type": "code",
   "execution_count": 0,
   "metadata": {
    "application/vnd.databricks.v1+cell": {
     "cellMetadata": {},
     "inputWidgets": {},
     "nuid": "60b6a7b5-92b4-490b-af48-a05f5f1ced28",
     "showTitle": false,
     "title": ""
    },
    "colab": {
     "base_uri": "https://localhost:8080/"
    },
    "id": "Vyj529rHj_z0",
    "outputId": "353968f9-ee4c-403d-f10c-05717663329f"
   },
   "outputs": [],
   "source": [
    "odd_even(7)"
   ]
  },
  {
   "cell_type": "code",
   "execution_count": 0,
   "metadata": {
    "application/vnd.databricks.v1+cell": {
     "cellMetadata": {},
     "inputWidgets": {},
     "nuid": "eb3a1be4-9fdb-40de-9175-92da987e4d24",
     "showTitle": false,
     "title": ""
    },
    "colab": {
     "base_uri": "https://localhost:8080/"
    },
    "id": "xGnRL2UMkA5I",
    "outputId": "9fba740d-e5ec-4553-9eee-d806ce308ebf"
   },
   "outputs": [],
   "source": [
    "def add(a, b):\n",
    "  return a+b\n",
    "\n",
    "add(5,10)"
   ]
  },
  {
   "cell_type": "markdown",
   "metadata": {
    "application/vnd.databricks.v1+cell": {
     "cellMetadata": {},
     "inputWidgets": {},
     "nuid": "5c58d8ba-f837-4c17-bb83-8f7235eb8e7e",
     "showTitle": false,
     "title": ""
    },
    "id": "fEQIprpvlE_L"
   },
   "source": [
    "### **Types of Arguments in Python Functions**\n",
    "* Positional Arguments\n",
    "* Keyword Arguments\n",
    "* Default Arguments\n",
    "* Variable Length Arguments"
   ]
  },
  {
   "cell_type": "code",
   "execution_count": 0,
   "metadata": {
    "application/vnd.databricks.v1+cell": {
     "cellMetadata": {},
     "inputWidgets": {},
     "nuid": "949c4abe-1e63-4c13-a7af-d28c007121df",
     "showTitle": false,
     "title": ""
    },
    "colab": {
     "base_uri": "https://localhost:8080/"
    },
    "id": "lLq9r8a4lTuV",
    "outputId": "08c422a9-a2c8-4650-9f32-0583d010a3b4"
   },
   "outputs": [],
   "source": [
    "#positional arguments\n",
    "def sub(a, b):\n",
    "  return a-b\n",
    "\n",
    "sub(7,8)"
   ]
  },
  {
   "cell_type": "code",
   "execution_count": 0,
   "metadata": {
    "application/vnd.databricks.v1+cell": {
     "cellMetadata": {},
     "inputWidgets": {},
     "nuid": "8266f71e-b5e4-4130-9931-71d459fab894",
     "showTitle": false,
     "title": ""
    },
    "colab": {
     "base_uri": "https://localhost:8080/"
    },
    "id": "Aucx87VqlpxD",
    "outputId": "099ca7ed-f387-41d3-b9ee-fc24d88e27b4"
   },
   "outputs": [],
   "source": [
    "sub(b = 8, a = 10) #Keyword Argument"
   ]
  },
  {
   "cell_type": "code",
   "execution_count": 0,
   "metadata": {
    "application/vnd.databricks.v1+cell": {
     "cellMetadata": {},
     "inputWidgets": {},
     "nuid": "40c7a25f-7b5e-4128-95ea-4586c693c27c",
     "showTitle": false,
     "title": ""
    },
    "colab": {
     "base_uri": "https://localhost:8080/"
    },
    "id": "ycB46J3al7kR",
    "outputId": "fd218b5f-edaf-4d8f-b800-3f8485ef7f71"
   },
   "outputs": [],
   "source": [
    "def wish(name, msg):\n",
    "  print(\"Hello\", name, msg)\n",
    "\n",
    "wish(\"Saumya\", \"GM\")"
   ]
  },
  {
   "cell_type": "code",
   "execution_count": 0,
   "metadata": {
    "application/vnd.databricks.v1+cell": {
     "cellMetadata": {},
     "inputWidgets": {},
     "nuid": "f23f36ae-75f4-44a1-88b2-bdfd0bfbf94d",
     "showTitle": false,
     "title": ""
    },
    "colab": {
     "base_uri": "https://localhost:8080/"
    },
    "id": "HJfs3L-MnX3k",
    "outputId": "96fae225-ec5f-414f-d73f-7109458dc889"
   },
   "outputs": [],
   "source": [
    "wish(msg = \"GM\", name = \"Saumya\")"
   ]
  },
  {
   "cell_type": "code",
   "execution_count": 0,
   "metadata": {
    "application/vnd.databricks.v1+cell": {
     "cellMetadata": {},
     "inputWidgets": {},
     "nuid": "652c00de-ee1e-4ac7-8f75-32b2c311a020",
     "showTitle": false,
     "title": ""
    },
    "colab": {
     "base_uri": "https://localhost:8080/"
    },
    "id": "h1TcW1NnncpZ",
    "outputId": "4f76285a-c7ee-4df5-a88b-f24b484b222a"
   },
   "outputs": [],
   "source": [
    "wish(name = \"Saumya\", msg = \"GM\")"
   ]
  },
  {
   "cell_type": "code",
   "execution_count": 0,
   "metadata": {
    "application/vnd.databricks.v1+cell": {
     "cellMetadata": {},
     "inputWidgets": {},
     "nuid": "a37e690a-e841-447c-b12e-b737d06b9c06",
     "showTitle": false,
     "title": ""
    },
    "colab": {
     "base_uri": "https://localhost:8080/",
     "height": 176
    },
    "id": "SpKJuGfUnflT",
    "outputId": "2555cee6-d5cc-468f-e719-4411e28f09b4"
   },
   "outputs": [],
   "source": [
    "wish(\"GM\", name = \"saumya\")"
   ]
  },
  {
   "cell_type": "code",
   "execution_count": 0,
   "metadata": {
    "application/vnd.databricks.v1+cell": {
     "cellMetadata": {},
     "inputWidgets": {},
     "nuid": "4531ec1e-b42c-415a-8cf8-a9ccea186e7e",
     "showTitle": false,
     "title": ""
    },
    "colab": {
     "base_uri": "https://localhost:8080/",
     "height": 141
    },
    "id": "coICCizRnjZn",
    "outputId": "9584b7f7-04bb-49a2-ea46-6da31b2ecf52"
   },
   "outputs": [],
   "source": [
    "wish(msg = \"GM\", \"Saumya\")"
   ]
  },
  {
   "cell_type": "code",
   "execution_count": 0,
   "metadata": {
    "application/vnd.databricks.v1+cell": {
     "cellMetadata": {},
     "inputWidgets": {},
     "nuid": "9302ac10-22b2-4986-8a4c-7846ee0191a1",
     "showTitle": false,
     "title": ""
    },
    "colab": {
     "base_uri": "https://localhost:8080/"
    },
    "id": "jxyKpsI2nn5m",
    "outputId": "6f6f753c-636c-4bab-89aa-3aaa5adc3fe4"
   },
   "outputs": [],
   "source": [
    "#default arguments\n",
    "def sum(a = 8, b = 90):\n",
    "  return a+b\n",
    "\n",
    "print(sum())\n",
    "sum(6,8)"
   ]
  },
  {
   "cell_type": "code",
   "execution_count": 0,
   "metadata": {
    "application/vnd.databricks.v1+cell": {
     "cellMetadata": {},
     "inputWidgets": {},
     "nuid": "0ea43f98-bcb8-47fc-9fbd-0b7018a15538",
     "showTitle": false,
     "title": ""
    },
    "colab": {
     "base_uri": "https://localhost:8080/"
    },
    "id": "bldC05oFovGc",
    "outputId": "814e995f-951d-4efb-fe40-65435925dfb4"
   },
   "outputs": [],
   "source": [
    "#for loop\n",
    "sum = 0\n",
    "for i in range(10+1):\n",
    "  sum+=i\n",
    "\n",
    "print(sum)"
   ]
  },
  {
   "cell_type": "code",
   "execution_count": 0,
   "metadata": {
    "application/vnd.databricks.v1+cell": {
     "cellMetadata": {},
     "inputWidgets": {},
     "nuid": "360a99e5-c63b-48c7-8b4b-afe13a523051",
     "showTitle": false,
     "title": ""
    },
    "colab": {
     "base_uri": "https://localhost:8080/"
    },
    "id": "5FXV-CbEo_gR",
    "outputId": "2227968f-2966-4df6-85ef-15b758ceafdf"
   },
   "outputs": [],
   "source": [
    "#Variable Length Arguments\n",
    "\n",
    "def sum(*args):\n",
    "  sum = 0\n",
    "  for i in args:\n",
    "    sum += i;\n",
    "  return sum\n",
    "\n",
    "sum(10,20, 50, 50,80)"
   ]
  },
  {
   "cell_type": "code",
   "execution_count": 0,
   "metadata": {
    "application/vnd.databricks.v1+cell": {
     "cellMetadata": {},
     "inputWidgets": {},
     "nuid": "c20a2d6b-aea9-4d8d-8d8c-3de62a290946",
     "showTitle": false,
     "title": ""
    },
    "colab": {
     "base_uri": "https://localhost:8080/"
    },
    "id": "Sc2z3BkJp4gp",
    "outputId": "cb659d9c-2fc8-4776-ba8b-502f8aa50815"
   },
   "outputs": [],
   "source": [
    "#Keyword Variable Length argument\n",
    "\n",
    "def info(**kwargs):\n",
    "  for key, value in kwargs.items():\n",
    "    print(key,\" : \" ,value)\n",
    "\n",
    "\n",
    "info(Name = \"Saumya\", Age = 30, City = \"Delhi\")\n"
   ]
  },
  {
   "cell_type": "code",
   "execution_count": 0,
   "metadata": {
    "application/vnd.databricks.v1+cell": {
     "cellMetadata": {},
     "inputWidgets": {},
     "nuid": "130149f9-2925-4ea9-adb5-0c6ad110aeff",
     "showTitle": false,
     "title": ""
    },
    "colab": {
     "base_uri": "https://localhost:8080/"
    },
    "id": "3o9v-CF9s-Wk",
    "outputId": "7456f135-d0f7-45a0-cb6c-92954def4a09"
   },
   "outputs": [],
   "source": [
    "def person(name, **kwargs):\n",
    "  print(\"Name : \", name)\n",
    "\n",
    "  for key, value in kwargs.items():\n",
    "    print(key, value)\n",
    "\n",
    "\n",
    "person(\"Amit\", age = 30, pin = 770077, city = \"Delhi\")"
   ]
  },
  {
   "cell_type": "code",
   "execution_count": 0,
   "metadata": {
    "application/vnd.databricks.v1+cell": {
     "cellMetadata": {},
     "inputWidgets": {},
     "nuid": "36151275-c67e-4ce4-9bfe-4f83e31ac162",
     "showTitle": false,
     "title": ""
    },
    "id": "jXpCY8qYvlTf"
   },
   "outputs": [],
   "source": []
  },
  {
   "cell_type": "markdown",
   "metadata": {
    "application/vnd.databricks.v1+cell": {
     "cellMetadata": {},
     "inputWidgets": {},
     "nuid": "549a325d-75a8-4a27-b768-edbaab74d6bf",
     "showTitle": false,
     "title": ""
    },
    "id": "gQM8fnyjwXbB"
   },
   "source": [
    "### **Question**\n",
    "\n",
    "**Task: Oil and Gas Equipment and Drilling Site Management System**\n",
    "\n",
    "You are tasked with developing a Python program for an oil and gas company to manage their drilling equipment and drilling sites. The program should use *args and **kwargs to provide flexibility in adding and searching for equipment and sites. Here are the tasks you need to complete:\n",
    "Create a Python script that defines empty lists for drilling equipment and drilling sites.\n",
    "\n",
    "Implement a function add_equipment that takes the following parameters:\n",
    "\n",
    "* equipment_type (string): The type of equipment being added.\n",
    "* *args (tuple): Additional details about the equipment (e.g., model, power, capacity).\n",
    "* **kwargs (dictionary): Additional attributes of the equipment (e.g., vendor, power source).\n",
    "\n",
    "The function should create a dictionary representing the equipment, including its type, details (from *args), and attributes (from **kwargs). Then, it should append this dictionary to the drilling_equipment list."
   ]
  },
  {
   "cell_type": "code",
   "execution_count": 0,
   "metadata": {
    "application/vnd.databricks.v1+cell": {
     "cellMetadata": {},
     "inputWidgets": {},
     "nuid": "9b22743d-cb6d-46db-b5cf-0903febc7ddd",
     "showTitle": false,
     "title": ""
    },
    "id": "5KdNTyr4wZFy"
   },
   "outputs": [],
   "source": [
    "drilling_equipments = []\n",
    "drilling_sites = []\n",
    "\n",
    "def add_equipments(equipment_type, *args, **kwargs):\n",
    "  equipment_details = {}\n",
    "  equipment_details['equipment_type'] = equipment_type\n",
    "  equipment_details['details'] = args\n",
    "  equipment_details['attributes'] = {}\n",
    "  for key, val in kwargs.items():\n",
    "    # print(key, val)\n",
    "    equipment_details['attributes'][key] = val\n",
    "  # equipment_details['attributes'] = kwargs\n",
    "\n",
    "  drilling_equipments = equipment_details\n",
    "  print(drilling_equipments)\n",
    "\n"
   ]
  },
  {
   "cell_type": "code",
   "execution_count": 0,
   "metadata": {
    "application/vnd.databricks.v1+cell": {
     "cellMetadata": {},
     "inputWidgets": {},
     "nuid": "4f22b478-6a9d-4771-98f7-f1aae42d2f70",
     "showTitle": false,
     "title": ""
    },
    "colab": {
     "base_uri": "https://localhost:8080/"
    },
    "id": "np9V4Bb2xmlv",
    "outputId": "e9ae07a6-b065-4ed5-f9ec-d464dc85910f"
   },
   "outputs": [],
   "source": [
    "add_equipments('Drill', 'Model X', '2000 HP', capacity='High', vendor='ABC Inc', power_source='Electric')\n",
    "add_equipments('Pump', 'Model Y', '1000 HP', capacity='Medium', vendor='XYZ Corp', power_source='Diesel')\n"
   ]
  },
  {
   "cell_type": "code",
   "execution_count": 0,
   "metadata": {
    "application/vnd.databricks.v1+cell": {
     "cellMetadata": {},
     "inputWidgets": {},
     "nuid": "3a14c3c1-53a5-4313-9b3c-7bcf00f7df72",
     "showTitle": false,
     "title": ""
    },
    "id": "84caPHl6yAh2"
   },
   "outputs": [],
   "source": []
  },
  {
   "cell_type": "markdown",
   "metadata": {
    "application/vnd.databricks.v1+cell": {
     "cellMetadata": {},
     "inputWidgets": {},
     "nuid": "9250583c-2c86-4ad3-967c-7ddd3adf8524",
     "showTitle": false,
     "title": ""
    },
    "id": "bcSLRPJG6_ek"
   },
   "source": [
    "### **Question 1(b)**\n",
    "\n",
    "Implement a function add_drilling_site with similar parameters:\n",
    "\n",
    "site_name (string): The name of the drilling site being added.\n",
    "\n",
    "*args (tuple): Additional details about the site (e.g., location, depth, terrain).\n",
    "\n",
    "**kwargs (dictionary): Additional attributes of the site (e.g., status, operator).\n",
    "\n",
    "The function should create a dictionary representing the site, including its name, details (from *args), and attributes (from **kwargs). Then, it should append this dictionary to the drilling_sites list.**"
   ]
  },
  {
   "cell_type": "code",
   "execution_count": 0,
   "metadata": {
    "application/vnd.databricks.v1+cell": {
     "cellMetadata": {},
     "inputWidgets": {},
     "nuid": "a2f465d7-a823-4d25-bca6-3b631d0e0a7a",
     "showTitle": false,
     "title": ""
    },
    "colab": {
     "base_uri": "https://localhost:8080/"
    },
    "id": "eStmAcd7zlK_",
    "outputId": "35ca6bc9-c450-4fd7-a57e-f8646354f698"
   },
   "outputs": [],
   "source": [
    "def add_drilling_site(site_name, *args, **kwargs):\n",
    "  drilling_site_info = {\n",
    "      'Name':site_name,\n",
    "      'Details': args,\n",
    "      'Attributes': kwargs\n",
    "  }\n",
    "\n",
    "  drilling_sites.append(drilling_site_info)\n",
    "  print(drilling_sites)\n",
    "\n",
    "\n",
    "add_drilling_site('Drill', 'Location X', '2000m', status='Working', Operator='ABC Inc',)\n"
   ]
  },
  {
   "cell_type": "code",
   "execution_count": 0,
   "metadata": {
    "application/vnd.databricks.v1+cell": {
     "cellMetadata": {},
     "inputWidgets": {},
     "nuid": "3b74412c-d4bc-42d1-808c-f1c7dbca0406",
     "showTitle": false,
     "title": ""
    },
    "id": "O9JRCcaC8oJV"
   },
   "outputs": [],
   "source": []
  },
  {
   "cell_type": "markdown",
   "metadata": {
    "application/vnd.databricks.v1+cell": {
     "cellMetadata": {},
     "inputWidgets": {},
     "nuid": "1d6120bb-825a-437e-89b7-827374ec1a26",
     "showTitle": false,
     "title": ""
    },
    "id": "fZnb_z4g-IzB"
   },
   "source": [
    "## **Recursive Functions**\n",
    "* Function that calls itself is called as a recursive function."
   ]
  },
  {
   "cell_type": "code",
   "execution_count": 0,
   "metadata": {
    "application/vnd.databricks.v1+cell": {
     "cellMetadata": {},
     "inputWidgets": {},
     "nuid": "6ac06137-7e8d-4289-8c52-5334c558401b",
     "showTitle": false,
     "title": ""
    },
    "colab": {
     "base_uri": "https://localhost:8080/"
    },
    "id": "fypEPl0I-QiU",
    "outputId": "76b2a5a9-9a2a-447e-a9f4-8d8777d9c2f0"
   },
   "outputs": [],
   "source": [
    "def fact(n):\n",
    "  if n == 1 or n == 0:\n",
    "    return 1\n",
    "\n",
    "  if n>1:\n",
    "    return n*fact(n-1)\n",
    "\n",
    "fact(1)"
   ]
  },
  {
   "cell_type": "code",
   "execution_count": 0,
   "metadata": {
    "application/vnd.databricks.v1+cell": {
     "cellMetadata": {},
     "inputWidgets": {},
     "nuid": "7db96eee-0355-449f-b86c-e069d6576630",
     "showTitle": false,
     "title": ""
    },
    "colab": {
     "base_uri": "https://localhost:8080/"
    },
    "id": "2NWOybGa-o6d",
    "outputId": "cbf85e08-9816-4de4-f1ef-2d58a311f5f7"
   },
   "outputs": [],
   "source": [
    "fact(5)"
   ]
  },
  {
   "cell_type": "code",
   "execution_count": 0,
   "metadata": {
    "application/vnd.databricks.v1+cell": {
     "cellMetadata": {},
     "inputWidgets": {},
     "nuid": "b82c13e2-c09b-41c7-ad4c-cfcf5f5f8a2b",
     "showTitle": false,
     "title": ""
    },
    "colab": {
     "base_uri": "https://localhost:8080/"
    },
    "id": "eBK3wsL6BXfG",
    "outputId": "b9a87d66-7255-4f4b-d01c-d7784449ea21"
   },
   "outputs": [],
   "source": [
    "def fibo(n):\n",
    "  if n<=1:\n",
    "    return 1\n",
    "  else:\n",
    "    return fibo(n-1) + fibo(n-2)\n",
    "\n",
    "fibo(10)"
   ]
  },
  {
   "cell_type": "code",
   "execution_count": 0,
   "metadata": {
    "application/vnd.databricks.v1+cell": {
     "cellMetadata": {},
     "inputWidgets": {},
     "nuid": "07fc2607-0e10-448a-b79a-4c8e1d49e67f",
     "showTitle": false,
     "title": ""
    },
    "colab": {
     "base_uri": "https://localhost:8080/"
    },
    "id": "4F9KHKTq-qS2",
    "outputId": "b8f92149-2d43-4741-8034-bc73f0767761"
   },
   "outputs": [],
   "source": [
    "# 0 1 1 2 3 5 8 13\n",
    "\n",
    "def fibo(n):\n",
    "  num1 = 0\n",
    "  num2 = 1\n",
    "  next_number = num2\n",
    "  count = 1\n",
    "\n",
    "  while count <= n:\n",
    "      print(next_number, end=\" \")\n",
    "      count += 1\n",
    "      num1, num2 = num2, next_number\n",
    "      next_number = num1 + num2\n",
    "  print()\n",
    "\n",
    "fibo(10)"
   ]
  },
  {
   "cell_type": "code",
   "execution_count": 0,
   "metadata": {
    "application/vnd.databricks.v1+cell": {
     "cellMetadata": {},
     "inputWidgets": {},
     "nuid": "225fdfad-3478-40a9-b6cd-c6567f3066a2",
     "showTitle": false,
     "title": ""
    },
    "id": "szN9APYO_Vvp"
   },
   "outputs": [],
   "source": []
  },
  {
   "cell_type": "markdown",
   "metadata": {
    "application/vnd.databricks.v1+cell": {
     "cellMetadata": {},
     "inputWidgets": {},
     "nuid": "641fff09-47c4-42ae-8940-2439ba4d672e",
     "showTitle": false,
     "title": ""
    },
    "id": "Y6oW1g82CHU6"
   },
   "source": [
    "## **Decorator Functions**"
   ]
  },
  {
   "cell_type": "code",
   "execution_count": 0,
   "metadata": {
    "application/vnd.databricks.v1+cell": {
     "cellMetadata": {},
     "inputWidgets": {},
     "nuid": "4cdb776a-85cb-49c9-9abb-c2106fcc8c5d",
     "showTitle": false,
     "title": ""
    },
    "colab": {
     "base_uri": "https://localhost:8080/"
    },
    "id": "Ti0F132xCLDO",
    "outputId": "1a1be102-deec-4236-ba5a-edc3890932d2"
   },
   "outputs": [],
   "source": [
    "def div(a, b):\n",
    "  if a<b:\n",
    "    a, b = b, a     #Swapping the numbers -> To make numerator>denominator\n",
    "\n",
    "  c = a/b\n",
    "  return c\n",
    "\n",
    "print(div(10, 5))\n",
    "div(5, 10)\n"
   ]
  },
  {
   "cell_type": "code",
   "execution_count": 0,
   "metadata": {
    "application/vnd.databricks.v1+cell": {
     "cellMetadata": {},
     "inputWidgets": {},
     "nuid": "d4c506ed-1b8c-42d4-9080-f72e1a7226ae",
     "showTitle": false,
     "title": ""
    },
    "colab": {
     "base_uri": "https://localhost:8080/"
    },
    "id": "IXIMCKiHDJeJ",
    "outputId": "71ad5eb0-a0dc-4921-e43d-c5568c6ebd93"
   },
   "outputs": [],
   "source": [
    "def og_div(a, b):\n",
    "  return a/b\n",
    "\n",
    "og_div(5,10)"
   ]
  },
  {
   "cell_type": "code",
   "execution_count": 0,
   "metadata": {
    "application/vnd.databricks.v1+cell": {
     "cellMetadata": {},
     "inputWidgets": {},
     "nuid": "5b513c22-c8ce-4d2b-9b9f-632097ae1d12",
     "showTitle": false,
     "title": ""
    },
    "id": "GIiLC1-7EXwy"
   },
   "outputs": [],
   "source": [
    "def smart_div(func):\n",
    "  def inner(a,b):\n",
    "    if a<b:\n",
    "      a, b = b, a\n",
    "    return func(a,b)\n",
    "  return inner\n",
    "\n",
    "res = smart_div(og_div)\n",
    "\n"
   ]
  },
  {
   "cell_type": "code",
   "execution_count": 0,
   "metadata": {
    "application/vnd.databricks.v1+cell": {
     "cellMetadata": {},
     "inputWidgets": {},
     "nuid": "de0c0eaa-29ac-45aa-8cf3-8610c208a8a3",
     "showTitle": false,
     "title": ""
    },
    "colab": {
     "base_uri": "https://localhost:8080/"
    },
    "id": "2La1jobBE1B2",
    "outputId": "52d31b58-6857-4969-c85c-a2f73159ab67"
   },
   "outputs": [],
   "source": [
    "res(10, 5)"
   ]
  },
  {
   "cell_type": "code",
   "execution_count": 0,
   "metadata": {
    "application/vnd.databricks.v1+cell": {
     "cellMetadata": {},
     "inputWidgets": {},
     "nuid": "f4aaa09b-bd22-4cbc-bb1a-b3d87e98c7de",
     "showTitle": false,
     "title": ""
    },
    "colab": {
     "base_uri": "https://localhost:8080/"
    },
    "id": "P8tbjjQ9FA1B",
    "outputId": "84e8011c-95ec-4310-b369-0e07ed0b9319"
   },
   "outputs": [],
   "source": [
    "res(5,10)"
   ]
  },
  {
   "cell_type": "code",
   "execution_count": 0,
   "metadata": {
    "application/vnd.databricks.v1+cell": {
     "cellMetadata": {},
     "inputWidgets": {},
     "nuid": "c0721d9b-d485-47b2-b91a-86990c71435e",
     "showTitle": false,
     "title": ""
    },
    "colab": {
     "base_uri": "https://localhost:8080/"
    },
    "id": "heEYONBJFELr",
    "outputId": "10af27e4-45a9-4cb5-ac3c-dc149de159da"
   },
   "outputs": [],
   "source": [
    "def wish(name):\n",
    "  print(\"Hello\", name, \"Good Morning\")\n",
    "\n",
    "wish('steve')\n",
    "wish('John')\n",
    "wish('Robert')"
   ]
  },
  {
   "cell_type": "code",
   "execution_count": 0,
   "metadata": {
    "application/vnd.databricks.v1+cell": {
     "cellMetadata": {},
     "inputWidgets": {},
     "nuid": "35f9cb7e-ffdd-4d07-941c-cc3eb9b045ce",
     "showTitle": false,
     "title": ""
    },
    "id": "llbXsuNVF-Sb"
   },
   "outputs": [],
   "source": [
    "def smart_wish(func):\n",
    "  def inner(name):\n",
    "    if name == 'Robert':\n",
    "      print(\"Hello\", name, \"Bad Morning\")\n",
    "    else:\n",
    "      func(name)\n",
    "  return inner\n",
    "\n",
    "res = smart_wish(wish)"
   ]
  },
  {
   "cell_type": "code",
   "execution_count": 0,
   "metadata": {
    "application/vnd.databricks.v1+cell": {
     "cellMetadata": {},
     "inputWidgets": {},
     "nuid": "9c14933a-9f90-47bc-aaa8-d0b99ba10186",
     "showTitle": false,
     "title": ""
    },
    "colab": {
     "base_uri": "https://localhost:8080/"
    },
    "id": "FFg65CO6GXxP",
    "outputId": "2efa93f7-4ae1-4d6e-e84f-6b83b9ffa4b3"
   },
   "outputs": [],
   "source": [
    "res(\"Robert\")\n",
    "res(\"Saumya\")"
   ]
  },
  {
   "cell_type": "markdown",
   "metadata": {
    "application/vnd.databricks.v1+cell": {
     "cellMetadata": {},
     "inputWidgets": {},
     "nuid": "15121e1e-ec50-469d-b6c3-112ffc11506b",
     "showTitle": false,
     "title": ""
    },
    "id": "rkc0zBiXJyO-"
   },
   "source": [
    "### **Question**\n",
    "Task: Logging Decorator\n",
    "\n",
    "\n",
    "\n",
    "You are tasked with creating a decorator function called log_function_call that logs when a function is called, along with its arguments, and the result of the function call. You will apply this decorator to two functions.\n",
    "\n",
    "\n",
    "\n",
    "Implement a decorator function called log_function_call that takes a function as an argument and wraps it. Inside the decorator, log the function's name, its arguments, and the result of the function call. You can use the logging module for logging.\n",
    "\n",
    "\n",
    "\n",
    "Create two functions:\n",
    "\n",
    "\n",
    "\n",
    "add(a, b): This function takes two integers, a and b, as arguments and returns their sum.\n",
    "multiply(a, b): This function takes two integers, a and b, as arguments and returns their product.\n",
    "Apply the log_function_call decorator to both the add and multiply functions.\n",
    "\n",
    "Call the decorated add and multiply functions with different arguments to verify that the decorator logs the function calls and results correctly."
   ]
  },
  {
   "cell_type": "code",
   "execution_count": 0,
   "metadata": {
    "application/vnd.databricks.v1+cell": {
     "cellMetadata": {},
     "inputWidgets": {},
     "nuid": "cbf0f42a-ea9f-4c31-9e6c-4e34e587dc52",
     "showTitle": false,
     "title": ""
    },
    "id": "ZGd_-XpVHGV3"
   },
   "outputs": [],
   "source": [
    "def add(a, b):\n",
    "  return a+b\n",
    "\n",
    "def multiply(a, b):\n",
    "  return a*b"
   ]
  },
  {
   "cell_type": "code",
   "execution_count": 0,
   "metadata": {
    "application/vnd.databricks.v1+cell": {
     "cellMetadata": {},
     "inputWidgets": {},
     "nuid": "537759b4-2874-4676-8876-bdf1ccc3aacd",
     "showTitle": false,
     "title": ""
    },
    "id": "J3LfbYfVLSMW"
   },
   "outputs": [],
   "source": [
    "def log_function_call(func):\n",
    "  def inner(a, b):\n",
    "    return add(a,b)\n",
    "  return inner\n",
    "\n",
    "\n",
    "res = log_function_call(add)\n"
   ]
  },
  {
   "cell_type": "code",
   "execution_count": 0,
   "metadata": {
    "application/vnd.databricks.v1+cell": {
     "cellMetadata": {},
     "inputWidgets": {},
     "nuid": "8453b7b4-f1d0-4353-ac30-40b685d0c13d",
     "showTitle": false,
     "title": ""
    },
    "colab": {
     "base_uri": "https://localhost:8080/"
    },
    "id": "gkurbOvRMYO2",
    "outputId": "96b01c1e-c7ff-4882-d7ed-7f8f1cdf9544"
   },
   "outputs": [],
   "source": [
    "res(5,10)"
   ]
  },
  {
   "cell_type": "code",
   "execution_count": 0,
   "metadata": {
    "application/vnd.databricks.v1+cell": {
     "cellMetadata": {},
     "inputWidgets": {},
     "nuid": "d7e21a8d-62ac-4df7-a58f-93d480782406",
     "showTitle": false,
     "title": ""
    },
    "colab": {
     "base_uri": "https://localhost:8080/"
    },
    "id": "X9kMlqMDMdiu",
    "outputId": "5bdd2f2d-c18c-4150-9873-8a81ca4107fc"
   },
   "outputs": [],
   "source": [
    "def log_function_call(func):\n",
    "  def inner(a, b):\n",
    "    return multiply(a,b)\n",
    "  return inner\n",
    "\n",
    "\n",
    "res2 = log_function_call(multiply)\n",
    "res2(3,88)"
   ]
  },
  {
   "cell_type": "code",
   "execution_count": 0,
   "metadata": {
    "application/vnd.databricks.v1+cell": {
     "cellMetadata": {},
     "inputWidgets": {},
     "nuid": "439f2617-068c-4bfd-8739-3d03bbb6340a",
     "showTitle": false,
     "title": ""
    },
    "id": "PzID4MhoMk5j"
   },
   "outputs": [],
   "source": []
  },
  {
   "cell_type": "markdown",
   "metadata": {
    "application/vnd.databricks.v1+cell": {
     "cellMetadata": {},
     "inputWidgets": {},
     "nuid": "8f4c291f-ecb2-48f5-b665-28c65ff30df4",
     "showTitle": false,
     "title": ""
    },
    "id": "Uv37m7quOAkY"
   },
   "source": [
    "## **Generator Function**\n",
    "* A generator function uses yield keyword to yield a sequence of values once at a time, instead of returning all at a time.\n"
   ]
  },
  {
   "cell_type": "code",
   "execution_count": 0,
   "metadata": {
    "application/vnd.databricks.v1+cell": {
     "cellMetadata": {},
     "inputWidgets": {},
     "nuid": "776778c7-d5ac-4e1a-8709-b03b39e1299b",
     "showTitle": false,
     "title": ""
    },
    "id": "J7GZwsxIOFoP"
   },
   "outputs": [],
   "source": [
    "def count_up_to(n):\n",
    "  i = 1\n",
    "  while i<=n:\n",
    "    yield i\n",
    "    i = i+1\n",
    "\n",
    "res = count_up_to(10)"
   ]
  },
  {
   "cell_type": "code",
   "execution_count": 0,
   "metadata": {
    "application/vnd.databricks.v1+cell": {
     "cellMetadata": {},
     "inputWidgets": {},
     "nuid": "299fb213-9985-49d9-8fec-e323c2df880c",
     "showTitle": false,
     "title": ""
    },
    "colab": {
     "base_uri": "https://localhost:8080/"
    },
    "id": "EZAaMTgmOsBb",
    "outputId": "a4d23d07-1560-46d6-ca46-433e5c072dc5"
   },
   "outputs": [],
   "source": [
    "print(next(res))\n",
    "print(next(res))\n",
    "print(next(res))\n",
    "print(next(res))\n",
    "print(next(res))\n",
    "print(next(res))"
   ]
  },
  {
   "cell_type": "code",
   "execution_count": 0,
   "metadata": {
    "application/vnd.databricks.v1+cell": {
     "cellMetadata": {},
     "inputWidgets": {},
     "nuid": "0e1cab5e-bdcf-457e-9b5e-5eaafb7e5bf5",
     "showTitle": false,
     "title": ""
    },
    "colab": {
     "base_uri": "https://localhost:8080/"
    },
    "id": "EaOikoWGOtWC",
    "outputId": "6f808f87-93c4-423b-ce04-af5d39f9d88f"
   },
   "outputs": [],
   "source": [
    "for i in res:\n",
    "  print(i)"
   ]
  },
  {
   "cell_type": "code",
   "execution_count": 0,
   "metadata": {
    "application/vnd.databricks.v1+cell": {
     "cellMetadata": {},
     "inputWidgets": {},
     "nuid": "c8d529ff-f957-416c-8d3b-887c161a96b7",
     "showTitle": false,
     "title": ""
    },
    "id": "-xTxaOTKPg5o"
   },
   "outputs": [],
   "source": []
  },
  {
   "cell_type": "markdown",
   "metadata": {
    "application/vnd.databricks.v1+cell": {
     "cellMetadata": {},
     "inputWidgets": {},
     "nuid": "0d056bb5-7ed5-4e31-9a4a-df1ba180ab67",
     "showTitle": false,
     "title": ""
    },
    "id": "sOX0PD87QAzA"
   },
   "source": [
    "Generate fibonacci numbers using generator functions"
   ]
  },
  {
   "cell_type": "code",
   "execution_count": 0,
   "metadata": {
    "application/vnd.databricks.v1+cell": {
     "cellMetadata": {},
     "inputWidgets": {},
     "nuid": "02306f56-6ef5-44e7-b3c4-fa18f759391c",
     "showTitle": false,
     "title": ""
    },
    "colab": {
     "base_uri": "https://localhost:8080/"
    },
    "id": "g4cgQRPGQE0G",
    "outputId": "f7a170e5-c6da-4c20-d8b8-532711362429"
   },
   "outputs": [],
   "source": [
    "def fibonacci_generator(limit):\n",
    "    a, b = 0, 1\n",
    "    count = 0\n",
    "    while count < limit:\n",
    "        yield a\n",
    "        a, b = b, a + b\n",
    "        count += 1\n",
    "\n",
    "fibo = fibonacci_generator(10)\n",
    "\n",
    "for num in fibo:\n",
    "    print(num)\n",
    "\n"
   ]
  },
  {
   "cell_type": "code",
   "execution_count": 0,
   "metadata": {
    "application/vnd.databricks.v1+cell": {
     "cellMetadata": {},
     "inputWidgets": {},
     "nuid": "39bb1848-b03b-4df3-b046-682d73f4fadb",
     "showTitle": false,
     "title": ""
    },
    "id": "BSPHH8WSQOOa"
   },
   "outputs": [],
   "source": []
  },
  {
   "cell_type": "markdown",
   "metadata": {
    "application/vnd.databricks.v1+cell": {
     "cellMetadata": {},
     "inputWidgets": {},
     "nuid": "45df552c-ff8c-4e14-be0b-f92e78961499",
     "showTitle": false,
     "title": ""
    },
    "id": "FK-K6qPYgFXo"
   },
   "source": [
    "## **List Comprehension**"
   ]
  },
  {
   "cell_type": "code",
   "execution_count": 0,
   "metadata": {
    "application/vnd.databricks.v1+cell": {
     "cellMetadata": {},
     "inputWidgets": {},
     "nuid": "b88ead4f-5ce6-443d-a869-34b8ca2d7a58",
     "showTitle": false,
     "title": ""
    },
    "id": "YnVznWAigbB_"
   },
   "outputs": [],
   "source": [
    "# list = [expression for items in list if condition]\n",
    "\n",
    "n = [1, 2, 3,4,5]\n",
    "sq = [i**2 for i in n]"
   ]
  },
  {
   "cell_type": "code",
   "execution_count": 0,
   "metadata": {
    "application/vnd.databricks.v1+cell": {
     "cellMetadata": {},
     "inputWidgets": {},
     "nuid": "a25760c5-db11-4070-93ab-ae3424c23abb",
     "showTitle": false,
     "title": ""
    },
    "colab": {
     "base_uri": "https://localhost:8080/"
    },
    "id": "QoKNE5Pfg6qN",
    "outputId": "ef90f9c3-4978-42ba-ccd1-e05c3157fc8f"
   },
   "outputs": [],
   "source": [
    "sq = [i**2 for i in range(1,11)]\n",
    "sq"
   ]
  },
  {
   "cell_type": "code",
   "execution_count": 0,
   "metadata": {
    "application/vnd.databricks.v1+cell": {
     "cellMetadata": {},
     "inputWidgets": {},
     "nuid": "da3cdb5f-4051-4f49-ba68-8003d1717b7b",
     "showTitle": false,
     "title": ""
    },
    "colab": {
     "base_uri": "https://localhost:8080/"
    },
    "id": "HXATESxzhBec",
    "outputId": "4d25a194-d611-4296-b7e3-e0379d962b27"
   },
   "outputs": [],
   "source": [
    "nos = [1,2,3,4,5,6,7,8,9]\n",
    "even = [i for i in nos if i%2==0]\n",
    "even"
   ]
  },
  {
   "cell_type": "code",
   "execution_count": 0,
   "metadata": {
    "application/vnd.databricks.v1+cell": {
     "cellMetadata": {},
     "inputWidgets": {},
     "nuid": "dcd3e1f2-4303-4113-9cf8-eab6616806e8",
     "showTitle": false,
     "title": ""
    },
    "colab": {
     "base_uri": "https://localhost:8080/"
    },
    "id": "jouwdyqxhnzb",
    "outputId": "424a3f29-e3f3-4908-89c3-9dd8c6f9ade8"
   },
   "outputs": [],
   "source": [
    "list_of_words = [\"Python\", \"AWS\", \"Azure\", \"Power BI\"]\n",
    "letters = [word[0] for word in list_of_words]\n",
    "letters"
   ]
  },
  {
   "cell_type": "code",
   "execution_count": 0,
   "metadata": {
    "application/vnd.databricks.v1+cell": {
     "cellMetadata": {},
     "inputWidgets": {},
     "nuid": "d0929474-752c-487d-a2de-17dfdc5c71da",
     "showTitle": false,
     "title": ""
    },
    "colab": {
     "base_uri": "https://localhost:8080/"
    },
    "id": "2GLEEIcxjEaw",
    "outputId": "1a98692c-559b-44ef-8ff3-36bc223af4e6"
   },
   "outputs": [],
   "source": [
    "words = [\"python\", 'sql','azure','power BI','databricks']\n",
    "uppercase = [word[0].upper()+word[1:] for word in words]\n",
    "uppercase"
   ]
  },
  {
   "cell_type": "code",
   "execution_count": 0,
   "metadata": {
    "application/vnd.databricks.v1+cell": {
     "cellMetadata": {},
     "inputWidgets": {},
     "nuid": "43e95399-ba89-4fb7-a584-f306d7b9c771",
     "showTitle": false,
     "title": ""
    },
    "colab": {
     "base_uri": "https://localhost:8080/"
    },
    "id": "dVTPoRdXjr0e",
    "outputId": "07f9f09b-df98-4864-cffd-14e0d99ead3b"
   },
   "outputs": [],
   "source": [
    "words = \"the quick brown fox jumps over the lazy dogs\"\n",
    "l = words.split(\" \")\n",
    "l"
   ]
  },
  {
   "cell_type": "code",
   "execution_count": 0,
   "metadata": {
    "application/vnd.databricks.v1+cell": {
     "cellMetadata": {},
     "inputWidgets": {},
     "nuid": "f360a4f6-2565-4351-bc8b-26a37cbe7623",
     "showTitle": false,
     "title": ""
    },
    "id": "QLj4rMmbkrVn"
   },
   "outputs": [],
   "source": [
    "res = [[word.upper(), len(word)] for word in l]"
   ]
  },
  {
   "cell_type": "code",
   "execution_count": 0,
   "metadata": {
    "application/vnd.databricks.v1+cell": {
     "cellMetadata": {},
     "inputWidgets": {},
     "nuid": "ecfbfd6f-60d2-4834-b515-131c9d0c7aaa",
     "showTitle": false,
     "title": ""
    },
    "colab": {
     "base_uri": "https://localhost:8080/"
    },
    "id": "Dp2Y9AOek1jI",
    "outputId": "5debfcf1-d43f-45bd-ee79-379d6dd0c8af"
   },
   "outputs": [],
   "source": [
    "res"
   ]
  },
  {
   "cell_type": "code",
   "execution_count": 0,
   "metadata": {
    "application/vnd.databricks.v1+cell": {
     "cellMetadata": {},
     "inputWidgets": {},
     "nuid": "e9d0799a-b3c9-40ee-9d42-26c742f7bece",
     "showTitle": false,
     "title": ""
    },
    "id": "eV4tRRjHk45H"
   },
   "outputs": [],
   "source": []
  },
  {
   "cell_type": "markdown",
   "metadata": {
    "application/vnd.databricks.v1+cell": {
     "cellMetadata": {},
     "inputWidgets": {},
     "nuid": "86f0c0b7-d20a-449f-bebf-b88f8c48af5f",
     "showTitle": false,
     "title": ""
    },
    "id": "UEN8Yh_kmYrr"
   },
   "source": [
    "## **Lambda Function/Anonymous Function**\n",
    "  * Has no name for the function"
   ]
  },
  {
   "cell_type": "code",
   "execution_count": 0,
   "metadata": {
    "application/vnd.databricks.v1+cell": {
     "cellMetadata": {},
     "inputWidgets": {},
     "nuid": "459d9348-af57-4f99-aeca-00b8c02640a6",
     "showTitle": false,
     "title": ""
    },
    "colab": {
     "base_uri": "https://localhost:8080/"
    },
    "id": "Ipb3HqkcmepS",
    "outputId": "7aa441a9-8009-4590-af0e-67f69ec3a13b"
   },
   "outputs": [],
   "source": [
    "f = lambda i:i*i\n",
    "f(4)"
   ]
  },
  {
   "cell_type": "code",
   "execution_count": 0,
   "metadata": {
    "application/vnd.databricks.v1+cell": {
     "cellMetadata": {},
     "inputWidgets": {},
     "nuid": "4fdfa689-5aaf-42e4-86e5-09daf5d2ca27",
     "showTitle": false,
     "title": ""
    },
    "colab": {
     "base_uri": "https://localhost:8080/"
    },
    "id": "gwSPoAONm94z",
    "outputId": "21537ca8-57a9-45c6-ed64-3f1a41243274"
   },
   "outputs": [],
   "source": [
    "f = lambda a, b:a+b\n",
    "f(3,5)"
   ]
  },
  {
   "cell_type": "code",
   "execution_count": 0,
   "metadata": {
    "application/vnd.databricks.v1+cell": {
     "cellMetadata": {},
     "inputWidgets": {},
     "nuid": "c5b2537c-09bd-4cb6-b400-874b172792cf",
     "showTitle": false,
     "title": ""
    },
    "colab": {
     "base_uri": "https://localhost:8080/"
    },
    "id": "dymCkJhnndE4",
    "outputId": "0a8ffea0-3382-4bb7-f0e8-25d6d690d3c2"
   },
   "outputs": [],
   "source": [
    "f = lambda a,b,c : a*b*c\n",
    "f(3,5,8)"
   ]
  },
  {
   "cell_type": "code",
   "execution_count": 0,
   "metadata": {
    "application/vnd.databricks.v1+cell": {
     "cellMetadata": {},
     "inputWidgets": {},
     "nuid": "1cfd2201-a8cb-4e27-8e5c-ee935ba44401",
     "showTitle": false,
     "title": ""
    },
    "colab": {
     "base_uri": "https://localhost:8080/"
    },
    "id": "n1YojQNbny8h",
    "outputId": "e49b80e0-7d7d-4592-ea5a-ec5f0c9351b5"
   },
   "outputs": [],
   "source": [
    "f = lambda a,b: a if a>b else b\n",
    "f(9,80)"
   ]
  },
  {
   "cell_type": "markdown",
   "metadata": {
    "application/vnd.databricks.v1+cell": {
     "cellMetadata": {},
     "inputWidgets": {},
     "nuid": "cc424ca3-cab8-489e-86f9-08f012b42f62",
     "showTitle": false,
     "title": ""
    },
    "id": "hN7qxTONqDXk"
   },
   "source": [
    "## **Filter, Map, Reduce functions**"
   ]
  },
  {
   "cell_type": "markdown",
   "metadata": {
    "application/vnd.databricks.v1+cell": {
     "cellMetadata": {},
     "inputWidgets": {},
     "nuid": "fdfb61f6-bf5c-4985-ba28-4d91242dfa62",
     "showTitle": false,
     "title": ""
    },
    "id": "TkjM9tUCtQbP"
   },
   "source": [
    "### **Filter()**"
   ]
  },
  {
   "cell_type": "code",
   "execution_count": 0,
   "metadata": {
    "application/vnd.databricks.v1+cell": {
     "cellMetadata": {},
     "inputWidgets": {},
     "nuid": "6ce3ebe4-3de6-4c77-a691-83ed53922a37",
     "showTitle": false,
     "title": ""
    },
    "colab": {
     "base_uri": "https://localhost:8080/"
    },
    "id": "4JfFSKWzqA7P",
    "outputId": "41750865-9489-479d-d818-b6cc3a2b092f"
   },
   "outputs": [],
   "source": [
    "def oddEven(n):\n",
    "  if n % 2 == 0:\n",
    "    return True\n",
    "  else:\n",
    "    return False\n",
    "\n",
    "\n",
    "l = [0,2,3,4,5,6,7,8]\n",
    "\n",
    "res = list(filter(oddEven, l))\n",
    "print(res)"
   ]
  },
  {
   "cell_type": "code",
   "execution_count": 0,
   "metadata": {
    "application/vnd.databricks.v1+cell": {
     "cellMetadata": {},
     "inputWidgets": {},
     "nuid": "d9660bb2-ccf3-428e-9fbf-37ebad45bbab",
     "showTitle": false,
     "title": ""
    },
    "colab": {
     "base_uri": "https://localhost:8080/"
    },
    "id": "WcB13NF8qZBa",
    "outputId": "3152b259-b8ed-4c3f-e99e-9ad9d86a45d7"
   },
   "outputs": [],
   "source": [
    "res_new = list(filter(lambda x: x%2==0, l))\n",
    "res_new"
   ]
  },
  {
   "cell_type": "code",
   "execution_count": 0,
   "metadata": {
    "application/vnd.databricks.v1+cell": {
     "cellMetadata": {},
     "inputWidgets": {},
     "nuid": "494572bf-516b-4729-9a2b-8b32d5e3fffb",
     "showTitle": false,
     "title": ""
    },
    "id": "uuiS3BKkr04S"
   },
   "outputs": [],
   "source": []
  },
  {
   "cell_type": "markdown",
   "metadata": {
    "application/vnd.databricks.v1+cell": {
     "cellMetadata": {},
     "inputWidgets": {},
     "nuid": "0cb5522f-966f-4e54-b77d-08d548f43139",
     "showTitle": false,
     "title": ""
    },
    "id": "u-pBnbMLtTqH"
   },
   "source": [
    "### **Map()**"
   ]
  },
  {
   "cell_type": "code",
   "execution_count": 0,
   "metadata": {
    "application/vnd.databricks.v1+cell": {
     "cellMetadata": {},
     "inputWidgets": {},
     "nuid": "d1295641-c068-4d6b-9609-b631cfb78ffc",
     "showTitle": false,
     "title": ""
    },
    "colab": {
     "base_uri": "https://localhost:8080/"
    },
    "id": "ZP7vdaoLsC14",
    "outputId": "c9892a6a-e2fc-4805-ecb2-4cbdb32a530b"
   },
   "outputs": [],
   "source": [
    "l = [10,11,12,14,15]\n",
    "\n",
    "def sq(n):\n",
    "  return n**2\n",
    "\n",
    "sq = list(map(sq, l))\n",
    "\n",
    "sq"
   ]
  },
  {
   "cell_type": "code",
   "execution_count": 0,
   "metadata": {
    "application/vnd.databricks.v1+cell": {
     "cellMetadata": {},
     "inputWidgets": {},
     "nuid": "38d48910-9f3f-4fc1-b628-679c8d7aae8f",
     "showTitle": false,
     "title": ""
    },
    "colab": {
     "base_uri": "https://localhost:8080/"
    },
    "id": "D6CjuCDhtteO",
    "outputId": "65f64621-866e-4aed-f06c-b5a3443a3cc3"
   },
   "outputs": [],
   "source": [
    "words = [\"hello\", 'world', 'lambda', 'exercise']\n",
    "\n",
    "res = list(map(lambda x: x.upper(), words))\n",
    "\n",
    "res"
   ]
  },
  {
   "cell_type": "markdown",
   "metadata": {
    "application/vnd.databricks.v1+cell": {
     "cellMetadata": {},
     "inputWidgets": {},
     "nuid": "e5b243d0-b39d-4ca5-9bc9-db85bbdb1468",
     "showTitle": false,
     "title": ""
    },
    "id": "wAxMvCs4xSOk"
   },
   "source": [
    "### **Sorted()**"
   ]
  },
  {
   "cell_type": "code",
   "execution_count": 0,
   "metadata": {
    "application/vnd.databricks.v1+cell": {
     "cellMetadata": {},
     "inputWidgets": {},
     "nuid": "fedc7995-ff68-4721-91e3-0969eac6a837",
     "showTitle": false,
     "title": ""
    },
    "colab": {
     "base_uri": "https://localhost:8080/"
    },
    "id": "zYQSMjmZu6av",
    "outputId": "de3fee27-f491-4fcc-9bf6-d01cbe40eb94"
   },
   "outputs": [],
   "source": [
    "people = [{'name':'Alice', 'age':30},{'name':'Bob', 'age':25},{'name':'Charles', 'age':35}]\n",
    "res = sorted(people, key=lambda i: i['age'])\n",
    "res"
   ]
  },
  {
   "cell_type": "code",
   "execution_count": 0,
   "metadata": {
    "application/vnd.databricks.v1+cell": {
     "cellMetadata": {},
     "inputWidgets": {},
     "nuid": "2e159ef8-3ba6-4074-a743-4f8c0b68d71f",
     "showTitle": false,
     "title": ""
    },
    "id": "gZ4QtVmexX1p"
   },
   "outputs": [],
   "source": []
  },
  {
   "cell_type": "markdown",
   "metadata": {
    "application/vnd.databricks.v1+cell": {
     "cellMetadata": {},
     "inputWidgets": {},
     "nuid": "e6a2f48a-b039-4de8-a641-a3cb3a175e59",
     "showTitle": false,
     "title": ""
    },
    "id": "9MQzciXn6tD1"
   },
   "source": [
    "## **Classes & Objects in Python**\n",
    "  * Class consists of attributes and variables\n",
    "  * Methods/functions"
   ]
  },
  {
   "cell_type": "code",
   "execution_count": 0,
   "metadata": {
    "application/vnd.databricks.v1+cell": {
     "cellMetadata": {},
     "inputWidgets": {},
     "nuid": "db35d643-4bce-4c38-b2ce-26c07ec68d1f",
     "showTitle": false,
     "title": ""
    },
    "colab": {
     "base_uri": "https://localhost:8080/"
    },
    "id": "ESzgB_dM6wbP",
    "outputId": "52fcda45-e498-4323-8685-8ec269a6fb88"
   },
   "outputs": [],
   "source": [
    "class addition:\n",
    "    a = 10\n",
    "    b = 20\n",
    "    def add(self):\n",
    "      return self.a+self.b\n",
    "\n",
    "obj = addition()\n",
    "obj.add()"
   ]
  },
  {
   "cell_type": "code",
   "execution_count": 0,
   "metadata": {
    "application/vnd.databricks.v1+cell": {
     "cellMetadata": {},
     "inputWidgets": {},
     "nuid": "cca61fb4-61de-4a8e-9007-ce101fc19098",
     "showTitle": false,
     "title": ""
    },
    "id": "_xw_yomC7Wu2"
   },
   "outputs": [],
   "source": [
    "class Computer:\n",
    "  def config(self):\n",
    "    print(\"i5, 16Gb, \",32)"
   ]
  },
  {
   "cell_type": "code",
   "execution_count": 0,
   "metadata": {
    "application/vnd.databricks.v1+cell": {
     "cellMetadata": {},
     "inputWidgets": {},
     "nuid": "a183ee09-b611-4d8f-88df-016826364737",
     "showTitle": false,
     "title": ""
    },
    "colab": {
     "base_uri": "https://localhost:8080/"
    },
    "id": "9mItRZWd8JWM",
    "outputId": "871d5b46-34d1-44e2-f040-65bceaa054bc"
   },
   "outputs": [],
   "source": [
    "obj = Computer()\n",
    "obj.config()"
   ]
  },
  {
   "cell_type": "code",
   "execution_count": 0,
   "metadata": {
    "application/vnd.databricks.v1+cell": {
     "cellMetadata": {},
     "inputWidgets": {},
     "nuid": "7bc4b8fd-dd2f-4669-b9ba-57ff6d21d483",
     "showTitle": false,
     "title": ""
    },
    "id": "bl_9yOOX8MFH"
   },
   "outputs": [],
   "source": []
  }
 ],
 "metadata": {
  "application/vnd.databricks.v1+notebook": {
   "dashboards": [],
   "language": "python",
   "notebookMetadata": {},
   "notebookName": "Python_Day_02_Python",
   "widgets": {}
  },
  "colab": {
   "collapsed_sections": [
    "VNiVhc2zh8Oz",
    "fEQIprpvlE_L",
    "fZnb_z4g-IzB",
    "Y6oW1g82CHU6",
    "Uv37m7quOAkY",
    "FK-K6qPYgFXo",
    "UEN8Yh_kmYrr",
    "hN7qxTONqDXk"
   ],
   "provenance": []
  },
  "kernelspec": {
   "display_name": "Python 3",
   "name": "python3"
  },
  "language_info": {
   "name": "python"
  }
 },
 "nbformat": 4,
 "nbformat_minor": 0
}
