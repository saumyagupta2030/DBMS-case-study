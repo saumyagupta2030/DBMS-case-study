{
 "cells": [
  {
   "cell_type": "markdown",
   "metadata": {
    "application/vnd.databricks.v1+cell": {
     "cellMetadata": {},
     "inputWidgets": {},
     "nuid": "6161e44f-8b1a-4e75-9ad7-bd67f90f4352",
     "showTitle": false,
     "title": ""
    },
    "id": "VgQ2cBonhJHJ"
   },
   "source": [
    "### **Fundamental Data Types in Python**"
   ]
  },
  {
   "cell_type": "code",
   "execution_count": 0,
   "metadata": {
    "application/vnd.databricks.v1+cell": {
     "cellMetadata": {},
     "inputWidgets": {},
     "nuid": "74a66581-ffc4-413e-abc7-d7f721069755",
     "showTitle": false,
     "title": ""
    },
    "colab": {
     "base_uri": "https://localhost:8080/"
    },
    "id": "Ru-cEGSOgqvs",
    "outputId": "3ab66be8-c933-4a17-d88b-e68f6f67e8c5"
   },
   "outputs": [],
   "source": [
    "print(\"Welcome\")"
   ]
  },
  {
   "cell_type": "code",
   "execution_count": 0,
   "metadata": {
    "application/vnd.databricks.v1+cell": {
     "cellMetadata": {},
     "inputWidgets": {},
     "nuid": "11fd9a32-9313-484a-86ed-14f7a5009b0f",
     "showTitle": false,
     "title": ""
    },
    "colab": {
     "base_uri": "https://localhost:8080/"
    },
    "id": "fFrYGRIzhQ2t",
    "outputId": "e7559150-1727-479f-b13b-8b1bbdab3a54"
   },
   "outputs": [],
   "source": [
    "a = 10\n",
    "type(a)\n",
    "print(a)"
   ]
  },
  {
   "cell_type": "code",
   "execution_count": 0,
   "metadata": {
    "application/vnd.databricks.v1+cell": {
     "cellMetadata": {},
     "inputWidgets": {},
     "nuid": "06b71971-8194-41cf-bca0-e1ea45e2179f",
     "showTitle": false,
     "title": ""
    },
    "colab": {
     "base_uri": "https://localhost:8080/"
    },
    "id": "KkncpfcwhcY3",
    "outputId": "1f4973eb-22db-499e-df92-45a27d3a3cf3"
   },
   "outputs": [],
   "source": [
    "b = \"python\"\n",
    "print(type(b))\n",
    "print(b)"
   ]
  },
  {
   "cell_type": "code",
   "execution_count": 0,
   "metadata": {
    "application/vnd.databricks.v1+cell": {
     "cellMetadata": {},
     "inputWidgets": {},
     "nuid": "4c5a3473-6d1b-4ee3-8824-c573d36c8d0a",
     "showTitle": false,
     "title": ""
    },
    "colab": {
     "base_uri": "https://localhost:8080/"
    },
    "id": "dqZ322XQkWYX",
    "outputId": "697704fa-139c-4261-f690-321e4d20d207"
   },
   "outputs": [],
   "source": [
    "e =\"\"\"Data\n",
    "engineering\n",
    "Python\n",
    "\"\"\"\n",
    "type(e)"
   ]
  },
  {
   "cell_type": "code",
   "execution_count": 0,
   "metadata": {
    "application/vnd.databricks.v1+cell": {
     "cellMetadata": {},
     "inputWidgets": {},
     "nuid": "e95b1c91-8093-40f0-b1bf-d9b027376b65",
     "showTitle": false,
     "title": ""
    },
    "colab": {
     "base_uri": "https://localhost:8080/"
    },
    "id": "IBc3C5KAk9H8",
    "outputId": "5bfca08a-1d5f-4694-bb43-9640ee9e73f0"
   },
   "outputs": [],
   "source": [
    "a = True\n",
    "type(a)"
   ]
  },
  {
   "cell_type": "code",
   "execution_count": 0,
   "metadata": {
    "application/vnd.databricks.v1+cell": {
     "cellMetadata": {},
     "inputWidgets": {},
     "nuid": "c010efb7-ed9a-4e7f-98fa-8acc061492d1",
     "showTitle": false,
     "title": ""
    },
    "colab": {
     "base_uri": "https://localhost:8080/"
    },
    "id": "wrrx-WYSk--p",
    "outputId": "5b137016-e1a5-4379-e481-e278aae0bc70"
   },
   "outputs": [],
   "source": [
    "a = False\n",
    "type(a)"
   ]
  },
  {
   "cell_type": "code",
   "execution_count": 0,
   "metadata": {
    "application/vnd.databricks.v1+cell": {
     "cellMetadata": {},
     "inputWidgets": {},
     "nuid": "8a3fb180-2529-4d84-b6d6-4af42b50647f",
     "showTitle": false,
     "title": ""
    },
    "colab": {
     "base_uri": "https://localhost:8080/"
    },
    "id": "Jkw8cEt1lSvH",
    "outputId": "98fe27e8-865b-44b8-ba7e-c3022bf0ee8e"
   },
   "outputs": [],
   "source": [
    "print(a)"
   ]
  },
  {
   "cell_type": "code",
   "execution_count": 0,
   "metadata": {
    "application/vnd.databricks.v1+cell": {
     "cellMetadata": {},
     "inputWidgets": {},
     "nuid": "0e4da7a8-7288-4d17-a6a2-599f8a2087d2",
     "showTitle": false,
     "title": ""
    },
    "colab": {
     "base_uri": "https://localhost:8080/"
    },
    "id": "TsY3G1K9lT5t",
    "outputId": "2f49f527-259e-4996-ad80-64ac06284413"
   },
   "outputs": [],
   "source": [
    "a = 10\n",
    "b = 20\n",
    "c = a>b\n",
    "print(c)"
   ]
  },
  {
   "cell_type": "code",
   "execution_count": 0,
   "metadata": {
    "application/vnd.databricks.v1+cell": {
     "cellMetadata": {},
     "inputWidgets": {},
     "nuid": "2e62a6e3-8006-4495-b145-80290a425661",
     "showTitle": false,
     "title": ""
    },
    "colab": {
     "base_uri": "https://localhost:8080/"
    },
    "id": "pYhsyq6GlttW",
    "outputId": "aae91770-03fb-4629-cca8-3f513d1c4998"
   },
   "outputs": [],
   "source": [
    "print(True+True)"
   ]
  },
  {
   "cell_type": "code",
   "execution_count": 0,
   "metadata": {
    "application/vnd.databricks.v1+cell": {
     "cellMetadata": {},
     "inputWidgets": {},
     "nuid": "b958ae95-2b67-42b2-a2c9-9ff2c550f320",
     "showTitle": false,
     "title": ""
    },
    "colab": {
     "base_uri": "https://localhost:8080/"
    },
    "id": "GnKnC1bsl9_I",
    "outputId": "b8e839d0-0235-4267-8933-7fa53f65f7a4"
   },
   "outputs": [],
   "source": [
    "d = 10+20j\n",
    "type(d)"
   ]
  },
  {
   "cell_type": "markdown",
   "metadata": {
    "application/vnd.databricks.v1+cell": {
     "cellMetadata": {},
     "inputWidgets": {},
     "nuid": "ae130aec-ec85-430f-a23e-2a0f54f8961f",
     "showTitle": false,
     "title": ""
    },
    "id": "qGfzJZLUnGsd"
   },
   "source": [
    "#### **Note**\n",
    "* All fundamental datatypes (i.e. int, string, float, boolean, complex etc.) are immutable in nature.\n",
    "* New object won't be created if a object already exists with same value\n",
    "\n",
    "**e.g.**\n",
    "\n",
    "```\n",
    "a = 10\n",
    "b = 10\n",
    "```\n",
    "* ```b``` will also point to the same object ```a```\n",
    "\n",
    "* The address of both ```a``` and ```b``` will point to the same address"
   ]
  },
  {
   "cell_type": "code",
   "execution_count": 0,
   "metadata": {
    "application/vnd.databricks.v1+cell": {
     "cellMetadata": {},
     "inputWidgets": {},
     "nuid": "4a419d48-722d-4ae2-b159-d41534b1e844",
     "showTitle": false,
     "title": ""
    },
    "id": "l84gitDLnIBD"
   },
   "outputs": [],
   "source": [
    "a = 10"
   ]
  },
  {
   "cell_type": "code",
   "execution_count": 0,
   "metadata": {
    "application/vnd.databricks.v1+cell": {
     "cellMetadata": {},
     "inputWidgets": {},
     "nuid": "d7703987-0c2c-4d10-bea7-16a10605ca1c",
     "showTitle": false,
     "title": ""
    },
    "colab": {
     "base_uri": "https://localhost:8080/"
    },
    "id": "T8HwT1xin682",
    "outputId": "fda9b118-c24d-4b24-cc1c-57f76cf078b0"
   },
   "outputs": [],
   "source": [
    "print(id(a))"
   ]
  },
  {
   "cell_type": "code",
   "execution_count": 0,
   "metadata": {
    "application/vnd.databricks.v1+cell": {
     "cellMetadata": {},
     "inputWidgets": {},
     "nuid": "1356bc9b-e2c9-4865-ab4f-663605ed0b0e",
     "showTitle": false,
     "title": ""
    },
    "id": "_OsV474zn8zD"
   },
   "outputs": [],
   "source": [
    "b = 10"
   ]
  },
  {
   "cell_type": "code",
   "execution_count": 0,
   "metadata": {
    "application/vnd.databricks.v1+cell": {
     "cellMetadata": {},
     "inputWidgets": {},
     "nuid": "80cbf6d7-cd3e-4ae9-a01a-301e9e209026",
     "showTitle": false,
     "title": ""
    },
    "colab": {
     "base_uri": "https://localhost:8080/"
    },
    "id": "gC8RC5cIn9a8",
    "outputId": "4ce5bb44-8acc-487d-cbe0-d8b6563ad849"
   },
   "outputs": [],
   "source": [
    "print(id(b))"
   ]
  },
  {
   "cell_type": "code",
   "execution_count": 0,
   "metadata": {
    "application/vnd.databricks.v1+cell": {
     "cellMetadata": {},
     "inputWidgets": {},
     "nuid": "f19a8748-69ca-4d8f-9b89-d4d882981232",
     "showTitle": false,
     "title": ""
    },
    "colab": {
     "base_uri": "https://localhost:8080/",
     "height": 35
    },
    "id": "KfBPRBO_pfzF",
    "outputId": "ac4cc5ae-9d38-479f-f7b1-9833547220d8"
   },
   "outputs": [],
   "source": [
    "s = \"Data Engineering\" #Strings supports +ve & -ve indexing\n",
    "s[-7]"
   ]
  },
  {
   "cell_type": "code",
   "execution_count": 0,
   "metadata": {
    "application/vnd.databricks.v1+cell": {
     "cellMetadata": {},
     "inputWidgets": {},
     "nuid": "f15c46a5-d2de-42d5-9fa0-944329906554",
     "showTitle": false,
     "title": ""
    },
    "colab": {
     "base_uri": "https://localhost:8080/"
    },
    "id": "SCG3dEltqOgG",
    "outputId": "ec9ca56d-af85-4e39-f896-8d0251196a4a"
   },
   "outputs": [],
   "source": [
    "#slicing in Strings\n",
    "print(s[0:4])\n",
    "print(s[0:4:2])\n",
    "#s_obj[start_pos:end_pos(not included):increment_val]"
   ]
  },
  {
   "cell_type": "code",
   "execution_count": 0,
   "metadata": {
    "application/vnd.databricks.v1+cell": {
     "cellMetadata": {},
     "inputWidgets": {},
     "nuid": "a6e04a0b-e882-473c-ab03-1fe8c057eb79",
     "showTitle": false,
     "title": ""
    },
    "colab": {
     "base_uri": "https://localhost:8080/",
     "height": 35
    },
    "id": "-tzYXUbTq7V_",
    "outputId": "8f07c0e3-58cb-4dd2-9981-e7c5fa565c38"
   },
   "outputs": [],
   "source": [
    "s = \"ABCDEFGHIJKLMNOPQRSTVXYZ\"\n",
    "s[12:15]\n",
    "s[:14]\n",
    "s[-3:]\n",
    "s[:]\n",
    "s[3:1000]"
   ]
  },
  {
   "cell_type": "markdown",
   "metadata": {
    "application/vnd.databricks.v1+cell": {
     "cellMetadata": {},
     "inputWidgets": {},
     "nuid": "f24acc8c-9286-4b1e-8084-da8f2961170a",
     "showTitle": false,
     "title": ""
    },
    "id": "UrQlfH2O5Qav"
   },
   "source": [
    "### **Operators in Python**"
   ]
  },
  {
   "cell_type": "markdown",
   "metadata": {
    "application/vnd.databricks.v1+cell": {
     "cellMetadata": {},
     "inputWidgets": {},
     "nuid": "33e74d89-7295-4629-aa19-bcb355832160",
     "showTitle": false,
     "title": ""
    },
    "id": "rrASh-sA5oeD"
   },
   "source": [
    "#### **Arithmetic Operators**"
   ]
  },
  {
   "cell_type": "code",
   "execution_count": 0,
   "metadata": {
    "application/vnd.databricks.v1+cell": {
     "cellMetadata": {},
     "inputWidgets": {},
     "nuid": "35fda7f8-de26-45cf-b38c-972fc3ac6d3b",
     "showTitle": false,
     "title": ""
    },
    "colab": {
     "base_uri": "https://localhost:8080/"
    },
    "id": "y2VtOr5b5dhR",
    "outputId": "3a90ba01-b107-4486-b6d7-6fc17ced215c"
   },
   "outputs": [],
   "source": [
    "a = 10\n",
    "b = 20\n",
    "print(a+b)\n",
    "print(a-b)\n",
    "print(a*b)\n",
    "print(a/b)\n",
    "print(a//b) #Floor division 10/20 = 0.5 => 0\n",
    "print(3//2)"
   ]
  },
  {
   "cell_type": "code",
   "execution_count": 0,
   "metadata": {
    "application/vnd.databricks.v1+cell": {
     "cellMetadata": {},
     "inputWidgets": {},
     "nuid": "cd58c06e-aa10-436e-97a5-afb1629c6632",
     "showTitle": false,
     "title": ""
    },
    "colab": {
     "base_uri": "https://localhost:8080/"
    },
    "id": "_Gx8Ygs76YGU",
    "outputId": "d412bf56-32f5-49c3-e316-00e0375528e8"
   },
   "outputs": [],
   "source": [
    "a = 10.0\n",
    "b = 2.0\n",
    "print(a/b)\n",
    "print(a//b)"
   ]
  },
  {
   "cell_type": "markdown",
   "metadata": {
    "application/vnd.databricks.v1+cell": {
     "cellMetadata": {},
     "inputWidgets": {},
     "nuid": "3184e0c0-112d-4638-aeed-5c9c0becb1da",
     "showTitle": false,
     "title": ""
    },
    "id": "7vCc42CP6iR4"
   },
   "source": [
    "#### **Note**\n",
    "* If the variables are in float then the result will be in float"
   ]
  },
  {
   "cell_type": "code",
   "execution_count": 0,
   "metadata": {
    "application/vnd.databricks.v1+cell": {
     "cellMetadata": {},
     "inputWidgets": {},
     "nuid": "146a3636-8964-457c-95a5-07e4222b2f50",
     "showTitle": false,
     "title": ""
    },
    "colab": {
     "base_uri": "https://localhost:8080/"
    },
    "id": "wp1LVGPF6o6x",
    "outputId": "6c951d64-86bd-4b08-b705-f854d86af3f9"
   },
   "outputs": [],
   "source": [
    "print(a%b)\n",
    "print(a**b)"
   ]
  },
  {
   "cell_type": "code",
   "execution_count": 0,
   "metadata": {
    "application/vnd.databricks.v1+cell": {
     "cellMetadata": {},
     "inputWidgets": {},
     "nuid": "0065ae60-08dc-4285-ae8f-58c6de606288",
     "showTitle": false,
     "title": ""
    },
    "colab": {
     "base_uri": "https://localhost:8080/",
     "height": 35
    },
    "id": "cZaTmk9P-Jz2",
    "outputId": "26d17914-abb1-4e73-c745-abadf1028108"
   },
   "outputs": [],
   "source": [
    "\"ten\" + \"twenty\"\n",
    "# \"ten\"*\"twenty\" -> gives error"
   ]
  },
  {
   "cell_type": "code",
   "execution_count": 0,
   "metadata": {
    "application/vnd.databricks.v1+cell": {
     "cellMetadata": {},
     "inputWidgets": {},
     "nuid": "df2bfc1d-5956-4012-a4dc-fed254803aba",
     "showTitle": false,
     "title": ""
    },
    "id": "G3mRNEY9-jV4"
   },
   "outputs": [],
   "source": [
    "#\"ten\" + 10 ->gives error"
   ]
  },
  {
   "cell_type": "markdown",
   "metadata": {
    "application/vnd.databricks.v1+cell": {
     "cellMetadata": {},
     "inputWidgets": {},
     "nuid": "7e3ce35b-3caf-4f69-a35f-5c8e3316f243",
     "showTitle": false,
     "title": ""
    },
    "id": "SyW1h5vr-sVf"
   },
   "source": [
    "#### **Note**\n",
    "* Multiplication operation works with one Int and one String datatype\n",
    "* Multiplication operation donot work with two string operators\n",
    "* addition only works with two string datatypes or two integer datatypes"
   ]
  },
  {
   "cell_type": "code",
   "execution_count": 0,
   "metadata": {
    "application/vnd.databricks.v1+cell": {
     "cellMetadata": {},
     "inputWidgets": {},
     "nuid": "448ee557-316f-4073-95d2-fba633be5cd5",
     "showTitle": false,
     "title": ""
    },
    "colab": {
     "base_uri": "https://localhost:8080/",
     "height": 35
    },
    "id": "7t04bXDU-NBY",
    "outputId": "bd031f21-95ce-474f-8fca-ff23a49e5575"
   },
   "outputs": [],
   "source": [
    "\"ten\"*3"
   ]
  },
  {
   "cell_type": "markdown",
   "metadata": {
    "application/vnd.databricks.v1+cell": {
     "cellMetadata": {},
     "inputWidgets": {},
     "nuid": "77d2fc8d-0bb8-4330-aac0-dc9ddce26b24",
     "showTitle": false,
     "title": ""
    },
    "id": "tsYYaiqD5wut"
   },
   "source": [
    "#### **Relational **Operators** <, >, <=, >=, !=, ==**\n"
   ]
  },
  {
   "cell_type": "code",
   "execution_count": 0,
   "metadata": {
    "application/vnd.databricks.v1+cell": {
     "cellMetadata": {},
     "inputWidgets": {},
     "nuid": "6d0e2cec-0be0-485b-adf5-c62f10c1cf7b",
     "showTitle": false,
     "title": ""
    },
    "colab": {
     "base_uri": "https://localhost:8080/"
    },
    "id": "Si7mo8JX668o",
    "outputId": "e6b15611-13c0-4518-b3a0-7e93eb555df6"
   },
   "outputs": [],
   "source": [
    "a = 20\n",
    "b = 10\n",
    "print(a>b)\n",
    "print(a>=b)"
   ]
  },
  {
   "cell_type": "markdown",
   "metadata": {
    "application/vnd.databricks.v1+cell": {
     "cellMetadata": {},
     "inputWidgets": {},
     "nuid": "bd44743d-e90b-4334-b8d7-187e0a683ea6",
     "showTitle": false,
     "title": ""
    },
    "id": "mwMZO_hX7EvI"
   },
   "source": [
    "#### **Logical Operators**\n"
   ]
  },
  {
   "cell_type": "code",
   "execution_count": 0,
   "metadata": {
    "application/vnd.databricks.v1+cell": {
     "cellMetadata": {},
     "inputWidgets": {},
     "nuid": "01c530b7-42e8-4909-b938-5f9906de2789",
     "showTitle": false,
     "title": ""
    },
    "colab": {
     "base_uri": "https://localhost:8080/"
    },
    "id": "62AV93zp67mL",
    "outputId": "9ebbfa1f-9714-4282-8dbd-aceaf6d28277"
   },
   "outputs": [],
   "source": [
    "a = True\n",
    "b = False\n",
    "print(a and b)"
   ]
  },
  {
   "cell_type": "code",
   "execution_count": 0,
   "metadata": {
    "application/vnd.databricks.v1+cell": {
     "cellMetadata": {},
     "inputWidgets": {},
     "nuid": "124df4cc-d645-48b6-b247-8315c7d9aac4",
     "showTitle": false,
     "title": ""
    },
    "colab": {
     "base_uri": "https://localhost:8080/"
    },
    "id": "TR0S16q27UwH",
    "outputId": "893156b7-459a-4a5f-f8ea-71d3e72ea135"
   },
   "outputs": [],
   "source": [
    "print(a or b)"
   ]
  },
  {
   "cell_type": "code",
   "execution_count": 0,
   "metadata": {
    "application/vnd.databricks.v1+cell": {
     "cellMetadata": {},
     "inputWidgets": {},
     "nuid": "ec47d61f-f96e-42d5-a998-d41b20d6ed3f",
     "showTitle": false,
     "title": ""
    },
    "colab": {
     "base_uri": "https://localhost:8080/"
    },
    "id": "ZKmejs6C7X7F",
    "outputId": "cddf428f-a86f-4544-b88c-fa782db53f55"
   },
   "outputs": [],
   "source": [
    "print(not a)"
   ]
  },
  {
   "cell_type": "code",
   "execution_count": 0,
   "metadata": {
    "application/vnd.databricks.v1+cell": {
     "cellMetadata": {},
     "inputWidgets": {},
     "nuid": "085194f5-04a0-4f15-b604-aa2771190004",
     "showTitle": false,
     "title": ""
    },
    "colab": {
     "base_uri": "https://localhost:8080/"
    },
    "id": "q_RsY81r8PbB",
    "outputId": "1d767ddc-aa16-4f54-d563-79319b2d1701"
   },
   "outputs": [],
   "source": [
    "is_geological_survey_complete = True\n",
    "is_environmental_clearance_received = True\n",
    "is_market_demand_high = False\n",
    "\n",
    "should_start_drilling = is_geological_survey_complete and is_environmental_clearance_received and is_market_demand_high\n",
    "print(\"Should we start drilling?\", should_start_drilling)\n"
   ]
  },
  {
   "cell_type": "code",
   "execution_count": 0,
   "metadata": {
    "application/vnd.databricks.v1+cell": {
     "cellMetadata": {},
     "inputWidgets": {},
     "nuid": "bc72e15d-42af-4de2-b9fe-f86c220c3997",
     "showTitle": false,
     "title": ""
    },
    "colab": {
     "base_uri": "https://localhost:8080/"
    },
    "id": "lj_DUrwb9A_W",
    "outputId": "f5b91557-541a-46c6-a0f9-ef3a055733da"
   },
   "outputs": [],
   "source": [
    "# Boolean Variables\n",
    "HasExplorationPermit = True\n",
    "HasDrillingRights = True\n",
    "HasEnvironmentalApproval = False\n",
    "HasOilDiscovery = True\n",
    "\n",
    "\n",
    "\n",
    "# Logical Operations\n",
    "IsExplorationAllowed = HasExplorationPermit and HasDrillingRights and not HasEnvironmentalApproval #true\n",
    "IsDiscoveryProfitable = HasOilDiscovery and (HasExplorationPermit or HasDrillingRights) #true\n",
    "\n",
    "print(IsExplorationAllowed, IsDiscoveryProfitable)"
   ]
  },
  {
   "cell_type": "markdown",
   "metadata": {
    "application/vnd.databricks.v1+cell": {
     "cellMetadata": {},
     "inputWidgets": {},
     "nuid": "7b26057c-016e-406c-a3d0-e750275038bb",
     "showTitle": false,
     "title": ""
    },
    "id": "Y39NRbxgQchs"
   },
   "source": [
    "#### **Membership Operator**"
   ]
  },
  {
   "cell_type": "code",
   "execution_count": 0,
   "metadata": {
    "application/vnd.databricks.v1+cell": {
     "cellMetadata": {},
     "inputWidgets": {},
     "nuid": "1f47990f-936d-4cca-8722-9f9fc1eb1b65",
     "showTitle": false,
     "title": ""
    },
    "colab": {
     "base_uri": "https://localhost:8080/"
    },
    "id": "PlCBImkEQfoX",
    "outputId": "e4cf52bc-4b6b-4b04-cd96-4a0d5089377d"
   },
   "outputs": [],
   "source": [
    "a = [10, 20, 40, \"Shell\", \"Data\"]\n",
    "10 in a"
   ]
  },
  {
   "cell_type": "code",
   "execution_count": 0,
   "metadata": {
    "application/vnd.databricks.v1+cell": {
     "cellMetadata": {},
     "inputWidgets": {},
     "nuid": "3ac4730d-3b1b-44af-af87-51f9815072cf",
     "showTitle": false,
     "title": ""
    },
    "colab": {
     "base_uri": "https://localhost:8080/"
    },
    "id": "VICbogoIQfxt",
    "outputId": "7bd11ef7-ae3b-464b-c5a8-4f83b57809f0"
   },
   "outputs": [],
   "source": [
    "\"Shell\" not in a"
   ]
  },
  {
   "cell_type": "code",
   "execution_count": 0,
   "metadata": {
    "application/vnd.databricks.v1+cell": {
     "cellMetadata": {},
     "inputWidgets": {},
     "nuid": "fd620b7f-2fd2-4d01-bc47-e2dd5e5cc4e7",
     "showTitle": false,
     "title": ""
    },
    "colab": {
     "base_uri": "https://localhost:8080/"
    },
    "id": "14-_yQ7GQ3lh",
    "outputId": "313a0e9e-afe3-47a3-fa34-a45ee62a55ab"
   },
   "outputs": [],
   "source": [
    "s = \"Python\"\n",
    "res = 'P' in s\n",
    "print(res)"
   ]
  },
  {
   "cell_type": "code",
   "execution_count": 0,
   "metadata": {
    "application/vnd.databricks.v1+cell": {
     "cellMetadata": {},
     "inputWidgets": {},
     "nuid": "a4506cf9-2166-497f-b4fd-7c2386da65b3",
     "showTitle": false,
     "title": ""
    },
    "colab": {
     "base_uri": "https://localhost:8080/"
    },
    "id": "mcy-26mdQ3xc",
    "outputId": "f7afa7d3-6832-48f9-ec96-983fafc065c6"
   },
   "outputs": [],
   "source": [
    "# List of Equipment\n",
    "refineryEquipment = [\"Crude Distillation Unit\", \"Catalytic Cracking Unit\", \"Hydrotreating Unit\", \"FCC Unit\"]\n",
    "\n",
    "\n",
    "\n",
    "# Membership Operator\n",
    "IsUnitInstalled = \"Hydrotreating Unit\" in refineryEquipment\n",
    "IsUnitObsolete = \"Thermal Cracking Unit\" not in refineryEquipment\n",
    "\n",
    "\n",
    "\n",
    "print(\"Is Hydrotreating Unit installed?\", IsUnitInstalled)\n",
    "print(\"Is Thermal Cracking Unit obsolete?\", IsUnitObsolete)"
   ]
  },
  {
   "cell_type": "markdown",
   "metadata": {
    "application/vnd.databricks.v1+cell": {
     "cellMetadata": {},
     "inputWidgets": {},
     "nuid": "409d868e-b25a-4a8d-bcb1-450c151b60da",
     "showTitle": false,
     "title": ""
    },
    "id": "iowjxVeRo2Bs"
   },
   "source": [
    "#### **Lists in Python**"
   ]
  },
  {
   "cell_type": "markdown",
   "metadata": {
    "application/vnd.databricks.v1+cell": {
     "cellMetadata": {},
     "inputWidgets": {},
     "nuid": "057c51cf-a338-4e8d-b2b0-7d62ec70092a",
     "showTitle": false,
     "title": ""
    },
    "id": "q6m5n9075G61"
   },
   "source": [
    "* Lists are mutable\n",
    "* Heterogeneous Objects are allowed\n",
    "* Duplicates are allowed\n",
    "* Indexing and Slicing are possible"
   ]
  },
  {
   "cell_type": "code",
   "execution_count": 0,
   "metadata": {
    "application/vnd.databricks.v1+cell": {
     "cellMetadata": {},
     "inputWidgets": {},
     "nuid": "2dda445a-d76e-48bd-b779-05fb1c0b065e",
     "showTitle": false,
     "title": ""
    },
    "colab": {
     "base_uri": "https://localhost:8080/"
    },
    "id": "8tfMWIGWo3Zx",
    "outputId": "e8d1eac6-7719-4a0d-92cb-9401170a85dd"
   },
   "outputs": [],
   "source": [
    "list1 = [10, \"python\", 20, 10, 0.5, True]\n",
    "print(list1)\n",
    "print(type(a))"
   ]
  },
  {
   "cell_type": "code",
   "execution_count": 0,
   "metadata": {
    "application/vnd.databricks.v1+cell": {
     "cellMetadata": {},
     "inputWidgets": {},
     "nuid": "83512282-1fdc-4ff8-9653-b9e6bcd6cbd9",
     "showTitle": false,
     "title": ""
    },
    "colab": {
     "base_uri": "https://localhost:8080/"
    },
    "id": "jaJGwJqjBFag",
    "outputId": "c9c30a9e-8664-45d1-8def-f718aef0460e"
   },
   "outputs": [],
   "source": [
    "list1[-1]"
   ]
  },
  {
   "cell_type": "code",
   "execution_count": 0,
   "metadata": {
    "application/vnd.databricks.v1+cell": {
     "cellMetadata": {},
     "inputWidgets": {},
     "nuid": "8ce4f483-a9ea-4f39-9f64-eeb9c3c84731",
     "showTitle": false,
     "title": ""
    },
    "colab": {
     "base_uri": "https://localhost:8080/"
    },
    "id": "b-YeHGH9CDTo",
    "outputId": "bcba1f3c-3736-49bc-8699-3e4a5542afda"
   },
   "outputs": [],
   "source": [
    "list1[:]"
   ]
  },
  {
   "cell_type": "code",
   "execution_count": 0,
   "metadata": {
    "application/vnd.databricks.v1+cell": {
     "cellMetadata": {},
     "inputWidgets": {},
     "nuid": "de56bdf2-75b4-4b5a-8966-406dcdf1c9e0",
     "showTitle": false,
     "title": ""
    },
    "colab": {
     "base_uri": "https://localhost:8080/"
    },
    "id": "OEXCwrypCD8M",
    "outputId": "ec24ae97-3ae4-4fa0-bb4f-6b3b1472a757"
   },
   "outputs": [],
   "source": [
    "id(list1)"
   ]
  },
  {
   "cell_type": "code",
   "execution_count": 0,
   "metadata": {
    "application/vnd.databricks.v1+cell": {
     "cellMetadata": {},
     "inputWidgets": {},
     "nuid": "41379138-3330-4e35-a45b-c89910cdfedf",
     "showTitle": false,
     "title": ""
    },
    "colab": {
     "base_uri": "https://localhost:8080/"
    },
    "id": "QO6_ih1nCKJO",
    "outputId": "35fbab9b-f410-42c0-f9e2-6cc68a13f985"
   },
   "outputs": [],
   "source": [
    "list1.append(999)\n",
    "id(list1)      ###Lists are mutable"
   ]
  },
  {
   "cell_type": "code",
   "execution_count": 0,
   "metadata": {
    "application/vnd.databricks.v1+cell": {
     "cellMetadata": {},
     "inputWidgets": {},
     "nuid": "1e75dc09-b30a-40ba-ae91-13b3dd2cbcb8",
     "showTitle": false,
     "title": ""
    },
    "colab": {
     "base_uri": "https://localhost:8080/"
    },
    "id": "7kwqaCEjCOAe",
    "outputId": "dbce4c8e-c642-4a3c-9666-9d451a2caeec"
   },
   "outputs": [],
   "source": [
    "list1.remove(10)\n",
    "print(list1)"
   ]
  },
  {
   "cell_type": "code",
   "execution_count": 0,
   "metadata": {
    "application/vnd.databricks.v1+cell": {
     "cellMetadata": {},
     "inputWidgets": {},
     "nuid": "695ef89b-b9b3-40c5-8036-e36d6b85389d",
     "showTitle": false,
     "title": ""
    },
    "colab": {
     "base_uri": "https://localhost:8080/"
    },
    "id": "F2Hb0GrjDB3Y",
    "outputId": "3f27a460-b108-4938-fd0a-697cc37cb8ed"
   },
   "outputs": [],
   "source": [
    "employees = [\n",
    "    \"John Doe, Senior Geologist, Geology, johndoe@email.com, 123-456-7890\",\n",
    "    \"Jane Smith, Drilling Engineer, Drilling, janesmith@email.com, 987-654-3210\",\n",
    "    \"Bob Johnson, Reservoir Engineer, Reservoir Engineering, bobjohnson@email.com, 456-789-0123\",\n",
    "    \"Alice Brown, Petrophysicist, Petrophysics, alicebrown@email.com, 789-012-3456\"\n",
    "]\n",
    "res = employees[0].split(',')\n",
    "print(\"Employee Information:\\nName: {}\\nJob Title: {}\\nDepartment: {}\\nEmail: {}\\nPhone: {}\".format(res[0], res[1], res[2], res[3], res[4]))"
   ]
  },
  {
   "cell_type": "code",
   "execution_count": 0,
   "metadata": {
    "application/vnd.databricks.v1+cell": {
     "cellMetadata": {},
     "inputWidgets": {},
     "nuid": "f89063c4-6f41-48ad-b58b-e0c1c8a586a1",
     "showTitle": false,
     "title": ""
    },
    "colab": {
     "base_uri": "https://localhost:8080/"
    },
    "id": "NFQ6pe_jSU7w",
    "outputId": "740cfc3d-7838-426e-e34b-a6adb63e4d9c"
   },
   "outputs": [],
   "source": [
    "new_employee = \"Eva Green, Drilling Technician, Drilling, evagreen@email.com, 111-222-3333\"\n",
    "employees.append(new_employee)\n",
    "print(employees)"
   ]
  },
  {
   "cell_type": "markdown",
   "metadata": {
    "application/vnd.databricks.v1+cell": {
     "cellMetadata": {},
     "inputWidgets": {},
     "nuid": "a31c075a-0cd0-4316-94a8-1b7c507b5a42",
     "showTitle": false,
     "title": ""
    },
    "id": "DVNFSaLkDLjo"
   },
   "source": [
    "#### **Tuples in python**\n",
    "* defined using ( )\n",
    "* order is preserved\n",
    "* indexing & slicing is allowed\n",
    "* tuples are immutable\n",
    "* heterogeneous elements are allowed"
   ]
  },
  {
   "cell_type": "code",
   "execution_count": 0,
   "metadata": {
    "application/vnd.databricks.v1+cell": {
     "cellMetadata": {},
     "inputWidgets": {},
     "nuid": "847932e8-7d95-4c86-8772-3378b8a9f22e",
     "showTitle": false,
     "title": ""
    },
    "id": "eCok5qXzDSiY"
   },
   "outputs": [],
   "source": [
    "a = (\"Well A\", \"2023-10-08\", \"Pipeline\", True, 100, 100)"
   ]
  },
  {
   "cell_type": "code",
   "execution_count": 0,
   "metadata": {
    "application/vnd.databricks.v1+cell": {
     "cellMetadata": {},
     "inputWidgets": {},
     "nuid": "f2a583ac-0406-4f1f-a005-80cb77774a2c",
     "showTitle": false,
     "title": ""
    },
    "colab": {
     "base_uri": "https://localhost:8080/"
    },
    "id": "XecGVHz_DsKe",
    "outputId": "a33ac648-34ec-4a19-8bac-7313e7dd3db3"
   },
   "outputs": [],
   "source": [
    "print(a)"
   ]
  },
  {
   "cell_type": "code",
   "execution_count": 0,
   "metadata": {
    "application/vnd.databricks.v1+cell": {
     "cellMetadata": {},
     "inputWidgets": {},
     "nuid": "5bc36951-d799-4695-91fb-f718580515a2",
     "showTitle": false,
     "title": ""
    },
    "colab": {
     "base_uri": "https://localhost:8080/",
     "height": 35
    },
    "id": "LXg5iNqfDtLD",
    "outputId": "4941e96c-3860-4e37-bd3c-613b3680704f"
   },
   "outputs": [],
   "source": [
    "a[2]"
   ]
  },
  {
   "cell_type": "code",
   "execution_count": 0,
   "metadata": {
    "application/vnd.databricks.v1+cell": {
     "cellMetadata": {},
     "inputWidgets": {},
     "nuid": "15bce60d-4c57-4e22-ada2-4ca3c62fd4c7",
     "showTitle": false,
     "title": ""
    },
    "id": "ydg3RDgdEgHT"
   },
   "outputs": [],
   "source": []
  },
  {
   "cell_type": "markdown",
   "metadata": {
    "application/vnd.databricks.v1+cell": {
     "cellMetadata": {},
     "inputWidgets": {},
     "nuid": "c62775fd-0d53-48a2-8cdf-92d8b5c15e26",
     "showTitle": false,
     "title": ""
    },
    "id": "7v7uBx8vGkT2"
   },
   "source": [
    "#### **String Formatting**"
   ]
  },
  {
   "cell_type": "code",
   "execution_count": 0,
   "metadata": {
    "application/vnd.databricks.v1+cell": {
     "cellMetadata": {},
     "inputWidgets": {},
     "nuid": "9cc13a46-864e-4bd8-89b6-daa6767830c2",
     "showTitle": false,
     "title": ""
    },
    "colab": {
     "base_uri": "https://localhost:8080/"
    },
    "id": "v6bXZhj1Gmpg",
    "outputId": "f3e92163-d818-4faf-fd64-b343e1caf21a"
   },
   "outputs": [],
   "source": [
    "name = \"Saumya\"\n",
    "role = \"Data Engineer\"\n",
    "\n",
    "print(\"I am {}, working as {}\".format(name, role))"
   ]
  },
  {
   "cell_type": "code",
   "execution_count": 0,
   "metadata": {
    "application/vnd.databricks.v1+cell": {
     "cellMetadata": {},
     "inputWidgets": {},
     "nuid": "a24c0f95-6558-4f17-811b-f2863fed16e4",
     "showTitle": false,
     "title": ""
    },
    "colab": {
     "base_uri": "https://localhost:8080/"
    },
    "id": "i3EYu8fUHPcn",
    "outputId": "a3ff220b-9213-4dfb-e2de-e5facf2feced"
   },
   "outputs": [],
   "source": [
    "print(\"I am %s working as %s\" %(name, role)) #%s -> output will be a string"
   ]
  },
  {
   "cell_type": "code",
   "execution_count": 0,
   "metadata": {
    "application/vnd.databricks.v1+cell": {
     "cellMetadata": {},
     "inputWidgets": {},
     "nuid": "48942cbd-a75d-48b9-98b2-1d8efca5c32e",
     "showTitle": false,
     "title": ""
    },
    "colab": {
     "base_uri": "https://localhost:8080/"
    },
    "id": "9TORGnG_IXam",
    "outputId": "5c54b625-6fd2-4219-a006-902589ff9d4b"
   },
   "outputs": [],
   "source": [
    "print(f\"I am {name} workingas {role}\") # f string method -> most commonly used. remember"
   ]
  },
  {
   "cell_type": "code",
   "execution_count": 0,
   "metadata": {
    "application/vnd.databricks.v1+cell": {
     "cellMetadata": {},
     "inputWidgets": {},
     "nuid": "3e535ffb-3ae8-4bc7-87f3-a8652a7d2da5",
     "showTitle": false,
     "title": ""
    },
    "id": "dbkhIG_eJFkE"
   },
   "outputs": [],
   "source": [
    "name = \"John Doe\"\n",
    "job_title = \"Senior Geologist\"\n",
    "department = \"Geology\"\n",
    "email = \"johndoe@email.com\"\n",
    "phone = \"123-456-7890\""
   ]
  },
  {
   "cell_type": "code",
   "execution_count": 0,
   "metadata": {
    "application/vnd.databricks.v1+cell": {
     "cellMetadata": {},
     "inputWidgets": {},
     "nuid": "6494ca8d-b918-42ec-8662-0187feb91c51",
     "showTitle": false,
     "title": ""
    },
    "colab": {
     "base_uri": "https://localhost:8080/"
    },
    "id": "67KfeiO9Jpdg",
    "outputId": "ea5192fe-2214-4b2d-f554-b7a17d3eccde"
   },
   "outputs": [],
   "source": [
    "print(f\"Employee Information:\\nName: {name}\\nJob Title: {job_title}\\nDepartment: {department}\\nEmail: {email}\\nPhone: {phone}\")"
   ]
  },
  {
   "cell_type": "code",
   "execution_count": 0,
   "metadata": {
    "application/vnd.databricks.v1+cell": {
     "cellMetadata": {},
     "inputWidgets": {},
     "nuid": "bafdc6b7-6d39-429c-a688-c2ec968fbc49",
     "showTitle": false,
     "title": ""
    },
    "colab": {
     "base_uri": "https://localhost:8080/"
    },
    "id": "InagrccLKA5C",
    "outputId": "5ecfb939-b2d5-4052-9fcd-7e55be0212d9"
   },
   "outputs": [],
   "source": [
    "print(\"Employee Information:\\nName: {}\\nJob Title: {}\\nDepartment: {}\\nEmail: {}\\nPhone: {}\".format(name, job_title, department, email, phone))"
   ]
  },
  {
   "cell_type": "code",
   "execution_count": 0,
   "metadata": {
    "application/vnd.databricks.v1+cell": {
     "cellMetadata": {},
     "inputWidgets": {},
     "nuid": "66830133-5836-4ab5-9a12-1c206fceef28",
     "showTitle": false,
     "title": ""
    },
    "id": "jLCRlDSAKo09"
   },
   "outputs": [],
   "source": []
  },
  {
   "cell_type": "markdown",
   "metadata": {
    "application/vnd.databricks.v1+cell": {
     "cellMetadata": {},
     "inputWidgets": {},
     "nuid": "d6913d51-ee61-4833-b40c-9bc99c04cffc",
     "showTitle": false,
     "title": ""
    },
    "id": "PdpjZB2IM7Qc"
   },
   "source": [
    "#### **Set in Python**\n",
    "* Duplicates are not allowed\n",
    "* Sets are mutable\n",
    "* heterogeneous objects are allowed\n",
    "* Order is not preserved\n",
    "* Slicing and indexing not possible"
   ]
  },
  {
   "cell_type": "code",
   "execution_count": 0,
   "metadata": {
    "application/vnd.databricks.v1+cell": {
     "cellMetadata": {},
     "inputWidgets": {},
     "nuid": "912c753a-cf5a-45c6-87ff-216a11fb5ffb",
     "showTitle": false,
     "title": ""
    },
    "colab": {
     "base_uri": "https://localhost:8080/"
    },
    "id": "U3s_UoJ5NINq",
    "outputId": "c00b5167-a8b9-4e67-8b3a-a4f4948f3664"
   },
   "outputs": [],
   "source": [
    "s = {10, 10, 5, \"Shell\", True, True, 10, 20, 10, \"Python\"}\n",
    "print(s)\n",
    "print(type(s))"
   ]
  },
  {
   "cell_type": "code",
   "execution_count": 0,
   "metadata": {
    "application/vnd.databricks.v1+cell": {
     "cellMetadata": {},
     "inputWidgets": {},
     "nuid": "3628e8a9-3ab2-456e-aac4-2bac700f32bc",
     "showTitle": false,
     "title": ""
    },
    "colab": {
     "base_uri": "https://localhost:8080/"
    },
    "id": "ys1N5_2TNbUa",
    "outputId": "cccc6372-1600-420f-f9ae-0c04be2ab521"
   },
   "outputs": [],
   "source": [
    "s.add(55)\n",
    "print(s)\n",
    "print(id(s))"
   ]
  },
  {
   "cell_type": "code",
   "execution_count": 0,
   "metadata": {
    "application/vnd.databricks.v1+cell": {
     "cellMetadata": {},
     "inputWidgets": {},
     "nuid": "72a5b4b3-b06d-4a7b-b9b5-db56ff9086e9",
     "showTitle": false,
     "title": ""
    },
    "colab": {
     "base_uri": "https://localhost:8080/"
    },
    "id": "uLG6ECNENuxP",
    "outputId": "c7bba1f6-e888-416c-95ed-ce76adce6352"
   },
   "outputs": [],
   "source": [
    "s.add('SQL')\n",
    "print(s)\n",
    "print(id(s))"
   ]
  },
  {
   "cell_type": "code",
   "execution_count": 0,
   "metadata": {
    "application/vnd.databricks.v1+cell": {
     "cellMetadata": {},
     "inputWidgets": {},
     "nuid": "2c19520f-fb8b-4f9a-933a-50f919169e1e",
     "showTitle": false,
     "title": ""
    },
    "id": "4hPRvGHAN76A"
   },
   "outputs": [],
   "source": []
  },
  {
   "cell_type": "markdown",
   "metadata": {
    "application/vnd.databricks.v1+cell": {
     "cellMetadata": {},
     "inputWidgets": {},
     "nuid": "ee1baafd-b3fa-4213-af10-c5171d4bb47e",
     "showTitle": false,
     "title": ""
    },
    "id": "nRxOMOPHOBza"
   },
   "source": [
    "#### **Dictionaries in Python**\n",
    "* Defined using {}\n",
    "* Always takes values in Key:Value pairs\n",
    "* Mutable\n",
    "* Indexing is done using Keys\n",
    "* Heterogenous elements are allowed\n",
    "* Duplicate Keys are not allowed whereas duplicate Values are allowed"
   ]
  },
  {
   "cell_type": "code",
   "execution_count": 0,
   "metadata": {
    "application/vnd.databricks.v1+cell": {
     "cellMetadata": {},
     "inputWidgets": {},
     "nuid": "49d1a6b9-fbad-4a0f-bf81-045162c19caa",
     "showTitle": false,
     "title": ""
    },
    "colab": {
     "base_uri": "https://localhost:8080/"
    },
    "id": "4ZM_GXsfOLXq",
    "outputId": "6c093016-9e23-43d0-d538-f46e8c0a0737"
   },
   "outputs": [],
   "source": [
    "d = {\"Location\":\"WellA\", \"Start_date\":\"2023-10-08\", \"Duration\":45}\n",
    "print(d)"
   ]
  },
  {
   "cell_type": "code",
   "execution_count": 0,
   "metadata": {
    "application/vnd.databricks.v1+cell": {
     "cellMetadata": {},
     "inputWidgets": {},
     "nuid": "94eb4cd4-7c38-433b-a394-412e3401474a",
     "showTitle": false,
     "title": ""
    },
    "colab": {
     "base_uri": "https://localhost:8080/"
    },
    "id": "BWWO2AlCOfKA",
    "outputId": "8d11577f-3e45-4a0c-930e-366e353c5be8"
   },
   "outputs": [],
   "source": [
    "print(id(d))\n",
    "d[\"Location\"] = \"WellB\"\n",
    "print(d)\n",
    "print(id(d))"
   ]
  },
  {
   "cell_type": "code",
   "execution_count": 0,
   "metadata": {
    "application/vnd.databricks.v1+cell": {
     "cellMetadata": {},
     "inputWidgets": {},
     "nuid": "9f88908f-b6db-4035-a4a7-e3ff86871852",
     "showTitle": false,
     "title": ""
    },
    "id": "fPX1akMhPgdx"
   },
   "outputs": [],
   "source": []
  },
  {
   "cell_type": "markdown",
   "metadata": {
    "application/vnd.databricks.v1+cell": {
     "cellMetadata": {},
     "inputWidgets": {},
     "nuid": "c9b8c808-cc8c-4c72-8e81-3ae64a4a0bcb",
     "showTitle": false,
     "title": ""
    },
    "id": "aqmkhlCsagc9"
   },
   "source": [
    "## **Flow Control Statements**"
   ]
  },
  {
   "cell_type": "markdown",
   "metadata": {
    "application/vnd.databricks.v1+cell": {
     "cellMetadata": {},
     "inputWidgets": {},
     "nuid": "b13293bb-add1-4265-9a99-4ca39ad5139c",
     "showTitle": false,
     "title": ""
    },
    "id": "vVV6dlH6YvG3"
   },
   "source": [
    "### **Selection Statement**\n",
    "* if\n",
    "* if else\n",
    "* if elif else"
   ]
  },
  {
   "cell_type": "code",
   "execution_count": 0,
   "metadata": {
    "application/vnd.databricks.v1+cell": {
     "cellMetadata": {},
     "inputWidgets": {},
     "nuid": "074efa2d-855d-4060-9fa4-78b397f6bd7f",
     "showTitle": false,
     "title": ""
    },
    "colab": {
     "base_uri": "https://localhost:8080/"
    },
    "id": "gsADVTXaZCKh",
    "outputId": "e6219a6a-2314-4e59-9854-5858c3067144"
   },
   "outputs": [],
   "source": [
    "age = int(input(\"Enter age: \"))\n",
    "\n",
    "if age<18:\n",
    "  print(\"Not eligible for voting\")\n",
    "elif age>=18:\n",
    "  print(\"Eligible for voting\")"
   ]
  },
  {
   "cell_type": "code",
   "execution_count": 0,
   "metadata": {
    "application/vnd.databricks.v1+cell": {
     "cellMetadata": {},
     "inputWidgets": {},
     "nuid": "7ad4d250-694a-4d0e-bf97-53cf3a5f94f1",
     "showTitle": false,
     "title": ""
    },
    "colab": {
     "base_uri": "https://localhost:8080/"
    },
    "id": "fLB3y_q1YyFZ",
    "outputId": "f6906cb2-750a-4bac-e70d-08ab33a5570f"
   },
   "outputs": [],
   "source": [
    "low_fuel_threshold = 1000\n",
    "critical_fuel_threshold = 500\n",
    "current_fuel_level = int(input(\"Enter current fuel level: \"))\n",
    "\n",
    "if current_fuel_level <= critical_fuel_threshold:\n",
    "  print(\"Critical Fuel Level reached. Take an immediate action\")\n",
    "\n",
    "elif current_fuel_level <= low_fuel_threshold:\n",
    "  print(\"Alert!! Low Fuel Level\")\n",
    "else :\n",
    "  print(\"Continue fueling\")"
   ]
  },
  {
   "cell_type": "code",
   "execution_count": 0,
   "metadata": {
    "application/vnd.databricks.v1+cell": {
     "cellMetadata": {},
     "inputWidgets": {},
     "nuid": "c1e8bca4-0eef-47fc-a048-f6579556785c",
     "showTitle": false,
     "title": ""
    },
    "id": "y1aBcdC8ZSD0"
   },
   "outputs": [],
   "source": []
  },
  {
   "cell_type": "markdown",
   "metadata": {
    "application/vnd.databricks.v1+cell": {
     "cellMetadata": {},
     "inputWidgets": {},
     "nuid": "ba2ef64f-bdc4-4020-bac5-9553edc2b9a7",
     "showTitle": false,
     "title": ""
    },
    "id": "XGMR4SsidOA1"
   },
   "source": [
    "### **Range() Function & for loop**\n"
   ]
  },
  {
   "cell_type": "code",
   "execution_count": 0,
   "metadata": {
    "application/vnd.databricks.v1+cell": {
     "cellMetadata": {},
     "inputWidgets": {},
     "nuid": "46145c6c-a62b-4591-8e8f-cf6102aa2391",
     "showTitle": false,
     "title": ""
    },
    "colab": {
     "base_uri": "https://localhost:8080/"
    },
    "id": "ahh5HHQqdl7F",
    "outputId": "db014574-aa5f-490b-9e2f-e86d8bbff4d5"
   },
   "outputs": [],
   "source": [
    "n = range(0,9)\n",
    "print(n)\n",
    "\n",
    "for i in n:\n",
    "  print(i)"
   ]
  },
  {
   "cell_type": "code",
   "execution_count": 0,
   "metadata": {
    "application/vnd.databricks.v1+cell": {
     "cellMetadata": {},
     "inputWidgets": {},
     "nuid": "e2514be2-d5b7-485a-99bf-4bb98694959c",
     "showTitle": false,
     "title": ""
    },
    "colab": {
     "base_uri": "https://localhost:8080/"
    },
    "id": "Fcsa1CoedXKc",
    "outputId": "211ed38e-fb2b-42a1-9e27-6431936c6112"
   },
   "outputs": [],
   "source": [
    "for i in range(12): ##First Form of range()\n",
    "  print(i)"
   ]
  },
  {
   "cell_type": "code",
   "execution_count": 0,
   "metadata": {
    "application/vnd.databricks.v1+cell": {
     "cellMetadata": {},
     "inputWidgets": {},
     "nuid": "3bc6facc-bcaf-40b3-b422-4e4a4bea08a3",
     "showTitle": false,
     "title": ""
    },
    "colab": {
     "base_uri": "https://localhost:8080/"
    },
    "id": "4Ncyfaqtd_72",
    "outputId": "e782b392-9b99-4b94-e836-135e6bd1f1c4"
   },
   "outputs": [],
   "source": [
    "for i in range(3, 7): ##Second form of range()\n",
    "  print(i)"
   ]
  },
  {
   "cell_type": "code",
   "execution_count": 0,
   "metadata": {
    "application/vnd.databricks.v1+cell": {
     "cellMetadata": {},
     "inputWidgets": {},
     "nuid": "dbcdc4b0-6855-4183-b548-8fa2b02c302a",
     "showTitle": false,
     "title": ""
    },
    "colab": {
     "base_uri": "https://localhost:8080/"
    },
    "id": "iJDRyxlPdaEb",
    "outputId": "3b449414-8ac0-4e2b-92d4-9b8204e2d7b6"
   },
   "outputs": [],
   "source": [
    "for i in range(5, 12, 3): ##Third form of range()\n",
    "  print(i)"
   ]
  },
  {
   "cell_type": "markdown",
   "metadata": {
    "application/vnd.databricks.v1+cell": {
     "cellMetadata": {},
     "inputWidgets": {},
     "nuid": "a5dba8b4-1677-42a3-af37-419479ff78fc",
     "showTitle": false,
     "title": ""
    },
    "id": "qr42UdB0eUSo"
   },
   "source": [
    "###***Zip() function***"
   ]
  },
  {
   "cell_type": "code",
   "execution_count": 0,
   "metadata": {
    "application/vnd.databricks.v1+cell": {
     "cellMetadata": {},
     "inputWidgets": {},
     "nuid": "77df91eb-d206-4796-b44c-bde7a0893b92",
     "showTitle": false,
     "title": ""
    },
    "colab": {
     "base_uri": "https://localhost:8080/"
    },
    "id": "k3eoGFg5fcxO",
    "outputId": "62a3d2ea-00d9-4e76-b54a-8f70bea3582c"
   },
   "outputs": [],
   "source": [
    "l1 = ['a','b','c']\n",
    "l2 = ['Sales', 'IT', 'Finance']\n",
    "l3 = list(zip(l1, l2))\n",
    "l3"
   ]
  },
  {
   "cell_type": "code",
   "execution_count": 0,
   "metadata": {
    "application/vnd.databricks.v1+cell": {
     "cellMetadata": {},
     "inputWidgets": {},
     "nuid": "0f76f9dd-f97e-45d8-a194-357dec50d055",
     "showTitle": false,
     "title": ""
    },
    "colab": {
     "base_uri": "https://localhost:8080/"
    },
    "id": "hH_oV56gfqGR",
    "outputId": "0598d836-6848-428b-bf73-d5060d3f45be"
   },
   "outputs": [],
   "source": [
    "oil_gas_data = [\n",
    "    (\"Field A\", \"Texas\", 500000),\n",
    "    (\"Field B\", \"Alaska\", 800000),\n",
    "    (\"Field C\", \"North Sea\", 300000),\n",
    "    (\"Field D\", \"Gulf of Mexico\", 600000)]\n",
    "\n",
    "#use zip() to group the information of each oil and gas field together\n",
    "\n",
    "fields, location, reserves= zip(*oil_gas_data)    ## * is used for variable length\n",
    "print(fields, location, reserves)"
   ]
  },
  {
   "cell_type": "code",
   "execution_count": 0,
   "metadata": {
    "application/vnd.databricks.v1+cell": {
     "cellMetadata": {},
     "inputWidgets": {},
     "nuid": "ed1090c7-0d62-4fc6-a489-5028013f0147",
     "showTitle": false,
     "title": ""
    },
    "id": "6DX-MBpNhQZ9"
   },
   "outputs": [],
   "source": []
  },
  {
   "cell_type": "markdown",
   "metadata": {
    "application/vnd.databricks.v1+cell": {
     "cellMetadata": {},
     "inputWidgets": {},
     "nuid": "4ff98e3d-f99e-4a11-b16f-8701c348f022",
     "showTitle": false,
     "title": ""
    },
    "id": "oDvqIBgWh7wD"
   },
   "source": [
    "###***Ennumerate() function***\n",
    "* used to add index to a list"
   ]
  },
  {
   "cell_type": "code",
   "execution_count": 0,
   "metadata": {
    "application/vnd.databricks.v1+cell": {
     "cellMetadata": {},
     "inputWidgets": {},
     "nuid": "6dd1cd51-8098-498c-8b1b-373a41cd2487",
     "showTitle": false,
     "title": ""
    },
    "colab": {
     "base_uri": "https://localhost:8080/"
    },
    "id": "sq9SCr9Eh9lb",
    "outputId": "7ac13bb6-15ab-4e3b-9ca4-4bc931a7e330"
   },
   "outputs": [],
   "source": [
    "l = list(enumerate(location))\n",
    "print(l)"
   ]
  },
  {
   "cell_type": "code",
   "execution_count": 0,
   "metadata": {
    "application/vnd.databricks.v1+cell": {
     "cellMetadata": {},
     "inputWidgets": {},
     "nuid": "97d5472c-56ac-4441-ae0f-9da8f58c7fae",
     "showTitle": false,
     "title": ""
    },
    "colab": {
     "base_uri": "https://localhost:8080/"
    },
    "id": "zHuf8-7CiK9L",
    "outputId": "86a01984-3430-411b-e991-2e64eb8d79ad"
   },
   "outputs": [],
   "source": [
    "l2 = list(enumerate(fields))\n",
    "print(l2)"
   ]
  },
  {
   "cell_type": "code",
   "execution_count": 0,
   "metadata": {
    "application/vnd.databricks.v1+cell": {
     "cellMetadata": {},
     "inputWidgets": {},
     "nuid": "bca1585b-a00a-4dee-88c3-9e2196faeedc",
     "showTitle": false,
     "title": ""
    },
    "colab": {
     "base_uri": "https://localhost:8080/"
    },
    "id": "LuIySMq7iYTS",
    "outputId": "e915ade8-a13d-4913-a674-37375c9861c4"
   },
   "outputs": [],
   "source": [
    "for index, field_data in enumerate(oil_gas_data):\n",
    "    field_name, location, reserve = field_data\n",
    "    print(f\"Field {index+1}: {field_name} is located in {location} with reserves of {reserve} barrels.\")"
   ]
  },
  {
   "cell_type": "code",
   "execution_count": 0,
   "metadata": {
    "application/vnd.databricks.v1+cell": {
     "cellMetadata": {},
     "inputWidgets": {},
     "nuid": "bcb81487-e8ed-422d-8bf8-b692d2af7e75",
     "showTitle": false,
     "title": ""
    },
    "id": "KwM0WKyoixzN"
   },
   "outputs": [],
   "source": []
  },
  {
   "cell_type": "markdown",
   "metadata": {
    "application/vnd.databricks.v1+cell": {
     "cellMetadata": {},
     "inputWidgets": {},
     "nuid": "11977f0e-77f9-48d5-a072-cf85ca7727ef",
     "showTitle": false,
     "title": ""
    },
    "id": "Jm8YGBr4jMuu"
   },
   "source": [
    "###***Counter() function***\n",
    "* Help to count the number of occurences of elements in a list\n"
   ]
  },
  {
   "cell_type": "code",
   "execution_count": 0,
   "metadata": {
    "application/vnd.databricks.v1+cell": {
     "cellMetadata": {},
     "inputWidgets": {},
     "nuid": "4b639dbd-cc9a-424d-80c8-43a12ebb836c",
     "showTitle": false,
     "title": ""
    },
    "colab": {
     "base_uri": "https://localhost:8080/"
    },
    "id": "J6Mh0FpkjOvf",
    "outputId": "0b39391a-5e11-4099-d514-f1f374fd5252"
   },
   "outputs": [],
   "source": [
    "print(location)"
   ]
  },
  {
   "cell_type": "code",
   "execution_count": 0,
   "metadata": {
    "application/vnd.databricks.v1+cell": {
     "cellMetadata": {},
     "inputWidgets": {},
     "nuid": "2b1ca51b-2362-47be-b222-a39ae7f24582",
     "showTitle": false,
     "title": ""
    },
    "colab": {
     "base_uri": "https://localhost:8080/"
    },
    "id": "moFWRaUgjWpX",
    "outputId": "4d26e99e-f4aa-4a61-839b-c1dffde8e666"
   },
   "outputs": [],
   "source": [
    "from collections import Counter\n",
    "count = Counter(location)\n",
    "print(count)"
   ]
  },
  {
   "cell_type": "code",
   "execution_count": 0,
   "metadata": {
    "application/vnd.databricks.v1+cell": {
     "cellMetadata": {},
     "inputWidgets": {},
     "nuid": "b641ce10-9dec-4526-b0ac-763fde38f0c8",
     "showTitle": false,
     "title": ""
    },
    "id": "-6NpD_VljYxP"
   },
   "outputs": [],
   "source": []
  }
 ],
 "metadata": {
  "application/vnd.databricks.v1+notebook": {
   "dashboards": [],
   "language": "python",
   "notebookMetadata": {},
   "notebookName": "Shell_Training_Day_13_15_September,_2023",
   "widgets": {}
  },
  "colab": {
   "collapsed_sections": [
    "DVNFSaLkDLjo",
    "7v7uBx8vGkT2",
    "PdpjZB2IM7Qc"
   ],
   "provenance": []
  },
  "kernelspec": {
   "display_name": "Python 3",
   "name": "python3"
  },
  "language_info": {
   "name": "python"
  }
 },
 "nbformat": 4,
 "nbformat_minor": 0
}
