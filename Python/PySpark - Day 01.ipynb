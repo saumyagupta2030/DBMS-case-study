{
 "cells": [
  {
   "cell_type": "markdown",
   "id": "2ddc5409",
   "metadata": {},
   "source": [
    "# **Spark**\n",
    "\n",
    "* If Data contains velocity, variety, volume & veracity.\n",
    "* Hadoop only works on **'On Disk'** computation and **Batch Data**. It has lengthy and complex framework. Low Cost\n",
    "* Hadoop has two main components - \n",
    "    * **HDFS** - Stores data in distributed fashion. Scaling is easier here.\n",
    "    * **Map Reduce** - used for distributed processing.\n",
    "* If you want to run SQL on hadoop then you need to learn HIVE\n",
    "* Hbase, Apache Storm (Handling realtime data), oozie, Scoop, pig.\n",
    "* Spark supports both realtime and batch processing. High Cost\n",
    "* In memory computation is supported i.e transformations are done on RAM, read write happens on disk. Supports tools like Spark SWL, Mlib, GraphX, and Spark Streaming.\n",
    "* Spark is simple and user friendly system.\n",
    "* If you want to do 10 different things you need to operate 10 different tools, to overcome this Spark was introduced. It is 100x faster than Hadoop. This is made possible by reducing the number of read/write iperations on the disk.\n",
    "* 350+ projects are there under Apache Foundation, Spark is one of them.\n",
    "* Spark can be used with Java, Scala, Python, SQL, and R.\n",
    "* To run Spark, Databricks was introduced.\n",
    "* Microsoft Fabric, Azure Synapse, AWS Blue.\n",
    "* Databricks is preffered to run Spark. (Why??)\n",
    "\n",
    "\n",
    "Apache Spark unifies\n",
    "  * Batch Processing\n",
    "  * Stream Analytics\n",
    "  * Machine Learning\n",
    "  * SQL Processing\n",
    "\n",
    "\n",
    "\n",
    "#### **Spark's Basic Architecture**\n",
    "------\n",
    "![Alt text](https://hacked.work/blog/wp-content/uploads/2015/03/spark-cluster.png)\n",
    "\n",
    "\n",
    "\n",
    "***Apache Spark works in a master-slave architecture where the master is called “Driver” and slaves are called “Workers”. When you run a Spark application, Spark Driver creates a context (Spark Context) that is an entry point to your application, and all operations (transformations and actions) are executed on worker nodes, and the resources are managed by Cluster Manager.***\n",
    "\n",
    "\n",
    "* **Driver Program** – The process running the main() function of the application and creating the SparkContext. It is also the program/job, written by the developers which is submitted to Spark for processing. Driver program will partition the data. There will always be only 1 driver program.\n",
    "\n",
    "\n",
    "* **Spark Context** – Spark Context is the entry point to use Spark Core services and features. It sets up internal services and establishes a connection to a Spark execution environment. It communicates with cluster and to create RDD. Every Spark job creates a spark context object before it can do any processing. It allows your Spark Application to access Spark Context with the help of resource manager. It will start the Driver Program. ***There is one Spark Context per JVM***\n",
    "\n",
    "\n",
    "\n",
    "* **Cluster Manager** – Spark uses cluster manager to acquire resources across the cluster for executing a job. However, Spark is also agnostic of cluster managers and does not really care how it can get its hands on cluster resources. It supports the following cluster managers\n",
    "\n",
    "    * Spark standalone cluster manager - A simple cluster manager included with spark that makes it easy to set up a cluster\n",
    "    * YARN - resource manager in hadoop2\n",
    "    * Mesos\n",
    "    * Kubernetes\n",
    "\n",
    "\n",
    "* **Worker Node** – Worker Nodes are nodes which actually do data processing/heavy lifting on data.\n",
    "\n",
    "* **Executor** – Executors are independent processes which run inside the Worker Nodes in their own JVMs. Data processing is actually done by these executor processes.\n",
    "\n",
    "\n",
    "* **Cache** – Data stored in physical memory. Jobs can cache data so that it does not need to re-compute RDDs and hence increases the performance storing intermediary data.\n",
    "\n",
    "\n",
    "* **Task** – A task is a unit of work performed independently by the executor on one partition.\n",
    "\n",
    "\n",
    "* **Partition** – Spark manages its data by splitting data into manageable chunks across the nodes in a cluster. These chunks are called partitions. The splitting of data is done in a way so that it leads to reduction of network traffic and also optimise the operations to be performed on the data.\n",
    "\n",
    "[Imp Link](https://www.mrstonewallin.com/post/spark-knowledge-series-i)\n",
    "\n",
    "\n",
    "\n",
    "#### **Spark Deployment Modes: Client Mode vs Cluster Mode**\n",
    "---\n",
    "<img src=\"https://th.bing.com/th/id/R.5b4223cfa8490f2a8ac960b3e3d3738b?rik=sN29WUb1k7JWxw&riu=http%3a%2f%2fblog.brainlounge.de%2fmemoryleaks%2f2018-12-getting-started-with-spark-on-kubernetes-deploy-modes.png&ehk=zTXeqqjcdNpkjexQ77%2bl3JSIvFN1ljY4scGGGNdGo6Y%3d&risl=&pid=ImgRaw&r=0\" width=\"550\" height=\"300\" />\n",
    "\n",
    "* **Cluster Mode:** In cluster mode, the driver runs on one of the worker nodes, and this node shows as a driver on the Spark Web UI of your application. cluster mode is used to run production jobs.\n",
    "* **Client Mode:** In client mode, the driver runs locally from where you are submitting your application using spark-submit command. client mode is majorly used for interactive and debugging purposes. Note that in client mode only the driver runs locally and all tasks run on cluster worker nodes.\n",
    "\n",
    "\n",
    "#### **Spark Toolset**\n",
    "\n",
    "-------\n",
    "\n",
    "\n",
    "\n",
    "<img src=\"https://miro.medium.com/max/1104/1*_Dy9w0lUXIeH6WHALkQC-g.png\" width=\"400\" height=\"400\" />\n",
    "\n",
    "#### **Data Structures in Spark: RDD, DataFrame, Dataset**\n",
    "------\n",
    "\n",
    "* **Resilient Distributed Dataset**: resilient, immutable, collection of data. \n",
    "  * **Resilient:** RDDs are fault tolerant\n",
    "  * **Collection of Data:** RDD holds data and appears to be scala collection.\n",
    "  * **Partition:** Sparks break RDD into smaller cgunks of data.\n",
    "  * **Distributed:** Spark distributes the partition along the cluster.\n",
    "\\n\n",
    "\n",
    "* **Dataframe:** Most common Structured API and simply represents a table of data with rows and columns. Similar to DB table. The list that defines the columns and the types within those columns is called Schema.\n",
    "\n",
    "\n",
    "* **Dataset:** "
   ]
  },
  {
   "cell_type": "code",
   "execution_count": 1,
   "id": "2f8c3189",
   "metadata": {},
   "outputs": [],
   "source": [
    "import pyspark\n",
    "import findspark\n",
    "findspark.init('/opt/anaconda3/lib/python3.11/site-packages/pyspark')\n",
    "from pyspark import SparkContext\n",
    "# pyspark.__version__"
   ]
  },
  {
   "cell_type": "code",
   "execution_count": 8,
   "id": "f90a6723",
   "metadata": {
    "scrolled": true
   },
   "outputs": [],
   "source": [
    "conf=pyspark.SparkConf().setMaster('local').setAppName(\"first\")\n",
    "sc = SparkContext(conf = conf)"
   ]
  },
  {
   "cell_type": "code",
   "execution_count": 9,
   "id": "d25b7aba",
   "metadata": {},
   "outputs": [],
   "source": [
    "rdd = sc.parallelize([1,2,3])"
   ]
  },
  {
   "cell_type": "code",
   "execution_count": 10,
   "id": "33d8ae9d",
   "metadata": {},
   "outputs": [
    {
     "data": {
      "text/plain": [
       "[1, 2, 3]"
      ]
     },
     "execution_count": 10,
     "metadata": {},
     "output_type": "execute_result"
    }
   ],
   "source": [
    "rdd.collect()"
   ]
  },
  {
   "cell_type": "code",
   "execution_count": 5,
   "id": "a60338cc",
   "metadata": {},
   "outputs": [],
   "source": [
    "sc.stop()"
   ]
  },
  {
   "cell_type": "code",
   "execution_count": 11,
   "id": "21135221",
   "metadata": {},
   "outputs": [
    {
     "data": {
      "text/html": [
       "\n",
       "        <div>\n",
       "            <p><b>SparkContext</b></p>\n",
       "\n",
       "            <p><a href=\"http://ip-172-31-8-145.ap-south-1.compute.internal:4040\">Spark UI</a></p>\n",
       "\n",
       "            <dl>\n",
       "              <dt>Version</dt>\n",
       "                <dd><code>v3.4.1</code></dd>\n",
       "              <dt>Master</dt>\n",
       "                <dd><code>local</code></dd>\n",
       "              <dt>AppName</dt>\n",
       "                <dd><code>first</code></dd>\n",
       "            </dl>\n",
       "        </div>\n",
       "        "
      ],
      "text/plain": [
       "<SparkContext master=local appName=first>"
      ]
     },
     "execution_count": 11,
     "metadata": {},
     "output_type": "execute_result"
    }
   ],
   "source": [
    "sc"
   ]
  },
  {
   "cell_type": "code",
   "execution_count": 12,
   "id": "3569b06a",
   "metadata": {},
   "outputs": [],
   "source": [
    "rdd2 = sc.parallelize(['Python','SQL','PySpark'])"
   ]
  },
  {
   "cell_type": "code",
   "execution_count": 13,
   "id": "2ed95f3b",
   "metadata": {},
   "outputs": [
    {
     "data": {
      "text/plain": [
       "['Python', 'SQL', 'PySpark']"
      ]
     },
     "execution_count": 13,
     "metadata": {},
     "output_type": "execute_result"
    }
   ],
   "source": [
    "rdd2.collect()"
   ]
  },
  {
   "cell_type": "code",
   "execution_count": 14,
   "id": "548a9584",
   "metadata": {},
   "outputs": [
    {
     "data": {
      "text/plain": [
       "pyspark.rdd.RDD"
      ]
     },
     "execution_count": 14,
     "metadata": {},
     "output_type": "execute_result"
    }
   ],
   "source": [
    "type(rdd2)"
   ]
  },
  {
   "cell_type": "code",
   "execution_count": 15,
   "id": "b9dae955",
   "metadata": {},
   "outputs": [
    {
     "data": {
      "text/plain": [
       "pyspark.rdd.RDD"
      ]
     },
     "execution_count": 15,
     "metadata": {},
     "output_type": "execute_result"
    }
   ],
   "source": [
    "rdd3 = sc.parallelize([1,2,3,4,5,6,7,8,9])\n",
    "rdd3.collect()\n",
    "type(rdd3)\n"
   ]
  },
  {
   "cell_type": "code",
   "execution_count": 16,
   "id": "361de374",
   "metadata": {},
   "outputs": [],
   "source": [
    "rdd4 = rdd3.map(lambda x:x*2)"
   ]
  },
  {
   "cell_type": "code",
   "execution_count": 17,
   "id": "07d4a234",
   "metadata": {},
   "outputs": [
    {
     "name": "stderr",
     "output_type": "stream",
     "text": [
      "                                                                                \r"
     ]
    },
    {
     "data": {
      "text/plain": [
       "[2, 4, 6, 8, 10, 12, 14, 16, 18]"
      ]
     },
     "execution_count": 17,
     "metadata": {},
     "output_type": "execute_result"
    }
   ],
   "source": [
    "rdd4.collect()"
   ]
  },
  {
   "cell_type": "code",
   "execution_count": 18,
   "id": "31fd7ace",
   "metadata": {},
   "outputs": [
    {
     "data": {
      "text/plain": [
       "'/opt/anaconda3/lib/python3.11/site-packages/pyspark'"
      ]
     },
     "execution_count": 18,
     "metadata": {},
     "output_type": "execute_result"
    }
   ],
   "source": [
    "findspark.find()"
   ]
  },
  {
   "cell_type": "code",
   "execution_count": 19,
   "id": "24b514c1",
   "metadata": {},
   "outputs": [],
   "source": [
    "rdd5 = rdd3.filter(lambda x:x%2==0)"
   ]
  },
  {
   "cell_type": "code",
   "execution_count": 20,
   "id": "1bf19585",
   "metadata": {},
   "outputs": [
    {
     "data": {
      "text/plain": [
       "[2, 4, 6, 8]"
      ]
     },
     "execution_count": 20,
     "metadata": {},
     "output_type": "execute_result"
    }
   ],
   "source": [
    "rdd5.collect()"
   ]
  },
  {
   "cell_type": "code",
   "execution_count": 21,
   "id": "45cf8ad9",
   "metadata": {},
   "outputs": [],
   "source": [
    "from pyspark.sql import SparkSession"
   ]
  },
  {
   "cell_type": "code",
   "execution_count": 22,
   "id": "347149b2",
   "metadata": {},
   "outputs": [],
   "source": [
    "#Create a session\n",
    "spark = SparkSession.builder.appName(\"RDDExample\").getOrCreate()"
   ]
  },
  {
   "cell_type": "code",
   "execution_count": 23,
   "id": "fa646cb6",
   "metadata": {},
   "outputs": [
    {
     "name": "stdout",
     "output_type": "stream",
     "text": [
      "+---+---+---+\n",
      "| _1| _2| _3|\n",
      "+---+---+---+\n",
      "|  1|  2|  3|\n",
      "+---+---+---+\n",
      "\n"
     ]
    }
   ],
   "source": [
    "df = spark.createDataFrame([(1,2,3)])\n",
    "df.show()"
   ]
  },
  {
   "cell_type": "code",
   "execution_count": 24,
   "id": "09064cae",
   "metadata": {},
   "outputs": [
    {
     "name": "stdout",
     "output_type": "stream",
     "text": [
      "+---+---+---+\n",
      "| _1| _2| _3|\n",
      "+---+---+---+\n",
      "|  1|  2|  3|\n",
      "|  4|  5|  6|\n",
      "+---+---+---+\n",
      "\n"
     ]
    }
   ],
   "source": [
    "df = spark.createDataFrame([(1,2,3),(4,5,6)])\n",
    "df.show()"
   ]
  },
  {
   "cell_type": "code",
   "execution_count": 25,
   "id": "f9b7feda",
   "metadata": {},
   "outputs": [
    {
     "data": {
      "text/plain": [
       "DataFrame[a: bigint, b: double, c: string, d: date, e: timestamp]"
      ]
     },
     "execution_count": 25,
     "metadata": {},
     "output_type": "execute_result"
    }
   ],
   "source": [
    "from datetime import datetime, date\n",
    "import pandas as pd\n",
    "from pyspark.sql import Row\n",
    "df = spark.createDataFrame([Row(a=1, b=2., c='string1', d=date(2000, 1, 1), e=datetime(2000, 1, 1, 12, 0)),    \n",
    "                            Row(a=2, b=3., c='string2', d=date(2000, 2, 1), e=datetime(2000, 1, 2, 12, 0)),    \n",
    "                            Row(a=4, b=5., c='string3', d=date(2000, 3, 1), e=datetime(2000, 1, 3, 12, 0))])\n",
    "df"
   ]
  },
  {
   "cell_type": "code",
   "execution_count": 26,
   "id": "cee78918",
   "metadata": {},
   "outputs": [
    {
     "name": "stdout",
     "output_type": "stream",
     "text": [
      "+---+---+-------+----------+-------------------+\n",
      "|  a|  b|      c|         d|                  e|\n",
      "+---+---+-------+----------+-------------------+\n",
      "|  1|2.0|string1|2000-01-01|2000-01-01 12:00:00|\n",
      "|  2|3.0|string2|2000-02-01|2000-01-02 12:00:00|\n",
      "|  4|5.0|string3|2000-03-01|2000-01-03 12:00:00|\n",
      "+---+---+-------+----------+-------------------+\n",
      "\n"
     ]
    }
   ],
   "source": [
    "df.show()"
   ]
  },
  {
   "cell_type": "code",
   "execution_count": 27,
   "id": "79f59572",
   "metadata": {},
   "outputs": [
    {
     "data": {
      "text/plain": [
       "DataFrame[a: bigint, b: double, c: string, d: date, e: timestamp]"
      ]
     },
     "execution_count": 27,
     "metadata": {},
     "output_type": "execute_result"
    }
   ],
   "source": [
    "df = spark.createDataFrame([\n",
    "    (1, 2., 'string1', date(2000, 1, 1), datetime(2000, 1, 1, 12, 0)),\n",
    "    (2, 3., 'string2', date(2000, 2, 1), datetime(2000, 1, 2, 12, 0)),\n",
    "    (3, 4., 'string3', date(2000, 3, 1), datetime(2000, 1, 3, 12, 0))\n",
    "], schema='a long, b double, c string, d date, e timestamp')\n",
    "df"
   ]
  },
  {
   "cell_type": "code",
   "execution_count": 28,
   "id": "4e64fe07",
   "metadata": {},
   "outputs": [],
   "source": [
    "data = [\n",
    "    (1, 2., 'string1', date(2000, 1, 1), datetime(2000, 1, 1, 12, 0)),\n",
    "    (2, 3., 'string2', date(2000, 2, 1), datetime(2000, 1, 2, 12, 0)),\n",
    "    (3, 4., 'string3', date(2000, 3, 1), datetime(2000, 1, 3, 12, 0))\n",
    "]\n",
    "\n",
    "schema = 'a long, b double, c string, d date, e timestamp'"
   ]
  },
  {
   "cell_type": "code",
   "execution_count": 29,
   "id": "7cefb071",
   "metadata": {},
   "outputs": [
    {
     "name": "stdout",
     "output_type": "stream",
     "text": [
      "+---+---+-------+----------+-------------------+\n",
      "|  a|  b|      c|         d|                  e|\n",
      "+---+---+-------+----------+-------------------+\n",
      "|  1|2.0|string1|2000-01-01|2000-01-01 12:00:00|\n",
      "|  2|3.0|string2|2000-02-01|2000-01-02 12:00:00|\n",
      "|  3|4.0|string3|2000-03-01|2000-01-03 12:00:00|\n",
      "+---+---+-------+----------+-------------------+\n",
      "\n"
     ]
    }
   ],
   "source": [
    "df2 = spark.createDataFrame(data, schema)\n",
    "df2.show()"
   ]
  },
  {
   "cell_type": "code",
   "execution_count": 30,
   "id": "e88c79a7",
   "metadata": {},
   "outputs": [
    {
     "data": {
      "text/plain": [
       "[('a', 'bigint'),\n",
       " ('b', 'double'),\n",
       " ('c', 'string'),\n",
       " ('d', 'date'),\n",
       " ('e', 'timestamp')]"
      ]
     },
     "execution_count": 30,
     "metadata": {},
     "output_type": "execute_result"
    }
   ],
   "source": [
    "df2.dtypes"
   ]
  },
  {
   "cell_type": "code",
   "execution_count": 31,
   "id": "1e7b8452",
   "metadata": {},
   "outputs": [],
   "source": [
    "data2 = [(1, 'a', 'z', 777000, 'India'), (2, 'b', 'y', 89000, 'India')]\n",
    "\n",
    "schema2 = 'id int, name string, last_name string, mo int, country string'\n",
    "\n",
    "df3 = spark.createDataFrame(data2, schema2)\n",
    "\n"
   ]
  },
  {
   "cell_type": "code",
   "execution_count": 32,
   "id": "ce21d6b8",
   "metadata": {},
   "outputs": [
    {
     "name": "stdout",
     "output_type": "stream",
     "text": [
      "+---+----+---------+------+-------+\n",
      "| id|name|last_name|    mo|country|\n",
      "+---+----+---------+------+-------+\n",
      "|  1|   a|        z|777000|  India|\n",
      "|  2|   b|        y| 89000|  India|\n",
      "+---+----+---------+------+-------+\n",
      "\n"
     ]
    }
   ],
   "source": [
    "df3.show()"
   ]
  },
  {
   "cell_type": "code",
   "execution_count": 33,
   "id": "b941f981",
   "metadata": {},
   "outputs": [
    {
     "data": {
      "text/plain": [
       "[('id', 'int'),\n",
       " ('name', 'string'),\n",
       " ('last_name', 'string'),\n",
       " ('mo', 'int'),\n",
       " ('country', 'string')]"
      ]
     },
     "execution_count": 33,
     "metadata": {},
     "output_type": "execute_result"
    }
   ],
   "source": [
    "df3.dtypes"
   ]
  },
  {
   "cell_type": "code",
   "execution_count": 34,
   "id": "3a662dfc",
   "metadata": {},
   "outputs": [
    {
     "name": "stdout",
     "output_type": "stream",
     "text": [
      "root\n",
      " |-- id: integer (nullable = true)\n",
      " |-- name: string (nullable = true)\n",
      " |-- last_name: string (nullable = true)\n",
      " |-- mo: integer (nullable = true)\n",
      " |-- country: string (nullable = true)\n",
      "\n"
     ]
    }
   ],
   "source": [
    "df3.printSchema()"
   ]
  },
  {
   "cell_type": "code",
   "execution_count": 35,
   "id": "e9161c1a",
   "metadata": {},
   "outputs": [],
   "source": [
    "users = [{\n",
    "    \"id\":1,\n",
    "    \"first_name\":\"Saumya\",\n",
    "    \"amount_paid\":78000\n",
    "},\n",
    "{\n",
    "    \"id\":2,\n",
    "    \"first_name\":\"Shreya\",\n",
    "    \"amount_paid\":8000\n",
    "},\n",
    "{\n",
    "    \"id\":3,\n",
    "    \"first_name\":\"Anushka\",\n",
    "    \"amount_paid\":8990\n",
    "}]\n",
    "\n",
    "df4 = spark.createDataFrame(users)"
   ]
  },
  {
   "cell_type": "code",
   "execution_count": 36,
   "id": "bef03121",
   "metadata": {},
   "outputs": [
    {
     "name": "stdout",
     "output_type": "stream",
     "text": [
      "+-----------+----------+---+\n",
      "|amount_paid|first_name| id|\n",
      "+-----------+----------+---+\n",
      "|      78000|    Saumya|  1|\n",
      "|       8000|    Shreya|  2|\n",
      "|       8990|   Anushka|  3|\n",
      "+-----------+----------+---+\n",
      "\n"
     ]
    }
   ],
   "source": [
    "df4.show()"
   ]
  },
  {
   "cell_type": "code",
   "execution_count": 37,
   "id": "e18c2ff7",
   "metadata": {},
   "outputs": [],
   "source": [
    "#path = '/home/labuser/Desktop/Untitled Folder/sales_data.csv'\n",
    "path = '/home/labuser/Desktop/Untitled Folder/employees.csv'\n",
    "df = spark.read.option(\"header\", True).option(\"inferSchema\", True).csv('employees.csv')"
   ]
  },
  {
   "cell_type": "code",
   "execution_count": 38,
   "id": "502d703b",
   "metadata": {},
   "outputs": [],
   "source": [
    "df6 = spark.read.csv(path, header = True, inferSchema = True)"
   ]
  },
  {
   "cell_type": "code",
   "execution_count": 39,
   "id": "1b5db1aa",
   "metadata": {},
   "outputs": [
    {
     "name": "stdout",
     "output_type": "stream",
     "text": [
      "+----------+------+----------+---------------+------+-------+-----------------+--------------------+\n",
      "|First Name|Gender|Start Date|Last Login Time|Salary|Bonus %|Senior Management|                Team|\n",
      "+----------+------+----------+---------------+------+-------+-----------------+--------------------+\n",
      "|   Douglas|  Male|  8/6/1993|       12:42 PM| 97308|  6.945|             true|           Marketing|\n",
      "|    Thomas|  Male| 3/31/1996|        6:53 AM| 61933|   4.17|             true|                null|\n",
      "|     Maria|Female| 4/23/1993|       11:17 AM|130590| 11.858|            false|             Finance|\n",
      "|     Jerry|  Male|  3/4/2005|        1:00 PM|138705|   9.34|             true|             Finance|\n",
      "|     Larry|  Male| 1/24/1998|        4:47 PM|101004|  1.389|             true|     Client Services|\n",
      "|    Dennis|  Male| 4/18/1987|        1:35 AM|115163| 10.125|            false|               Legal|\n",
      "|      Ruby|Female| 8/17/1987|        4:20 PM| 65476| 10.012|             true|             Product|\n",
      "|      null|Female| 7/20/2015|       10:43 AM| 45906| 11.598|             null|             Finance|\n",
      "|    Angela|Female|11/22/2005|        6:29 AM| 95570| 18.523|             true|         Engineering|\n",
      "|   Frances|Female|  8/8/2002|        6:51 AM|139852|  7.524|             true|Business Development|\n",
      "|    Louise|Female| 8/12/1980|        9:01 AM| 63241| 15.132|             true|                null|\n",
      "|     Julie|Female|10/26/1997|        3:19 PM|102508| 12.637|             true|               Legal|\n",
      "|   Brandon|  Male| 12/1/1980|        1:08 AM|112807| 17.492|             true|     Human Resources|\n",
      "|      Gary|  Male| 1/27/2008|       11:40 PM|109831|  5.831|            false|               Sales|\n",
      "|  Kimberly|Female| 1/14/1999|        7:13 AM| 41426| 14.543|             true|             Finance|\n",
      "|   Lillian|Female|  6/5/2016|        6:09 AM| 59414|  1.256|            false|             Product|\n",
      "|    Jeremy|  Male| 9/21/2010|        5:56 AM| 90370|  7.369|            false|     Human Resources|\n",
      "|     Shawn|  Male| 12/7/1986|        7:45 PM|111737|  6.414|            false|             Product|\n",
      "|     Diana|Female|10/23/1981|       10:27 AM|132940| 19.082|            false|     Client Services|\n",
      "|     Donna|Female| 7/22/2010|        3:48 AM| 81014|  1.894|            false|             Product|\n",
      "+----------+------+----------+---------------+------+-------+-----------------+--------------------+\n",
      "only showing top 20 rows\n",
      "\n"
     ]
    }
   ],
   "source": [
    "df.show()"
   ]
  },
  {
   "cell_type": "code",
   "execution_count": 40,
   "id": "ab7dda8a",
   "metadata": {},
   "outputs": [
    {
     "name": "stdout",
     "output_type": "stream",
     "text": [
      "+----------+------+----------+---------------+------+-------+-----------------+--------------------+\n",
      "|First Name|Gender|Start Date|Last Login Time|Salary|Bonus %|Senior Management|                Team|\n",
      "+----------+------+----------+---------------+------+-------+-----------------+--------------------+\n",
      "|   Douglas|  Male|  8/6/1993|       12:42 PM| 97308|  6.945|             true|           Marketing|\n",
      "|    Thomas|  Male| 3/31/1996|        6:53 AM| 61933|   4.17|             true|                null|\n",
      "|     Maria|Female| 4/23/1993|       11:17 AM|130590| 11.858|            false|             Finance|\n",
      "|     Jerry|  Male|  3/4/2005|        1:00 PM|138705|   9.34|             true|             Finance|\n",
      "|     Larry|  Male| 1/24/1998|        4:47 PM|101004|  1.389|             true|     Client Services|\n",
      "|    Dennis|  Male| 4/18/1987|        1:35 AM|115163| 10.125|            false|               Legal|\n",
      "|      Ruby|Female| 8/17/1987|        4:20 PM| 65476| 10.012|             true|             Product|\n",
      "|      null|Female| 7/20/2015|       10:43 AM| 45906| 11.598|             null|             Finance|\n",
      "|    Angela|Female|11/22/2005|        6:29 AM| 95570| 18.523|             true|         Engineering|\n",
      "|   Frances|Female|  8/8/2002|        6:51 AM|139852|  7.524|             true|Business Development|\n",
      "|    Louise|Female| 8/12/1980|        9:01 AM| 63241| 15.132|             true|                null|\n",
      "|     Julie|Female|10/26/1997|        3:19 PM|102508| 12.637|             true|               Legal|\n",
      "|   Brandon|  Male| 12/1/1980|        1:08 AM|112807| 17.492|             true|     Human Resources|\n",
      "|      Gary|  Male| 1/27/2008|       11:40 PM|109831|  5.831|            false|               Sales|\n",
      "|  Kimberly|Female| 1/14/1999|        7:13 AM| 41426| 14.543|             true|             Finance|\n",
      "|   Lillian|Female|  6/5/2016|        6:09 AM| 59414|  1.256|            false|             Product|\n",
      "|    Jeremy|  Male| 9/21/2010|        5:56 AM| 90370|  7.369|            false|     Human Resources|\n",
      "|     Shawn|  Male| 12/7/1986|        7:45 PM|111737|  6.414|            false|             Product|\n",
      "|     Diana|Female|10/23/1981|       10:27 AM|132940| 19.082|            false|     Client Services|\n",
      "|     Donna|Female| 7/22/2010|        3:48 AM| 81014|  1.894|            false|             Product|\n",
      "+----------+------+----------+---------------+------+-------+-----------------+--------------------+\n",
      "only showing top 20 rows\n",
      "\n"
     ]
    }
   ],
   "source": [
    "df6.show()"
   ]
  },
  {
   "cell_type": "code",
   "execution_count": 41,
   "id": "8cbc4fc0",
   "metadata": {},
   "outputs": [
    {
     "name": "stdout",
     "output_type": "stream",
     "text": [
      "root\n",
      " |-- First Name: string (nullable = true)\n",
      " |-- Gender: string (nullable = true)\n",
      " |-- Start Date: string (nullable = true)\n",
      " |-- Last Login Time: string (nullable = true)\n",
      " |-- Salary: integer (nullable = true)\n",
      " |-- Bonus %: double (nullable = true)\n",
      " |-- Senior Management: boolean (nullable = true)\n",
      " |-- Team: string (nullable = true)\n",
      "\n"
     ]
    }
   ],
   "source": [
    "df6.printSchema()"
   ]
  },
  {
   "cell_type": "code",
   "execution_count": 42,
   "id": "f79d64f4",
   "metadata": {},
   "outputs": [
    {
     "data": {
      "text/plain": [
       "[('First Name', 'string'),\n",
       " ('Gender', 'string'),\n",
       " ('Start Date', 'string'),\n",
       " ('Last Login Time', 'string'),\n",
       " ('Salary', 'int'),\n",
       " ('Bonus %', 'double'),\n",
       " ('Senior Management', 'boolean'),\n",
       " ('Team', 'string')]"
      ]
     },
     "execution_count": 42,
     "metadata": {},
     "output_type": "execute_result"
    }
   ],
   "source": [
    "df.dtypes"
   ]
  },
  {
   "cell_type": "code",
   "execution_count": 43,
   "id": "e3e4109f",
   "metadata": {},
   "outputs": [
    {
     "data": {
      "text/plain": [
       "DataFrame[First Name: string, Gender: string]"
      ]
     },
     "execution_count": 43,
     "metadata": {},
     "output_type": "execute_result"
    }
   ],
   "source": [
    "df.select(\"First Name\",\"Gender\")"
   ]
  },
  {
   "cell_type": "code",
   "execution_count": 44,
   "id": "4d4ca61f",
   "metadata": {},
   "outputs": [
    {
     "name": "stdout",
     "output_type": "stream",
     "text": [
      "+--------+\n",
      "|Forename|\n",
      "+--------+\n",
      "| Douglas|\n",
      "|  Thomas|\n",
      "|   Maria|\n",
      "|   Jerry|\n",
      "|   Larry|\n",
      "|  Dennis|\n",
      "|    Ruby|\n",
      "|    null|\n",
      "|  Angela|\n",
      "| Frances|\n",
      "|  Louise|\n",
      "|   Julie|\n",
      "| Brandon|\n",
      "|    Gary|\n",
      "|Kimberly|\n",
      "| Lillian|\n",
      "|  Jeremy|\n",
      "|   Shawn|\n",
      "|   Diana|\n",
      "|   Donna|\n",
      "+--------+\n",
      "only showing top 20 rows\n",
      "\n"
     ]
    }
   ],
   "source": [
    "from pyspark.sql.functions import *\n",
    "df.select(col(\"First Name\").alias(\"Forename\")).show()\n",
    "# We can only see the column that we are trying to rename"
   ]
  },
  {
   "cell_type": "code",
   "execution_count": 45,
   "id": "06426e5f",
   "metadata": {},
   "outputs": [
    {
     "name": "stdout",
     "output_type": "stream",
     "text": [
      "+----------+------+\n",
      "|First Name|Gender|\n",
      "+----------+------+\n",
      "|   Douglas|  Male|\n",
      "|    Thomas|  Male|\n",
      "|     Maria|Female|\n",
      "|     Jerry|  Male|\n",
      "|     Larry|  Male|\n",
      "|    Dennis|  Male|\n",
      "|      Ruby|Female|\n",
      "|      null|Female|\n",
      "|    Angela|Female|\n",
      "|   Frances|Female|\n",
      "|    Louise|Female|\n",
      "|     Julie|Female|\n",
      "|   Brandon|  Male|\n",
      "|      Gary|  Male|\n",
      "|  Kimberly|Female|\n",
      "|   Lillian|Female|\n",
      "|    Jeremy|  Male|\n",
      "|     Shawn|  Male|\n",
      "|     Diana|Female|\n",
      "|     Donna|Female|\n",
      "+----------+------+\n",
      "only showing top 20 rows\n",
      "\n"
     ]
    }
   ],
   "source": [
    "df.select(\"First Name\", col(\"Gender\")).show()"
   ]
  },
  {
   "cell_type": "code",
   "execution_count": 46,
   "id": "a3b2166d",
   "metadata": {},
   "outputs": [
    {
     "name": "stdout",
     "output_type": "stream",
     "text": [
      "+----------+------+--------------------+\n",
      "|First Name|Gender|                Team|\n",
      "+----------+------+--------------------+\n",
      "|   Douglas|  Male|           Marketing|\n",
      "|    Thomas|  Male|                null|\n",
      "|     Maria|Female|             Finance|\n",
      "|     Jerry|  Male|             Finance|\n",
      "|     Larry|  Male|     Client Services|\n",
      "|    Dennis|  Male|               Legal|\n",
      "|      Ruby|Female|             Product|\n",
      "|      null|Female|             Finance|\n",
      "|    Angela|Female|         Engineering|\n",
      "|   Frances|Female|Business Development|\n",
      "|    Louise|Female|                null|\n",
      "|     Julie|Female|               Legal|\n",
      "|   Brandon|  Male|     Human Resources|\n",
      "|      Gary|  Male|               Sales|\n",
      "|  Kimberly|Female|             Finance|\n",
      "|   Lillian|Female|             Product|\n",
      "|    Jeremy|  Male|     Human Resources|\n",
      "|     Shawn|  Male|             Product|\n",
      "|     Diana|Female|     Client Services|\n",
      "|     Donna|Female|             Product|\n",
      "+----------+------+--------------------+\n",
      "only showing top 20 rows\n",
      "\n"
     ]
    }
   ],
   "source": [
    "df.select(\"First Name\", col(\"Gender\"), df[\"Team\"]).show()"
   ]
  },
  {
   "cell_type": "code",
   "execution_count": 47,
   "id": "c6878f3d",
   "metadata": {},
   "outputs": [
    {
     "name": "stdout",
     "output_type": "stream",
     "text": [
      "+--------+------+----------+---------------+------+-------+-----------------+--------------------+\n",
      "|    Name|Gender|Start Date|Last Login Time|Salary|Bonus %|Senior Management|                Team|\n",
      "+--------+------+----------+---------------+------+-------+-----------------+--------------------+\n",
      "| Douglas|  Male|  8/6/1993|       12:42 PM| 97308|  6.945|             true|           Marketing|\n",
      "|  Thomas|  Male| 3/31/1996|        6:53 AM| 61933|   4.17|             true|                null|\n",
      "|   Maria|Female| 4/23/1993|       11:17 AM|130590| 11.858|            false|             Finance|\n",
      "|   Jerry|  Male|  3/4/2005|        1:00 PM|138705|   9.34|             true|             Finance|\n",
      "|   Larry|  Male| 1/24/1998|        4:47 PM|101004|  1.389|             true|     Client Services|\n",
      "|  Dennis|  Male| 4/18/1987|        1:35 AM|115163| 10.125|            false|               Legal|\n",
      "|    Ruby|Female| 8/17/1987|        4:20 PM| 65476| 10.012|             true|             Product|\n",
      "|    null|Female| 7/20/2015|       10:43 AM| 45906| 11.598|             null|             Finance|\n",
      "|  Angela|Female|11/22/2005|        6:29 AM| 95570| 18.523|             true|         Engineering|\n",
      "| Frances|Female|  8/8/2002|        6:51 AM|139852|  7.524|             true|Business Development|\n",
      "|  Louise|Female| 8/12/1980|        9:01 AM| 63241| 15.132|             true|                null|\n",
      "|   Julie|Female|10/26/1997|        3:19 PM|102508| 12.637|             true|               Legal|\n",
      "| Brandon|  Male| 12/1/1980|        1:08 AM|112807| 17.492|             true|     Human Resources|\n",
      "|    Gary|  Male| 1/27/2008|       11:40 PM|109831|  5.831|            false|               Sales|\n",
      "|Kimberly|Female| 1/14/1999|        7:13 AM| 41426| 14.543|             true|             Finance|\n",
      "| Lillian|Female|  6/5/2016|        6:09 AM| 59414|  1.256|            false|             Product|\n",
      "|  Jeremy|  Male| 9/21/2010|        5:56 AM| 90370|  7.369|            false|     Human Resources|\n",
      "|   Shawn|  Male| 12/7/1986|        7:45 PM|111737|  6.414|            false|             Product|\n",
      "|   Diana|Female|10/23/1981|       10:27 AM|132940| 19.082|            false|     Client Services|\n",
      "|   Donna|Female| 7/22/2010|        3:48 AM| 81014|  1.894|            false|             Product|\n",
      "+--------+------+----------+---------------+------+-------+-----------------+--------------------+\n",
      "only showing top 20 rows\n",
      "\n"
     ]
    }
   ],
   "source": [
    "df.withColumnRenamed(\"First Name\", \"Name\").show()\n",
    "\n",
    "## We can see the whole dataframe here"
   ]
  },
  {
   "cell_type": "code",
   "execution_count": 48,
   "id": "12d9565d",
   "metadata": {},
   "outputs": [
    {
     "name": "stdout",
     "output_type": "stream",
     "text": [
      "root\n",
      " |-- First Name: string (nullable = true)\n",
      " |-- Gender: string (nullable = true)\n",
      " |-- Start Date: string (nullable = true)\n",
      " |-- Last Login Time: string (nullable = true)\n",
      " |-- Salary: integer (nullable = true)\n",
      " |-- Bonus %: double (nullable = true)\n",
      " |-- Senior Management: boolean (nullable = true)\n",
      " |-- Team: string (nullable = true)\n",
      "\n"
     ]
    }
   ],
   "source": [
    "df.printSchema()"
   ]
  },
  {
   "cell_type": "code",
   "execution_count": 49,
   "id": "8d49fefb",
   "metadata": {},
   "outputs": [
    {
     "name": "stdout",
     "output_type": "stream",
     "text": [
      "+-------------------+\n",
      "|        Date & Time|\n",
      "+-------------------+\n",
      "|  8/6/1993 12:42 PM|\n",
      "|  3/31/1996 6:53 AM|\n",
      "| 4/23/1993 11:17 AM|\n",
      "|   3/4/2005 1:00 PM|\n",
      "|  1/24/1998 4:47 PM|\n",
      "|  4/18/1987 1:35 AM|\n",
      "|  8/17/1987 4:20 PM|\n",
      "| 7/20/2015 10:43 AM|\n",
      "| 11/22/2005 6:29 AM|\n",
      "|   8/8/2002 6:51 AM|\n",
      "|  8/12/1980 9:01 AM|\n",
      "| 10/26/1997 3:19 PM|\n",
      "|  12/1/1980 1:08 AM|\n",
      "| 1/27/2008 11:40 PM|\n",
      "|  1/14/1999 7:13 AM|\n",
      "|   6/5/2016 6:09 AM|\n",
      "|  9/21/2010 5:56 AM|\n",
      "|  12/7/1986 7:45 PM|\n",
      "|10/23/1981 10:27 AM|\n",
      "|  7/22/2010 3:48 AM|\n",
      "+-------------------+\n",
      "only showing top 20 rows\n",
      "\n"
     ]
    }
   ],
   "source": [
    "df.select(concat(\"Start Date\", lit(\" \"),\"Last Login Time\",).alias(\"Date & Time\")).show()\n",
    "# Use pySpark Functions inside DataFrame Functions\n",
    "\n",
    "# DataFrame functions are used like df.functionName() - Ususally in camelCase\n",
    "#PySpark Functions can be called inside DataFrame Functions"
   ]
  },
  {
   "cell_type": "code",
   "execution_count": 50,
   "id": "bfaaf02e",
   "metadata": {},
   "outputs": [],
   "source": [
    "df_final  = df.drop(\"Start Date\", \"Last Login Time\")"
   ]
  },
  {
   "cell_type": "code",
   "execution_count": 52,
   "id": "ffaa13dd",
   "metadata": {},
   "outputs": [],
   "source": [
    "df_final.write.csv(\"/home/labuser/Desktop/Untitled Folder/Final_employees2.csv\")"
   ]
  },
  {
   "cell_type": "code",
   "execution_count": 53,
   "id": "630cfde0",
   "metadata": {},
   "outputs": [],
   "source": [
    "from pyspark.sql.types import *"
   ]
  },
  {
   "cell_type": "code",
   "execution_count": 55,
   "id": "f8947d5c",
   "metadata": {},
   "outputs": [],
   "source": [
    "data = [(1,'a', 30), (2, \"b\", 66)]\n",
    "\n",
    "userSchema = StructType([StructField(\"id\", IntegerType()),\n",
    "                        StructField(\"name\", StringType()),\n",
    "                        StructField(\"age\", IntegerType())])\n",
    "\n",
    "df = spark.createDataFrame(data, userSchema)"
   ]
  },
  {
   "cell_type": "code",
   "execution_count": 56,
   "id": "724bd4c6",
   "metadata": {},
   "outputs": [
    {
     "data": {
      "text/plain": [
       "DataFrame[id: int, name: string, age: int]"
      ]
     },
     "execution_count": 56,
     "metadata": {},
     "output_type": "execute_result"
    }
   ],
   "source": [
    "df"
   ]
  },
  {
   "cell_type": "code",
   "execution_count": null,
   "id": "a6bae22e",
   "metadata": {},
   "outputs": [],
   "source": []
  }
 ],
 "metadata": {
  "kernelspec": {
   "display_name": "Python 3 (ipykernel)",
   "language": "python",
   "name": "python3"
  },
  "language_info": {
   "codemirror_mode": {
    "name": "ipython",
    "version": 3
   },
   "file_extension": ".py",
   "mimetype": "text/x-python",
   "name": "python",
   "nbconvert_exporter": "python",
   "pygments_lexer": "ipython3",
   "version": "3.11.4"
  }
 },
 "nbformat": 4,
 "nbformat_minor": 5
}
