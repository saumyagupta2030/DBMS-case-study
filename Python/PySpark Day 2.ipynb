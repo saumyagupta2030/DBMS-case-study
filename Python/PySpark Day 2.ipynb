{
 "cells": [
  {
   "cell_type": "code",
   "execution_count": 1,
   "id": "3414c38c",
   "metadata": {},
   "outputs": [
    {
     "name": "stderr",
     "output_type": "stream",
     "text": [
      "Setting default log level to \"WARN\".\n",
      "To adjust logging level use sc.setLogLevel(newLevel). For SparkR, use setLogLevel(newLevel).\n",
      "23/09/22 05:58:51 WARN NativeCodeLoader: Unable to load native-hadoop library for your platform... using builtin-java classes where applicable\n",
      "23/09/22 05:58:53 WARN Utils: Service 'SparkUI' could not bind on port 4040. Attempting port 4041.\n"
     ]
    }
   ],
   "source": [
    "import pyspark\n",
    "import findspark\n",
    "findspark.init('/opt/anaconda3/lib/python3.11/site-packages/pyspark')\n",
    "from pyspark import SparkContext\n",
    "from pyspark.sql.types import *\n",
    "# pyspark.__version__\n",
    "\n",
    "conf=pyspark.SparkConf().setMaster('local').setAppName(\"first\")\n",
    "sc = SparkContext(conf = conf)"
   ]
  },
  {
   "cell_type": "code",
   "execution_count": 2,
   "id": "71e03f1b",
   "metadata": {},
   "outputs": [],
   "source": [
    "sc.stop()"
   ]
  },
  {
   "cell_type": "code",
   "execution_count": 3,
   "id": "c7d69fec",
   "metadata": {},
   "outputs": [
    {
     "name": "stderr",
     "output_type": "stream",
     "text": [
      "23/09/22 05:58:54 WARN Utils: Service 'SparkUI' could not bind on port 4040. Attempting port 4041.\n"
     ]
    }
   ],
   "source": [
    "#Create a session\n",
    "from pyspark.sql import SparkSession\n",
    "spark = SparkSession.builder.appName(\"Example\").getOrCreate()"
   ]
  },
  {
   "cell_type": "code",
   "execution_count": 4,
   "id": "cfc47449",
   "metadata": {},
   "outputs": [],
   "source": [
    "data = [(1,'a', 30), (2, \"b\", 66)]\n",
    "userSchema = StructType([StructField(\"id\", IntegerType()),\n",
    "                        StructField(\"name\", StringType()),\n",
    "                        StructField(\"age\", IntegerType())])\n",
    "\n",
    "df = spark.createDataFrame(data, userSchema)"
   ]
  },
  {
   "cell_type": "code",
   "execution_count": 5,
   "id": "97dd6afd",
   "metadata": {},
   "outputs": [
    {
     "name": "stderr",
     "output_type": "stream",
     "text": [
      "\r",
      "[Stage 0:>                                                          (0 + 1) / 1]\r"
     ]
    },
    {
     "name": "stdout",
     "output_type": "stream",
     "text": [
      "+---+----+---+\n",
      "| id|name|age|\n",
      "+---+----+---+\n",
      "|  1|   a| 30|\n",
      "|  2|   b| 66|\n",
      "+---+----+---+\n",
      "\n"
     ]
    },
    {
     "name": "stderr",
     "output_type": "stream",
     "text": [
      "\r",
      "[Stage 0:===========================================================(1 + 0) / 1]\r",
      "\r",
      "                                                                                \r"
     ]
    }
   ],
   "source": [
    "df.show()"
   ]
  },
  {
   "cell_type": "code",
   "execution_count": 6,
   "id": "9bf16390",
   "metadata": {},
   "outputs": [],
   "source": [
    "data2 = [\n",
    "    (1, \"Alice\", [\"Reading\", \"Hiking\"]),\n",
    "    (2, \"Bob\", [\"Swimming\", \"Gardening\", \"Painting\"]),\n",
    "    (3, \"Charlie\", [\"Cooking\"]),\n",
    "    (4, \"David\", [\"Photography\", \"Skiing\", \"Cooking\"])\n",
    "]"
   ]
  },
  {
   "cell_type": "code",
   "execution_count": 7,
   "id": "fa1cddce",
   "metadata": {},
   "outputs": [],
   "source": [
    "schema2 = StructType([\n",
    "    StructField(\"id\", IntegerType(), True),\n",
    "    StructField(\"name\", StringType(), True),\n",
    "    StructField(\"hobbies\", ArrayType(StringType(), True), True)\n",
    "])\n",
    "\n",
    "\n",
    "df2 = spark.createDataFrame(data2, schema2)"
   ]
  },
  {
   "cell_type": "code",
   "execution_count": 8,
   "id": "6214bf3e",
   "metadata": {},
   "outputs": [
    {
     "name": "stdout",
     "output_type": "stream",
     "text": [
      "+---+-------+--------------------+\n",
      "| id|   name|             hobbies|\n",
      "+---+-------+--------------------+\n",
      "|  1|  Alice|   [Reading, Hiking]|\n",
      "|  2|    Bob|[Swimming, Garden...|\n",
      "|  3|Charlie|           [Cooking]|\n",
      "|  4|  David|[Photography, Ski...|\n",
      "+---+-------+--------------------+\n",
      "\n"
     ]
    }
   ],
   "source": [
    "df2.show()"
   ]
  },
  {
   "cell_type": "code",
   "execution_count": 9,
   "id": "c77f0759",
   "metadata": {},
   "outputs": [],
   "source": [
    "from pyspark.sql.functions import *\n",
    "df3 = df2.select(\"id\", \"name\", explode(\"hobbies\").alias(\"hobby\"))"
   ]
  },
  {
   "cell_type": "code",
   "execution_count": 10,
   "id": "1448b89d",
   "metadata": {},
   "outputs": [
    {
     "name": "stdout",
     "output_type": "stream",
     "text": [
      "+---+-------+-----------+\n",
      "| id|   name|      hobby|\n",
      "+---+-------+-----------+\n",
      "|  1|  Alice|    Reading|\n",
      "|  1|  Alice|     Hiking|\n",
      "|  2|    Bob|   Swimming|\n",
      "|  2|    Bob|  Gardening|\n",
      "|  2|    Bob|   Painting|\n",
      "|  3|Charlie|    Cooking|\n",
      "|  4|  David|Photography|\n",
      "|  4|  David|     Skiing|\n",
      "|  4|  David|    Cooking|\n",
      "+---+-------+-----------+\n",
      "\n"
     ]
    }
   ],
   "source": [
    "df3.show()"
   ]
  },
  {
   "cell_type": "code",
   "execution_count": 11,
   "id": "8a49d39b",
   "metadata": {},
   "outputs": [
    {
     "name": "stdout",
     "output_type": "stream",
     "text": [
      "+---+-------+--------------------+-----------+\n",
      "| id|   name|             hobbies|   newHobby|\n",
      "+---+-------+--------------------+-----------+\n",
      "|  1|  Alice|   [Reading, Hiking]|    Reading|\n",
      "|  1|  Alice|   [Reading, Hiking]|     Hiking|\n",
      "|  2|    Bob|[Swimming, Garden...|   Swimming|\n",
      "|  2|    Bob|[Swimming, Garden...|  Gardening|\n",
      "|  2|    Bob|[Swimming, Garden...|   Painting|\n",
      "|  3|Charlie|           [Cooking]|    Cooking|\n",
      "|  4|  David|[Photography, Ski...|Photography|\n",
      "|  4|  David|[Photography, Ski...|     Skiing|\n",
      "|  4|  David|[Photography, Ski...|    Cooking|\n",
      "+---+-------+--------------------+-----------+\n",
      "\n"
     ]
    }
   ],
   "source": [
    "df3 = df2.withColumn(\"newHobby\", explode(\"hobbies\"))\n",
    "df3.show()"
   ]
  },
  {
   "cell_type": "code",
   "execution_count": 12,
   "id": "d9252144",
   "metadata": {},
   "outputs": [],
   "source": [
    "df4 = df3.withColumn(\"Ingestion Time\", current_timestamp())"
   ]
  },
  {
   "cell_type": "code",
   "execution_count": 13,
   "id": "48658c97",
   "metadata": {},
   "outputs": [
    {
     "name": "stdout",
     "output_type": "stream",
     "text": [
      "+---+-------+-------------------------------+-----------+\n",
      "|id |name   |hobbies                        |newHobby   |\n",
      "+---+-------+-------------------------------+-----------+\n",
      "|1  |Alice  |[Reading, Hiking]              |Reading    |\n",
      "|1  |Alice  |[Reading, Hiking]              |Hiking     |\n",
      "|2  |Bob    |[Swimming, Gardening, Painting]|Swimming   |\n",
      "|2  |Bob    |[Swimming, Gardening, Painting]|Gardening  |\n",
      "|2  |Bob    |[Swimming, Gardening, Painting]|Painting   |\n",
      "|3  |Charlie|[Cooking]                      |Cooking    |\n",
      "|4  |David  |[Photography, Skiing, Cooking] |Photography|\n",
      "|4  |David  |[Photography, Skiing, Cooking] |Skiing     |\n",
      "|4  |David  |[Photography, Skiing, Cooking] |Cooking    |\n",
      "+---+-------+-------------------------------+-----------+\n",
      "\n"
     ]
    }
   ],
   "source": [
    "df3.show(truncate = False)"
   ]
  },
  {
   "cell_type": "markdown",
   "id": "b092e9f1",
   "metadata": {},
   "source": [
    "### Constructors Case Study"
   ]
  },
  {
   "cell_type": "code",
   "execution_count": 15,
   "id": "332bdcb3",
   "metadata": {},
   "outputs": [
    {
     "name": "stdout",
     "output_type": "stream",
     "text": [
      "+-------------+--------------+-----------+-----------+--------------------+\n",
      "|constructorId|constructorRef|       name|nationality|                 url|\n",
      "+-------------+--------------+-----------+-----------+--------------------+\n",
      "|            1|       mclaren|    McLaren|    British|http://en.wikiped...|\n",
      "|            2|    bmw_sauber| BMW Sauber|     German|http://en.wikiped...|\n",
      "|            3|      williams|   Williams|    British|http://en.wikiped...|\n",
      "|            4|       renault|    Renault|     French|http://en.wikiped...|\n",
      "|            5|    toro_rosso| Toro Rosso|    Italian|http://en.wikiped...|\n",
      "|            6|       ferrari|    Ferrari|    Italian|http://en.wikiped...|\n",
      "|            7|        toyota|     Toyota|   Japanese|http://en.wikiped...|\n",
      "|            8|   super_aguri|Super Aguri|   Japanese|http://en.wikiped...|\n",
      "|            9|      red_bull|   Red Bull|   Austrian|http://en.wikiped...|\n",
      "|           10|   force_india|Force India|     Indian|http://en.wikiped...|\n",
      "|           11|         honda|      Honda|   Japanese|http://en.wikiped...|\n",
      "|           12|        spyker|     Spyker|      Dutch|http://en.wikiped...|\n",
      "|           13|           mf1|        MF1|    Russian|http://en.wikiped...|\n",
      "|           14|    spyker_mf1| Spyker MF1|      Dutch|http://en.wikiped...|\n",
      "|           15|        sauber|     Sauber|      Swiss|http://en.wikiped...|\n",
      "|           16|           bar|        BAR|    British|http://en.wikiped...|\n",
      "|           17|        jordan|     Jordan|      Irish|http://en.wikiped...|\n",
      "|           18|       minardi|    Minardi|    Italian|http://en.wikiped...|\n",
      "|           19|        jaguar|     Jaguar|    British|http://en.wikiped...|\n",
      "|           20|         prost|      Prost|     French|http://en.wikiped...|\n",
      "+-------------+--------------+-----------+-----------+--------------------+\n",
      "only showing top 20 rows\n",
      "\n"
     ]
    }
   ],
   "source": [
    "path = \"/home/labuser/Desktop/Python/constructors.json\"\n",
    "df = spark.read.json(path)\n",
    "df.show()"
   ]
  },
  {
   "cell_type": "code",
   "execution_count": 17,
   "id": "137db64b",
   "metadata": {},
   "outputs": [
    {
     "name": "stdout",
     "output_type": "stream",
     "text": [
      "+-------------+--------------+-----------+-----------+--------------------+--------------------+--------------------+\n",
      "|constructorId|constructorRef|       name|nationality|                 url|      Ingestion Time|                path|\n",
      "+-------------+--------------+-----------+-----------+--------------------+--------------------+--------------------+\n",
      "|            1|       mclaren|    McLaren|    British|http://en.wikiped...|2023-09-22 05:59:...|file:///home/labu...|\n",
      "|            2|    bmw_sauber| BMW Sauber|     German|http://en.wikiped...|2023-09-22 05:59:...|file:///home/labu...|\n",
      "|            3|      williams|   Williams|    British|http://en.wikiped...|2023-09-22 05:59:...|file:///home/labu...|\n",
      "|            4|       renault|    Renault|     French|http://en.wikiped...|2023-09-22 05:59:...|file:///home/labu...|\n",
      "|            5|    toro_rosso| Toro Rosso|    Italian|http://en.wikiped...|2023-09-22 05:59:...|file:///home/labu...|\n",
      "|            6|       ferrari|    Ferrari|    Italian|http://en.wikiped...|2023-09-22 05:59:...|file:///home/labu...|\n",
      "|            7|        toyota|     Toyota|   Japanese|http://en.wikiped...|2023-09-22 05:59:...|file:///home/labu...|\n",
      "|            8|   super_aguri|Super Aguri|   Japanese|http://en.wikiped...|2023-09-22 05:59:...|file:///home/labu...|\n",
      "|            9|      red_bull|   Red Bull|   Austrian|http://en.wikiped...|2023-09-22 05:59:...|file:///home/labu...|\n",
      "|           10|   force_india|Force India|     Indian|http://en.wikiped...|2023-09-22 05:59:...|file:///home/labu...|\n",
      "|           11|         honda|      Honda|   Japanese|http://en.wikiped...|2023-09-22 05:59:...|file:///home/labu...|\n",
      "|           12|        spyker|     Spyker|      Dutch|http://en.wikiped...|2023-09-22 05:59:...|file:///home/labu...|\n",
      "|           13|           mf1|        MF1|    Russian|http://en.wikiped...|2023-09-22 05:59:...|file:///home/labu...|\n",
      "|           14|    spyker_mf1| Spyker MF1|      Dutch|http://en.wikiped...|2023-09-22 05:59:...|file:///home/labu...|\n",
      "|           15|        sauber|     Sauber|      Swiss|http://en.wikiped...|2023-09-22 05:59:...|file:///home/labu...|\n",
      "|           16|           bar|        BAR|    British|http://en.wikiped...|2023-09-22 05:59:...|file:///home/labu...|\n",
      "|           17|        jordan|     Jordan|      Irish|http://en.wikiped...|2023-09-22 05:59:...|file:///home/labu...|\n",
      "|           18|       minardi|    Minardi|    Italian|http://en.wikiped...|2023-09-22 05:59:...|file:///home/labu...|\n",
      "|           19|        jaguar|     Jaguar|    British|http://en.wikiped...|2023-09-22 05:59:...|file:///home/labu...|\n",
      "|           20|         prost|      Prost|     French|http://en.wikiped...|2023-09-22 05:59:...|file:///home/labu...|\n",
      "+-------------+--------------+-----------+-----------+--------------------+--------------------+--------------------+\n",
      "only showing top 20 rows\n",
      "\n"
     ]
    }
   ],
   "source": [
    "df2 = df.withColumn(\"Ingestion Time\", current_timestamp()).withColumn(\"path\", input_file_name()).show()"
   ]
  },
  {
   "cell_type": "code",
   "execution_count": 18,
   "id": "8bd6a7f1",
   "metadata": {},
   "outputs": [],
   "source": [
    "df_final = df.withColumn(\"Ingestion Time\", current_timestamp()).withColumn(\"path\", input_file_name()).drop(\"url\")"
   ]
  },
  {
   "cell_type": "code",
   "execution_count": 19,
   "id": "406aa7f6",
   "metadata": {},
   "outputs": [
    {
     "name": "stdout",
     "output_type": "stream",
     "text": [
      "+-------------+--------------+-----------+-----------+--------------------+--------------------+\n",
      "|constructorId|constructorRef|       name|nationality|      Ingestion Time|                path|\n",
      "+-------------+--------------+-----------+-----------+--------------------+--------------------+\n",
      "|            1|       mclaren|    McLaren|    British|2023-09-22 05:59:...|file:///home/labu...|\n",
      "|            2|    bmw_sauber| BMW Sauber|     German|2023-09-22 05:59:...|file:///home/labu...|\n",
      "|            3|      williams|   Williams|    British|2023-09-22 05:59:...|file:///home/labu...|\n",
      "|            4|       renault|    Renault|     French|2023-09-22 05:59:...|file:///home/labu...|\n",
      "|            5|    toro_rosso| Toro Rosso|    Italian|2023-09-22 05:59:...|file:///home/labu...|\n",
      "|            6|       ferrari|    Ferrari|    Italian|2023-09-22 05:59:...|file:///home/labu...|\n",
      "|            7|        toyota|     Toyota|   Japanese|2023-09-22 05:59:...|file:///home/labu...|\n",
      "|            8|   super_aguri|Super Aguri|   Japanese|2023-09-22 05:59:...|file:///home/labu...|\n",
      "|            9|      red_bull|   Red Bull|   Austrian|2023-09-22 05:59:...|file:///home/labu...|\n",
      "|           10|   force_india|Force India|     Indian|2023-09-22 05:59:...|file:///home/labu...|\n",
      "|           11|         honda|      Honda|   Japanese|2023-09-22 05:59:...|file:///home/labu...|\n",
      "|           12|        spyker|     Spyker|      Dutch|2023-09-22 05:59:...|file:///home/labu...|\n",
      "|           13|           mf1|        MF1|    Russian|2023-09-22 05:59:...|file:///home/labu...|\n",
      "|           14|    spyker_mf1| Spyker MF1|      Dutch|2023-09-22 05:59:...|file:///home/labu...|\n",
      "|           15|        sauber|     Sauber|      Swiss|2023-09-22 05:59:...|file:///home/labu...|\n",
      "|           16|           bar|        BAR|    British|2023-09-22 05:59:...|file:///home/labu...|\n",
      "|           17|        jordan|     Jordan|      Irish|2023-09-22 05:59:...|file:///home/labu...|\n",
      "|           18|       minardi|    Minardi|    Italian|2023-09-22 05:59:...|file:///home/labu...|\n",
      "|           19|        jaguar|     Jaguar|    British|2023-09-22 05:59:...|file:///home/labu...|\n",
      "|           20|         prost|      Prost|     French|2023-09-22 05:59:...|file:///home/labu...|\n",
      "+-------------+--------------+-----------+-----------+--------------------+--------------------+\n",
      "only showing top 20 rows\n",
      "\n"
     ]
    }
   ],
   "source": [
    "df_final.show()"
   ]
  },
  {
   "cell_type": "code",
   "execution_count": 21,
   "id": "85f8d402",
   "metadata": {},
   "outputs": [
    {
     "name": "stderr",
     "output_type": "stream",
     "text": [
      "                                                                                \r"
     ]
    }
   ],
   "source": [
    "df_final.write.mode(\"overwrite\").parquet(\"/home/labuser/Desktop/Python/Processed Data/Constructor/constructors_parquet\")"
   ]
  },
  {
   "cell_type": "code",
   "execution_count": 22,
   "id": "353b1a5f",
   "metadata": {},
   "outputs": [],
   "source": [
    "df_final.write.saveAsTable(\"Constructors\")"
   ]
  },
  {
   "cell_type": "code",
   "execution_count": 24,
   "id": "f62f90a9",
   "metadata": {},
   "outputs": [],
   "source": [
    "df_final.write.option(\"path\", \"/home/labuser/Desktop/Python/Processed Data/Constructor Table\").saveAsTable(\"constructor_table\")"
   ]
  },
  {
   "cell_type": "code",
   "execution_count": null,
   "id": "75838a46",
   "metadata": {},
   "outputs": [],
   "source": []
  }
 ],
 "metadata": {
  "kernelspec": {
   "display_name": "Python 3 (ipykernel)",
   "language": "python",
   "name": "python3"
  },
  "language_info": {
   "codemirror_mode": {
    "name": "ipython",
    "version": 3
   },
   "file_extension": ".py",
   "mimetype": "text/x-python",
   "name": "python",
   "nbconvert_exporter": "python",
   "pygments_lexer": "ipython3",
   "version": "3.11.4"
  }
 },
 "nbformat": 4,
 "nbformat_minor": 5
}
